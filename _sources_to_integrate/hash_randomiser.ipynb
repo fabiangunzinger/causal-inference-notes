{
 "cells": [
  {
   "cell_type": "markdown",
   "metadata": {},
   "source": [
    "# Hash-randomiser scoping"
   ]
  },
  {
   "cell_type": "markdown",
   "metadata": {},
   "source": [
    "## Background"
   ]
  },
  {
   "cell_type": "markdown",
   "metadata": {},
   "source": [
    "### Issue description \n",
    "\n",
    "- Research deterministic (scope - permanent store) hashing methodology of `experiment key`, `unit_identifier` (& `timeframe`\\ in switchback case) that we can apply. ([Kanban issue](https://justeattakeaway.atlassian.net/browse/TEX-1501))\n",
    "\n",
    "- We currently use `np.random.choice` with a seed, which produces stable treatment assignments based on the position in an array, but not based on a unit identifiers.\n",
    "\n",
    "- This is a problem if we re-randomise with a different pool of units (e.g. if we add additional units) because it doesn't guarantee that original units are re-allocated to the same treatment."
   ]
  },
  {
   "cell_type": "markdown",
   "metadata": {},
   "source": [
    "### Requirements of a good randomisation algorithm \n",
    "\n",
    "- Essential:\n",
    "\n",
    "    1. Equal probability of seeing each treatment\n",
    "\n",
    "    2. Consistent assignment on repeat assignements\n",
    "\n",
    "    3. No correlation in assignment between overlapping experiments\n",
    "\n",
    "- Desireable:\n",
    "\n",
    "    4. Support of monotonic ramp-up so we can add new users without changing assignment of users already in the experiment\n",
    "\n",
    "    5. Support of external control, so units can manually be allocated to certain assignments\n",
    "    \n",
    "- Based on [kohavi2009controlled](https://ai.stanford.edu/~ronnyk/2009controlledExperimentsOnTheWebSurvey.pdf)"
   ]
  },
  {
   "cell_type": "markdown",
   "metadata": {},
   "source": [
    "### Common industry solutions\n",
    "\n",
    "- There are two solutions that are generally considered (see [kohavi2009controlled](https://ai.stanford.edu/~ronnyk/2009controlledExperimentsOnTheWebSurvey.pdf) for a good discussion of pros and cons of the two approaches):\n",
    "    \n",
    "    1. A pseudorandom number generator with caching\n",
    "    \n",
    "    2. A (suitable) hash algorithm with partitioning \n",
    "\n",
    "- Most companies seem to rely on option 2, which is much simpler to implement ([mojito](https://mojito.mx/docs/example-hash-function-split-test-assignment), [kohavi2009controlled](https://ai.stanford.edu/~ronnyk/2009controlledExperimentsOnTheWebSurvey.pdf))\n",
    "\n",
    "- The main benefit of hashing over caching is that we don't have to keep track of assignments by storing them in a table and possibly sharing them accross applications, but can generate and regenerate assignments efficiently and cheaply.\n",
    "\n",
    "- The process works as follows:\n",
    "\n",
    "    1. Create a unique id string (e.g. concatenate unit_key and experiment_key)\n",
    "    \n",
    "    2. Use that unique id as input to a \"suitable\" hash function to generate a hash value\n",
    "    \n",
    "    3. Allocate unit to treatment based on that hash value (i.e. for a simple two-variant experiment, split the range of possible hash-values into two segments [min, mid), [mid, max], then allocate units to treatment according to what segment hash value falls into)\n",
    "    \n",
    "\n",
    "- For a hash algorithm to be \"suitable\", it needs to have properties that guarantee at least the first three requirements of a good randomisation algorithm from above:\n",
    "\n",
    "    1. Produce hash values that are uniformly distributed on a fixed interval (for property 1)\n",
    "    \n",
    "    2. Be deterministic, so that the same input always returns the same hash value (for properties 2 and 4)\n",
    "     \n",
    "    3. Be platform independent, so that it returns the same hash value for a given string on all platforms (for properties 2 and 4)\n",
    "    \n",
    "    4. Return a value that differs significantly and in unpredictable ways for a small change in the input string ([avalanche effect](https://en.wikipedia.org/wiki/Avalanche_effect), for property 3) \n",
    "\n",
    "- A few different such algorithms are used in practice\n",
    "\n",
    "    - [kohavi2007practical (Microsoft)](https://ai.stanford.edu/~ronnyk/2007GuideControlledExperiments.pdf) suggest using MD5 hash function, pointing out that many other algorithms fail to meet one of the four requirements (often 3).\n",
    "    \n",
    "    - JET FM also uses MD5 ([code](https://github.je-labs.com/experimentation-platform/FeatureManagement_Portal/blob/26d745f072d67df6ca494a7c0584bac07040d9bf/src/JET.FeatureManagement.Client/Evaluation/IdHashVariantSelector.cs#L29), [docs](https://github.je-labs.com/experimentation-platform/documentation/blob/master/specifications/feature-management-config/FeatureConfig.md)).\n",
    "    \n",
    "    - [optimizely](https://docs.developers.optimizely.com/full-stack/docs/how-bucketing-works) uses MurmurHash.\n",
    "    \n",
    "    - [This article](https://medium.com/@thisisflea/a-good-hash-is-hard-to-find-6edbbf6a78b0) also suggests using MurmurHash.\n",
    "    "
   ]
  },
  {
   "cell_type": "markdown",
   "metadata": {},
   "source": [
    "## `matching-toolbox` implementation"
   ]
  },
  {
   "cell_type": "markdown",
   "metadata": {},
   "source": [
    "### Requirements for randomisation algorithm\n",
    "\n",
    "We need all 5 of the above requirements of a good randomisation algorithm:\n",
    "\n",
    "1. Equal probability of seeing each treatment\n",
    "\n",
    "2. Consistent assignment on repeat assignements\n",
    "\n",
    "3. No correlation in assignment between overlapping experiments\n",
    "\n",
    "4. Support of monotonic ramp-up so we can add new users without changing assignment of users already in the experiment\n",
    "\n",
    "5. Support of external control, so units can manually be allocated to certain assignments\n",
    "\n",
    "Additional requirements given our use-cases and workflow:\n",
    "\n",
    "6. Support for multi-treatment experiments\n",
    "\n",
    "7. Support for user-supplied allocation shares\n",
    "\n",
    "8. Support for generation of multiple allocations to select the best (most balanced) one"
   ]
  },
  {
   "cell_type": "markdown",
   "metadata": {},
   "source": [
    "### Use cases we need to support\n",
    "\n",
    "Assignment mechanisms:\n",
    "\n",
    "- Bernoulli trials / completely randomised expriments\n",
    "\n",
    "- Stratified randomised experiments\n",
    "\n",
    "- Switchback experiments\n",
    "\n",
    "Scenarios:\n",
    "\n",
    "- Plain-vanilla\n",
    "\n",
    "- Monotonic ramp-up\n",
    "\n",
    "- Manual control\n",
    "\n",
    "\n",
    "Overview:\n",
    "\n",
    "| Assignment mechanism / scenario   | Plain-vanilla | Monotonic ramp-up  | Manual control |\n",
    "| ---        |    ----   |          --- | --- |\n",
    "| **Completely randomised**      |        |   |   |\n",
    "| **Stratified**   |        |      |   |\n",
    "| **Switchback - deterministic**   |         |      |   |\n",
    "| **Switchback - rerandomised**   |         |       |   |\n",
    "\n",
    "(Note: We can think of the number of variants and corrensponding allocation shares as a third dimension, but if we implement the allocation function such that it is agnostic to the number of variants and allocation shares, then we don't need to worry about that.)"
   ]
  },
  {
   "cell_type": "markdown",
   "metadata": {
    "tags": []
   },
   "source": [
    "### Completely randomised experiments"
   ]
  },
  {
   "cell_type": "markdown",
   "metadata": {},
   "source": [
    "#### Plain vanilla\n",
    "\n",
    "- If we choose a hash-algorithm that meets the above requirements, we can do the following:\n",
    "\n",
    "    - Partition the range of possible hash values into as many segments as there are variants, with the length of each segment proportional to the desired allocation share (either equal or user supplied) of the corresponding variant.\n",
    "    \n",
    "    - For each unit, concatenate `experiment_key`, `unit_identifier`, and `random_seed` to create a `hash_key` (we might need other elements such as \"culture\" in the key, but these can easily be added)\n",
    "    \n",
    "    - Feed the `hash_key` into the hashing algorithm to get a hash value\n",
    "    \n",
    "    - Allocate the unit to a variant based on what segment of the possible hash-value range the hash value falls into \n",
    "\n",
    "\n",
    "- This meets all our requirements because:\n",
    "    \n",
    "    1. Equal p for each treatment - hash values are distributed uniformly across the range of possible values\n",
    "\n",
    "    2. Stable assignments across re-randomisations - hash values will be the same for a given `hash_key`\n",
    "\n",
    "    3. Uncorrelated assignments across experiments - a different experiment id will create an unpredictable change in the hash value\n",
    "\n",
    "    4. Support for monotonic ramp-up - the `hash_key`, and thus the hash value, and thus the treatment allocation, are independent of other units in the experiment\n",
    "\n",
    "    5. Support for manual control - not handled by hashing, but as done presently by adding an additional \"diagnostic\" check when selecting valid candidate allocations\n",
    "\n",
    "    6. Support for multi-treatment experiments - can partition range of hash values into as many segments as there are variants\n",
    "\n",
    "    7. Support for user-supplied allocation shares - can create segments with lengths proportional to allocation shares\n",
    "\n",
    "    8. Support for generation of multiple allocations to select the best (most balanced) one - adding seed to `hash_key` allows for generation of different allocations and ensures we can reproduce any one of them (if we have the seed).\n",
    "    \n",
    "- Below shows a proof-of concept implementation using Google's `farmhash.fingerprint64` algorithm.\n"
   ]
  },
  {
   "cell_type": "code",
   "execution_count": 3,
   "metadata": {
    "colab": {
     "base_uri": "https://localhost:8080/"
    },
    "id": "JdBVEd3Sj5VO",
    "outputId": "aa1c4e2b-501c-4ede-8fbb-d9c5f6e4e62e"
   },
   "outputs": [],
   "source": [
    "import farmhash\n",
    "from typing import List, Optional\n",
    "\n",
    "import numpy as np\n",
    "import pandas as pd\n",
    "import seaborn as sns"
   ]
  },
  {
   "cell_type": "code",
   "execution_count": 244,
   "metadata": {
    "colab": {
     "base_uri": "https://localhost:8080/",
     "height": 143
    },
    "id": "MYJ3IISYl02A",
    "outputId": "40ce3bcc-762a-4dd7-cb6e-d789d8e3518d"
   },
   "outputs": [
    {
     "data": {
      "text/html": [
       "<div>\n",
       "<style scoped>\n",
       "    .dataframe tbody tr th:only-of-type {\n",
       "        vertical-align: middle;\n",
       "    }\n",
       "\n",
       "    .dataframe tbody tr th {\n",
       "        vertical-align: top;\n",
       "    }\n",
       "\n",
       "    .dataframe thead th {\n",
       "        text-align: right;\n",
       "    }\n",
       "</style>\n",
       "<table border=\"1\" class=\"dataframe\">\n",
       "  <thead>\n",
       "    <tr style=\"text-align: right;\">\n",
       "      <th></th>\n",
       "      <th>experiment_key</th>\n",
       "      <th>restaurant_key</th>\n",
       "      <th>country</th>\n",
       "    </tr>\n",
       "  </thead>\n",
       "  <tbody>\n",
       "    <tr>\n",
       "      <th>0</th>\n",
       "      <td>ex-123</td>\n",
       "      <td>JE:UK:0</td>\n",
       "      <td>country:1</td>\n",
       "    </tr>\n",
       "    <tr>\n",
       "      <th>1</th>\n",
       "      <td>ex-123</td>\n",
       "      <td>JE:UK:1</td>\n",
       "      <td>country:1</td>\n",
       "    </tr>\n",
       "    <tr>\n",
       "      <th>2</th>\n",
       "      <td>ex-123</td>\n",
       "      <td>JE:UK:2</td>\n",
       "      <td>country:1</td>\n",
       "    </tr>\n",
       "    <tr>\n",
       "      <th>3</th>\n",
       "      <td>ex-123</td>\n",
       "      <td>JE:UK:3</td>\n",
       "      <td>country:1</td>\n",
       "    </tr>\n",
       "    <tr>\n",
       "      <th>4</th>\n",
       "      <td>ex-123</td>\n",
       "      <td>JE:UK:4</td>\n",
       "      <td>country:1</td>\n",
       "    </tr>\n",
       "  </tbody>\n",
       "</table>\n",
       "</div>"
      ],
      "text/plain": [
       "  experiment_key restaurant_key    country\n",
       "0         ex-123        JE:UK:0  country:1\n",
       "1         ex-123        JE:UK:1  country:1\n",
       "2         ex-123        JE:UK:2  country:1\n",
       "3         ex-123        JE:UK:3  country:1\n",
       "4         ex-123        JE:UK:4  country:1"
      ]
     },
     "execution_count": 244,
     "metadata": {},
     "output_type": "execute_result"
    }
   ],
   "source": [
    "n = 10000\n",
    "cov_df = pd.DataFrame({\n",
    "    \"experiment_key\": [\"ex-123\"] * n,\n",
    "    \"restaurant_key\": [f'JE:UK:{i}' for i in range(n)],\n",
    "    \"country\": [\"country:1\"] * int(0.7 * n) + [\"country:2\"] * int(0.25 * n) + [\"country:3\"] * int(0.05 * n)\n",
    "    })\n",
    "\n",
    "cov_df.head()"
   ]
  },
  {
   "cell_type": "code",
   "execution_count": 245,
   "metadata": {
    "colab": {
     "base_uri": "https://localhost:8080/",
     "height": 143
    },
    "id": "jinIRuxky_rc",
    "outputId": "ec50a87b-accb-4dd3-e6ad-becfb040a54e"
   },
   "outputs": [
    {
     "data": {
      "text/html": [
       "<div>\n",
       "<style scoped>\n",
       "    .dataframe tbody tr th:only-of-type {\n",
       "        vertical-align: middle;\n",
       "    }\n",
       "\n",
       "    .dataframe tbody tr th {\n",
       "        vertical-align: top;\n",
       "    }\n",
       "\n",
       "    .dataframe thead th {\n",
       "        text-align: right;\n",
       "    }\n",
       "</style>\n",
       "<table border=\"1\" class=\"dataframe\">\n",
       "  <thead>\n",
       "    <tr style=\"text-align: right;\">\n",
       "      <th></th>\n",
       "      <th>restaurant_key</th>\n",
       "      <th>country</th>\n",
       "      <th>assignments</th>\n",
       "    </tr>\n",
       "  </thead>\n",
       "  <tbody>\n",
       "    <tr>\n",
       "      <th>0</th>\n",
       "      <td>JE:UK:0</td>\n",
       "      <td>country:1</td>\n",
       "      <td>t2</td>\n",
       "    </tr>\n",
       "    <tr>\n",
       "      <th>1</th>\n",
       "      <td>JE:UK:1</td>\n",
       "      <td>country:1</td>\n",
       "      <td>t1</td>\n",
       "    </tr>\n",
       "    <tr>\n",
       "      <th>2</th>\n",
       "      <td>JE:UK:2</td>\n",
       "      <td>country:1</td>\n",
       "      <td>t2</td>\n",
       "    </tr>\n",
       "    <tr>\n",
       "      <th>3</th>\n",
       "      <td>JE:UK:3</td>\n",
       "      <td>country:1</td>\n",
       "      <td>c</td>\n",
       "    </tr>\n",
       "    <tr>\n",
       "      <th>4</th>\n",
       "      <td>JE:UK:4</td>\n",
       "      <td>country:1</td>\n",
       "      <td>c</td>\n",
       "    </tr>\n",
       "  </tbody>\n",
       "</table>\n",
       "</div>"
      ],
      "text/plain": [
       "  restaurant_key    country assignments\n",
       "0        JE:UK:0  country:1          t2\n",
       "1        JE:UK:1  country:1          t1\n",
       "2        JE:UK:2  country:1          t2\n",
       "3        JE:UK:3  country:1           c\n",
       "4        JE:UK:4  country:1           c"
      ]
     },
     "execution_count": 245,
     "metadata": {},
     "output_type": "execute_result"
    }
   ],
   "source": [
    "# Note: commented out and added lines as needed to use class independently of rest of toolbox\n",
    "\n",
    "COL_ASSIGNMENTS = \"assignments\"\n",
    "\n",
    "\n",
    "class RandomiserHashed:\n",
    " \n",
    "    # def __init__(self, *, cov_df: pd.DataFrame, random_seed: int, **kwargs):\n",
    "    #     self.random_seed = random_seed\n",
    "    #     super().__init__(df=cov_df, **kwargs)\n",
    "    \n",
    "    # Implementation details to discuss\n",
    "    # - Pass seed to Randomiser or compute method? Latter would allow for single instantiation of class when generating multiple assignments\n",
    "    # \n",
    "\n",
    "    def __init__(\n",
    "        self,\n",
    "        *,\n",
    "        df: pd.DataFrame,\n",
    "        random_seed: int,\n",
    "        unit_identifier: str,\n",
    "        variant_names: List[str],\n",
    "        **kwargs\n",
    "    ):\n",
    "        self.df = df\n",
    "        self.random_seed = random_seed\n",
    "        self.unit_identifier = unit_identifier\n",
    "        self.variant_names = variant_names\n",
    "\n",
    "\n",
    "    def _custom_split_checks(self, split):\n",
    "        \"\"\"\n",
    "        Performs basic sense-checks for user supplied split.\n",
    "        \"\"\"\n",
    "        assert len(split) == len(self.variant_names), \"Requires one probability per variant.\"\n",
    "        assert sum(split) == 1, \"Probabilities need to sum to 1.\"\n",
    "        \n",
    "\n",
    "    def _compute_assignments(\n",
    "        self,\n",
    "        *,\n",
    "        split: List[float] = None,\n",
    "        random_seed: int = 2312\n",
    "    ) -> pd.Series:\n",
    "        \"\"\"\n",
    "        Compute stable treatmend assignments.\n",
    "        \n",
    "        Partitions range or possible hash-values [0, 2**64] into segments -- one\n",
    "        for each variant -- of lengths proportional to the split provided or of\n",
    "        equal lenght if no split is provided. Unit-level hash values are then\n",
    "        mapped to corresponding variant.\n",
    "        \"\"\"\n",
    "        hash_key = self.df.experiment_key + self.df[self.unit_identifier] + str(random_seed)\n",
    "        hash_values = hash_key.map(farmhash.hash64)\n",
    "        \n",
    "        if split:\n",
    "            self._custom_split_checks(split)\n",
    "            cum_split = np.array([0, *split]).cumsum()\n",
    "        else:\n",
    "            num_variants = len(self.variant_names)\n",
    "            cum_split = np.linspace(0, 1, num_variants + 1)\n",
    "        max_hash_value = 2**64\n",
    "        bins = cum_split * max_hash_value\n",
    "        \n",
    "        assignments = pd.cut(hash_values, bins, labels=self.variant_names)\n",
    "        return assignments\n",
    "    \n",
    "\n",
    "    def _compute_ass_df(self, *, split: List[float] = None) -> pd.DataFrame:\n",
    "        \"\"\"\n",
    "        Return assignment DataFrame.\n",
    "        \"\"\"\n",
    "        assignments = self._compute_assignments(split=split, random_seed=self.random_seed)\n",
    "        \n",
    "        ass_df = pd.DataFrame()\n",
    "        ass_df[self.unit_identifier] = self.df[self.unit_identifier]\n",
    "        ass_df[\"country\"] = self.df.country         # added for demo\n",
    "        ass_df[COL_ASSIGNMENTS] = assignments\n",
    "        # ass_df[COL_IS_TREATED] = self._get_is_treated_values(assignments)\n",
    "        # ass_df[COL_ASSIGNMENTS_FREQ] = 1\n",
    "        return ass_df\n",
    "    \n",
    "\n",
    "split = [1/2, 1/4, 1/4]\n",
    "rand_hashed = RandomiserHashed(df=cov_df, variant_names=['c', 't1', 't2'], unit_identifier='restaurant_key', random_seed=2312)\n",
    "ass = rand_hashed._compute_ass_df(split=split)\n",
    "ass.head()"
   ]
  },
  {
   "cell_type": "markdown",
   "metadata": {},
   "source": [
    "Produce seeded candidate assignments to find good candidates and select most balanced assignment"
   ]
  },
  {
   "cell_type": "code",
   "execution_count": 246,
   "metadata": {
    "colab": {
     "base_uri": "https://localhost:8080/",
     "height": 143
    },
    "id": "jinIRuxky_rc",
    "outputId": "ec50a87b-accb-4dd3-e6ad-becfb040a54e"
   },
   "outputs": [
    {
     "name": "stdout",
     "output_type": "stream",
     "text": [
      "Random seed: 100\n",
      "country      country:1  country:2  country:3\n",
      "assignments                                 \n",
      "c             0.504286     0.4944      0.532\n",
      "t1            0.244286     0.2576      0.228\n",
      "t2            0.251429     0.2480      0.240\n",
      "\n",
      "Random seed: 101\n",
      "country      country:1  country:2  country:3\n",
      "assignments                                 \n",
      "c             0.510857     0.4948      0.496\n",
      "t1            0.245857     0.2584      0.234\n",
      "t2            0.243286     0.2468      0.270\n",
      "\n",
      "Random seed: 102\n",
      "country      country:1  country:2  country:3\n",
      "assignments                                 \n",
      "c             0.508143     0.4948       0.52\n",
      "t1            0.249857     0.2592       0.25\n",
      "t2            0.242000     0.2460       0.23\n",
      "\n"
     ]
    }
   ],
   "source": [
    "def ass_table(ass_df):\n",
    "    \"\"\"Helper to tabulate treatment group allocation by country.\"\"\"\n",
    "    table = pd.crosstab(ass_df.assignments, ass_df.country, dropna=False, normalize=\"columns\")\n",
    "    print(table, end=\"\\n\\n\")\n",
    "    \n",
    "\n",
    "candidates = {}\n",
    "for random_seed in range(100, 103):\n",
    "    rand_hashed = RandomiserHashed(df=cov_df, variant_names=['c', 't1', 't2'], unit_identifier='restaurant_key', random_seed=random_seed)\n",
    "    ass = rand_hashed._compute_ass_df(split=split)\n",
    "    candidates[random_seed] = ass\n",
    "    print(f\"Random seed: {random_seed}\")\n",
    "    ass_table(ass)"
   ]
  },
  {
   "cell_type": "markdown",
   "metadata": {},
   "source": [
    "Re-produce any desired assignment"
   ]
  },
  {
   "cell_type": "code",
   "execution_count": 247,
   "metadata": {},
   "outputs": [],
   "source": [
    "random_seed = 102\n",
    "\n",
    "rand_hashed = RandomiserHashed(df=cov_df, variant_names=['c', 't1', 't2'], unit_identifier='restaurant_key', random_seed=random_seed)\n",
    "ass = rand_hashed._compute_ass_df(split=split)\n",
    "\n",
    "pd.testing.assert_series_equal(candidates[random_seed].assignments, ass.assignments)"
   ]
  },
  {
   "cell_type": "markdown",
   "metadata": {},
   "source": [
    "#### Monotonic ramp-up\n",
    "\n",
    "- We decided to start by supporting only the simplest possible use case, where treatment units are chosen randomly and the treatment is rolled out monotonically over time. Importantly, this doesn't support manual control, which we might add later if there is a need for it.\n",
    "\n",
    "- Two main decision to make here:\n",
    "    \n",
    "    - How precisely to implement\n",
    "    \n",
    "    - How to deal with Simpson's paradox\n",
    "\n",
    "- To implement the above simple case, there are two broad approaches: \"bottom-up\" or \"top-down\" sampling, which differ, respectively, in whether we ensure that the initial or the final sample is perfectly balanced.\n",
    "\n",
    "- Bottom up sampling would work as follows: \n",
    "\n",
    "    - Use plain-vanilla implementation to select best assignment for initial treatment group (e.g. 1% of units) and store `random_seed`\n",
    "    \n",
    "    - Add additional units to `cov_df` and rerandomised using the same seed.\n",
    "    \n",
    "    - This will guarantee that the original units are allocated to the same treatments as before.\n",
    "    \n",
    "    - However, there is no guarantee that the new allocation is nicely balanced across all metrics we care about.\n",
    "    \n",
    "    - Possible remedy: we could separately randomise new units, select most balanced assignment, and then add the best assignment of those units to the best assignment of the original units (i.e. concatenate dataframes). \n",
    "    \n",
    "- Top down would work as follows:\n",
    "\n",
    "    - Use plain vanilla implementation to select best assignment for eventual treatment group (e.g. 50% of units) and store random seed.\n",
    "    \n",
    "    - Select only 1% of units for initial treatment exposure, then ramp-up as needed.\n",
    "    \n",
    "    - Would have to think through how to implement this exactly, and which approach is better.\n",
    "    \n",
    "    \n",
    "- Also, to avoid Simpson's Paradox, we should probably either discard the pre-ramp up period or appropriately reweigh period results."
   ]
  },
  {
   "cell_type": "markdown",
   "metadata": {},
   "source": [
    "#### Manual control\n",
    "\n",
    "- To guarantee that certain units are allocated to pre-specified variants (e.g. large cities to control), we can simply add an appropriate condition to the eligibility checks, as we do presently"
   ]
  },
  {
   "cell_type": "markdown",
   "metadata": {},
   "source": [
    "### Stratified experiments -- implementation suggestion\n",
    "\n",
    "\n",
    "#### Plain-vanilla\n",
    "- Stratified assignment is currently implemented as Bernoulli trials. Was this chosen over completely randomised approach deliberately? If not, then this should be changed to block-wise completely randomised experiments, since Bernoulli doesn't guarantee that a fixed proportion in each strata is allocated to the desired variants. Instead, it is no different from simple (unstratified) randomisation: each unit in each strata has the same fixed probability of being allocated to control and treatment as it would in simple randomisation. Thus imbalance can occur just as in simple randomisation.\n",
    "\n",
    "- Hashing is fundamentally incompatible with stratified randomisation (if implemented as blocked completely randomised experiments), so we can't use it.\n",
    "\n",
    "- What we could do instead is to not explicitly stratify at the randomisation stage but instead add check for it in eligibility checker when selecting good candidate assignments.\n",
    "\n",
    "- This has the advantages that all filtering for good candidate assignments happens in a single place and, as a result, also simplifies the code.\n",
    "\n",
    "- The cost is computational: compred to a block-wise completely randomised implementation (not to current one), we might have to produce \"many\" more assignments to find well balanced ones, as we don't constrain the set of possible assignments to those that are well balanced on the stratification variable. I suspect that this is not a limiting factor, though.\n",
    "\n",
    "- Team agrees that computational penalty we pay for this is almost surely not prohibitive. So we'll go ahead and implement this way.\n",
    "\n",
    "#### Monotonic ramp-up\n",
    "\n",
    "- Same as for simple randomisation.\n",
    "\n",
    "- However, for small strata sizes, balance of \"updated\" assignment might be poor (assume that in a two-variant experiment there are only 10 additional observations for some strata, then its quite possible that 8 of them get allocated to one variant and only 2 to the other).\n",
    "\n",
    "\n",
    "#### Manual control\n",
    "\n",
    "- Same as for simple randomisation"
   ]
  },
  {
   "cell_type": "markdown",
   "metadata": {},
   "source": [
    "### Deterministic switchback experiments (currently supported)\n",
    "\n",
    "#### Plain vanilla\n",
    "\n",
    "- We randomise once and then \"extrapolate\" future allocations based on initial randomisation.\n",
    "    \n",
    "- Hence, randomisation is taken care of by simple random assignment case.\n",
    "\n",
    "\n",
    "#### Monotonic ramp-up\n",
    "\n",
    "- What is precise use-case? What are we doing at present?\n",
    "\n",
    "- If we want to be able to start experiment, and then in period *t* add additional units while keeping original units on their original \"allocation path\", we can do the following:\n",
    "\n",
    "    1. Find best allocation for original units, store `random_seed`, create \"allocation path\".\n",
    "    \n",
    "    2. In period *t*, add additional units, rerandomise with stored seed, create new allocation path for all units (with period 1 referring to same time point as in step 1.)\n",
    "    3. Keep running the experiment, starting at time *t* (original units follow path as originally intended, new units skip time periods 1 to t-1 and start at t).\n",
    "\n",
    "- Limitation is the same as in all ramp-up cases: cannot guarantee that updated allocation is well balanced.\n",
    "\n",
    "\n",
    "#### Manual control\n",
    "    \n",
    "- Same as in case of simple randomisation"
   ]
  },
  {
   "cell_type": "markdown",
   "metadata": {},
   "source": [
    "### Rerandomised switchback experiments\n",
    "\n",
    "- What's advantage of rerandomising at every step compared to deterministic variant currently implemented?\n",
    "\n",
    "- We could implement this by additionally add a period indicator to the `hash_id`. The period indicator could either be date/time independent (i.e. period 1, 2, 3, etc.) or (date-time based: i.e. 2022-02-01, 2022-02-02, etc.). To be able to replicate the experiment at a later point, I'd think we'd want the former."
   ]
  },
  {
   "cell_type": "markdown",
   "metadata": {},
   "source": [
    "## Implementation"
   ]
  },
  {
   "cell_type": "markdown",
   "metadata": {},
   "source": [
    "### Questions to discuss\n",
    "\n",
    "- What elements do we need in `hash_key` (\"culture\"? \"platform\"? ...). Talk to Ciaran and Rodrigo.\n"
   ]
  },
  {
   "cell_type": "markdown",
   "metadata": {},
   "source": [
    "### Choice of hash algorithm\n",
    "\n",
    "- JET FM uses MD5, I suspect becase it's recommended by [kohavi2007practical](https://ai.stanford.edu/~ronnyk/2007GuideControlledExperiments.pdf).\n",
    "\n",
    "- However, MD5 is a cryptographic algorithm, which provides functionality we don't strictly need for our purpose here, which comes at the cost of speed.\n",
    "\n",
    "- Google's `farmhash` algorithms, in particular `fingerprint64` provide -- as far as I can tell -- all the functionality we need at faster speed and are also a bit simpler to implement (see [here](https://abhinav.github.io/farmhash/FarmHash.html), [here](https://github.com/google/farmhash), and [here](https://36-750.github.io/methods/hashing/#modern-methods), Appendix below for additional details, and [here](https://github.com/veelion/python-farmhash) for Python implementation).\n",
    "\n",
    "- Based on my own runtime checks, `farmhash.fingerpring64` is also more than twice as fast as `MD5`.\n",
    "\n",
    "- I thus suspect that had `farmhash` been around when Kohavi and co-authors wrote their paper, they would have recommended it instead. (They are recommended by knowledgeable [people](https://36-750.github.io/methods/hashing/#modern-methods) now, though not specifically for the purpose of randomisation.)\n",
    "\n",
    "- The choice will come down, I'd think, to a trade-off between being consistent across the company and speed/ease of implementation.\n",
    "\n",
    "- Given that the difference in speed is probably not critical, I'd think that we'd want to prioritise consistency within the company and opt for MD5 (unless we can convince JET FM to switch to `farmhash`...)"
   ]
  },
  {
   "cell_type": "markdown",
   "metadata": {},
   "source": [
    "`farmhash` vs `MD5` runtime comparison: `farmhash` is more than twice as fast."
   ]
  },
  {
   "cell_type": "code",
   "execution_count": 248,
   "metadata": {},
   "outputs": [
    {
     "data": {
      "text/html": [
       "<div>\n",
       "<style scoped>\n",
       "    .dataframe tbody tr th:only-of-type {\n",
       "        vertical-align: middle;\n",
       "    }\n",
       "\n",
       "    .dataframe tbody tr th {\n",
       "        vertical-align: top;\n",
       "    }\n",
       "\n",
       "    .dataframe thead th {\n",
       "        text-align: right;\n",
       "    }\n",
       "</style>\n",
       "<table border=\"1\" class=\"dataframe\">\n",
       "  <thead>\n",
       "    <tr style=\"text-align: right;\">\n",
       "      <th></th>\n",
       "      <th>experiment_key</th>\n",
       "      <th>unit_key</th>\n",
       "      <th>hash_key</th>\n",
       "    </tr>\n",
       "  </thead>\n",
       "  <tbody>\n",
       "    <tr>\n",
       "      <th>0</th>\n",
       "      <td>ex-123</td>\n",
       "      <td>unit-0</td>\n",
       "      <td>ex-123unit-0</td>\n",
       "    </tr>\n",
       "    <tr>\n",
       "      <th>1</th>\n",
       "      <td>ex-123</td>\n",
       "      <td>unit-1</td>\n",
       "      <td>ex-123unit-1</td>\n",
       "    </tr>\n",
       "    <tr>\n",
       "      <th>2</th>\n",
       "      <td>ex-123</td>\n",
       "      <td>unit-2</td>\n",
       "      <td>ex-123unit-2</td>\n",
       "    </tr>\n",
       "    <tr>\n",
       "      <th>3</th>\n",
       "      <td>ex-123</td>\n",
       "      <td>unit-3</td>\n",
       "      <td>ex-123unit-3</td>\n",
       "    </tr>\n",
       "    <tr>\n",
       "      <th>4</th>\n",
       "      <td>ex-123</td>\n",
       "      <td>unit-4</td>\n",
       "      <td>ex-123unit-4</td>\n",
       "    </tr>\n",
       "  </tbody>\n",
       "</table>\n",
       "</div>"
      ],
      "text/plain": [
       "  experiment_key unit_key      hash_key\n",
       "0         ex-123   unit-0  ex-123unit-0\n",
       "1         ex-123   unit-1  ex-123unit-1\n",
       "2         ex-123   unit-2  ex-123unit-2\n",
       "3         ex-123   unit-3  ex-123unit-3\n",
       "4         ex-123   unit-4  ex-123unit-4"
      ]
     },
     "execution_count": 248,
     "metadata": {},
     "output_type": "execute_result"
    }
   ],
   "source": [
    "import hashlib\n",
    "\n",
    "import farmhash\n",
    "import pandas as pd\n",
    "\n",
    "n = 1000\n",
    "df = pd.DataFrame({\n",
    "    \"experiment_key\": [\"ex-123\"] * n,\n",
    "    \"unit_key\": [f'unit-{i}' for i in range(n)],\n",
    "    }).assign(hash_key=lambda df: df.experiment_key + df.unit_key)\n",
    "\n",
    "df.head()"
   ]
  },
  {
   "cell_type": "code",
   "execution_count": 249,
   "metadata": {},
   "outputs": [
    {
     "name": "stdout",
     "output_type": "stream",
     "text": [
      "614 µs ± 2.8 µs per loop (mean ± std. dev. of 7 runs, 1,000 loops each)\n"
     ]
    }
   ],
   "source": [
    "%%timeit\n",
    "def get_hash_as_int_md5(value: str) -> int:\n",
    "    return int(hashlib.md5(value.encode(\"ascii\")).hexdigest(), 16)\n",
    "\n",
    "\n",
    "df.hash_key.map(get_hash_as_int_md5)"
   ]
  },
  {
   "cell_type": "code",
   "execution_count": 250,
   "metadata": {},
   "outputs": [
    {
     "name": "stdout",
     "output_type": "stream",
     "text": [
      "259 µs ± 2.36 µs per loop (mean ± std. dev. of 7 runs, 1,000 loops each)\n"
     ]
    }
   ],
   "source": [
    "%%timeit\n",
    "\n",
    "def get_hash_as_int_farmhash(value: str) -> int:\n",
    "    return farmhash.fingerprint64(value)\n",
    "\n",
    "df.hash_key.map(get_hash_as_int_farmhash)"
   ]
  },
  {
   "cell_type": "markdown",
   "metadata": {},
   "source": [
    "### Potentially useful code"
   ]
  },
  {
   "cell_type": "markdown",
   "metadata": {},
   "source": [
    "[Source](https://github.je-labs.com/LogisticsIntegrations/lastmile/blob/7b7129d9562d24fc979315e7f3c34bf95c07b5e1/lambdas/lastmile/lambdas/utils.py#L181-L187)\n"
   ]
  },
  {
   "cell_type": "code",
   "execution_count": null,
   "metadata": {},
   "outputs": [],
   "source": [
    "def get_hash_as_int(value: str) -> int:\n",
    "    return int(hashlib.md5(value.encode(\"ascii\")).hexdigest(), 16)\n",
    "\n",
    "\n",
    "def is_hash_in_percentage(value: str, percentage: int) -> bool:\n",
    "    hashed_value = get_hash_as_int(value)\n",
    "    return percentage > 0 and hashed_value % (100 / percentage) == 0\n"
   ]
  },
  {
   "cell_type": "markdown",
   "metadata": {
    "id": "TR4jtVu61h9R"
   },
   "source": [
    "## Appendix"
   ]
  },
  {
   "cell_type": "markdown",
   "metadata": {},
   "source": [
    "### `farmhash.fingerprint64` details"
   ]
  },
  {
   "cell_type": "markdown",
   "metadata": {},
   "source": [
    "#### Value range\n",
    "\n",
    "- `farmhash.fingerprint64` converts the input string into a 64-bit unsigned integer. This means it can create 2^64 unique integer values, and because they are unsigned ingeters, they range from 0 to 2^64 - 1 (if it were signed, the values would range from -2^64/2 to 2^64/2 - 1).\n",
    "\n",
    "- The smalles possible value, 0, occurs if all bits are 0, the larges possible one, 2^64 - 1, when all bits are 1, as demonstrated below."
   ]
  },
  {
   "cell_type": "code",
   "execution_count": 8,
   "metadata": {
    "colab": {
     "base_uri": "https://localhost:8080/"
    },
    "id": "kLpO12kmCawV",
    "outputId": "f06c5a5a-fa18-4d54-ad10-a5a18b7c338d"
   },
   "outputs": [
    {
     "name": "stdout",
     "output_type": "stream",
     "text": [
      "Min is:                    0\n",
      "Max is: 18446744073709551615\n"
     ]
    }
   ],
   "source": [
    "min = int(\"0\" * 64, base=2)\n",
    "max = int(\"1\" * 64, base=2)\n",
    "\n",
    "assert min == 0\n",
    "assert max == 2**64 - 1\n",
    "\n",
    "print(f\"Min is: {min:>{len(str(max))}}\\nMax is: {max}\")"
   ]
  },
  {
   "cell_type": "markdown",
   "metadata": {},
   "source": [
    "#### Independence between experiments"
   ]
  },
  {
   "cell_type": "markdown",
   "metadata": {},
   "source": [
    "- [This](https://medium.com/@thisisflea/a-good-hash-is-hard-to-find-6edbbf6a78b0) article discusses pitfalls of violating requirement 3 above and uses MurmurHash to avoid the issue.\n",
    "- Example above suggests that `farmhash.fingerprint64` hashes are independent across experiments and thus can also be used."
   ]
  },
  {
   "cell_type": "markdown",
   "metadata": {},
   "source": [
    "Create user-experiment hash ids for two different experiments"
   ]
  },
  {
   "cell_type": "code",
   "execution_count": 9,
   "metadata": {},
   "outputs": [
    {
     "data": {
      "text/html": [
       "<div>\n",
       "<style scoped>\n",
       "    .dataframe tbody tr th:only-of-type {\n",
       "        vertical-align: middle;\n",
       "    }\n",
       "\n",
       "    .dataframe tbody tr th {\n",
       "        vertical-align: top;\n",
       "    }\n",
       "\n",
       "    .dataframe thead th {\n",
       "        text-align: right;\n",
       "    }\n",
       "</style>\n",
       "<table border=\"1\" class=\"dataframe\">\n",
       "  <thead>\n",
       "    <tr style=\"text-align: right;\">\n",
       "      <th></th>\n",
       "      <th>user_id</th>\n",
       "      <th>hash_exp1</th>\n",
       "      <th>hash_exp2</th>\n",
       "    </tr>\n",
       "  </thead>\n",
       "  <tbody>\n",
       "    <tr>\n",
       "      <th>0</th>\n",
       "      <td>0</td>\n",
       "      <td>13736453803979705643</td>\n",
       "      <td>14404520758346736070</td>\n",
       "    </tr>\n",
       "    <tr>\n",
       "      <th>1</th>\n",
       "      <td>1</td>\n",
       "      <td>15871172722897488427</td>\n",
       "      <td>7400506916968380015</td>\n",
       "    </tr>\n",
       "    <tr>\n",
       "      <th>2</th>\n",
       "      <td>2</td>\n",
       "      <td>13223836611583849727</td>\n",
       "      <td>6517024538844281180</td>\n",
       "    </tr>\n",
       "  </tbody>\n",
       "</table>\n",
       "</div>"
      ],
      "text/plain": [
       "  user_id             hash_exp1             hash_exp2\n",
       "0       0  13736453803979705643  14404520758346736070\n",
       "1       1  15871172722897488427   7400506916968380015\n",
       "2       2  13223836611583849727   6517024538844281180"
      ]
     },
     "execution_count": 9,
     "metadata": {},
     "output_type": "execute_result"
    }
   ],
   "source": [
    "df = pd.DataFrame({\n",
    "    \"user_id\": np.arange(1000).astype(str)\n",
    "}).assign(\n",
    "    hash_exp1=lambda df: (\"exp1\" + df.user_id).map(farmhash.fingerprint64),\n",
    "    hash_exp2=lambda df: (\"exp2\" + df.user_id).map(farmhash.fingerprint64),\n",
    ")\n",
    "\n",
    "df.head(3)"
   ]
  },
  {
   "cell_type": "markdown",
   "metadata": {},
   "source": [
    "Check whether there is correlatio between the hashes across the two experiments"
   ]
  },
  {
   "cell_type": "code",
   "execution_count": 10,
   "metadata": {},
   "outputs": [
    {
     "data": {
      "image/png": "[encoded data removed]",
      "text/plain": [
       "<Figure size 640x480 with 1 Axes>"
      ]
     },
     "metadata": {},
     "output_type": "display_data"
    }
   ],
   "source": [
    "sns.scatterplot(x=\"hash_exp1\", y=\"hash_exp2\", data=df);"
   ]
  },
  {
   "cell_type": "markdown",
   "metadata": {},
   "source": [
    "### Workflow for running non-standard experiments\n",
    "\n",
    "1. Ingest and clean data\n",
    "\n",
    "2. Create treatment assignment\n",
    "\n",
    "    1. Generate *n* different assignments (using different seeds) and collect \"good\" candidate assignments based on diagnostic criteria\n",
    "    \n",
    "    2. Manually select best assignment out of candidate assignments\n",
    "    \n",
    "3. Pre-experiment tests (AA and power calculation)\n",
    "\n",
    "4. Upload assignment to GBC"
   ]
  },
  {
   "cell_type": "markdown",
   "metadata": {
    "id": "TAL4C1Zut7m7"
   },
   "source": [
    "### Current randomiser"
   ]
  },
  {
   "cell_type": "code",
   "execution_count": 179,
   "metadata": {
    "colab": {
     "base_uri": "https://localhost:8080/",
     "height": 175
    },
    "id": "qa1jc3darv0P",
    "outputId": "06df462f-fd6d-4e1e-95f3-0f85a629a3e4"
   },
   "outputs": [],
   "source": [
    "# Note: commented out and added lines as needed to use class independently of rest of toolbox\n",
    "\n",
    "COL_ASSIGNMENTS = \"assignments\"\n",
    "\n",
    "\n",
    "class Randomiser:\n",
    " \n",
    "    # def __init__(self, *, cov_df: pd.DataFrame, random_seed: int, **kwargs):\n",
    "    #     self.random_seed = random_seed\n",
    "    #     super().__init__(df=cov_df, **kwargs)\n",
    "\n",
    "    def __init__(\n",
    "        self,\n",
    "        *,\n",
    "        df: pd.DataFrame,\n",
    "        random_seed: int,\n",
    "        unit_identifier: str,\n",
    "        variant_names: List[str],\n",
    "        **kwargs\n",
    "        ):\n",
    "        self.df = df\n",
    "        self.random_seed = random_seed\n",
    "        self.variant_names = variant_names\n",
    "        self.unit_identifier = unit_identifier\n",
    "\n",
    "\n",
    "    def _compute_ass_df(\n",
    "        self, *, split: List[float] = None, stratify_by: Optional[str] = None\n",
    "    ) -> pd.DataFrame:\n",
    "        np.random.seed(self.random_seed)\n",
    "        ass_df = pd.DataFrame()\n",
    "        if stratify_by is not None:\n",
    "            strata_dfs = [group for _, group in self.df.groupby(stratify_by)]\n",
    "            df_strata_ordered = pd.concat(strata_dfs)\n",
    "            ass_df[self.unit_identifier] = df_strata_ordered[self.unit_identifier]\n",
    "            ass_df[\"country\"] = df_strata_ordered.country         # added\n",
    "            assignments = np.concatenate(\n",
    "                [\n",
    "                    np.random.choice(self.variant_names, size=len(stratum), p=split)\n",
    "                    for stratum in strata_dfs\n",
    "                ]\n",
    "            )\n",
    "        else:\n",
    "            assignments = np.random.choice(\n",
    "                self.variant_names, size=len(self.df), p=split\n",
    "            )\n",
    "            ass_df[self.unit_identifier] = self.df[self.unit_identifier]\n",
    "            ass_df[\"country\"] = self.df.country         # added\n",
    "\n",
    "\n",
    "        ass_df[COL_ASSIGNMENTS] = assignments\n",
    "        # ass_df[COL_IS_TREATED] = self._get_is_treated_values(assignments)\n",
    "        # ass_df[COL_ASSIGNMENTS_FREQ] = 1\n",
    "\n",
    "        return ass_df\n",
    "\n",
    "\n",
    "rand = Randomiser(df=cov_df, random_seed=2312, variant_names=['c', 't1', 't2'], unit_identifier='restaurant_key')"
   ]
  },
  {
   "cell_type": "markdown",
   "metadata": {},
   "source": [
    "Custom split, not stratified"
   ]
  },
  {
   "cell_type": "code",
   "execution_count": 180,
   "metadata": {
    "colab": {
     "base_uri": "https://localhost:8080/",
     "height": 175
    },
    "id": "qa1jc3darv0P",
    "outputId": "06df462f-fd6d-4e1e-95f3-0f85a629a3e4"
   },
   "outputs": [
    {
     "name": "stdout",
     "output_type": "stream",
     "text": [
      "country      country:1  country:2  country:3\n",
      "assignments                                 \n",
      "c             0.499429     0.5024      0.454\n",
      "t1            0.254000     0.2360      0.286\n",
      "t2            0.246571     0.2616      0.260\n",
      "\n"
     ]
    }
   ],
   "source": [
    "split = [1/2, 1/4, 1/4]\n",
    "ass = rand._compute_ass_df(split=split)\n",
    "ass_table(ass)"
   ]
  },
  {
   "cell_type": "markdown",
   "metadata": {},
   "source": [
    "Custom split, stratified (note: stratifying doesn't guarantee balanced assignments)"
   ]
  },
  {
   "cell_type": "code",
   "execution_count": 181,
   "metadata": {},
   "outputs": [
    {
     "name": "stdout",
     "output_type": "stream",
     "text": [
      "country      country:1  country:2  country:3\n",
      "assignments                                 \n",
      "c             0.495857     0.5076      0.478\n",
      "t1            0.250429     0.2504      0.264\n",
      "t2            0.253714     0.2420      0.258\n",
      "\n"
     ]
    }
   ],
   "source": [
    "ass = rand._compute_ass_df(split=split, stratify_by=\"country\")\n",
    "ass_table(ass)"
   ]
  }
 ],
 "metadata": {
  "colab": {
   "provenance": [],
   "toc_visible": true
  },
  "kernelspec": {
   "display_name": "sandbox",
   "language": "python",
   "name": "sandbox"
  },
  "language_info": {
   "codemirror_mode": {
    "name": "ipython",
    "version": 3
   },
   "file_extension": ".py",
   "mimetype": "text/x-python",
   "name": "python",
   "nbconvert_exporter": "python",
   "pygments_lexer": "ipython3",
   "version": "3.10.8"
  }
 },
 "nbformat": 4,
 "nbformat_minor": 4
}
