{
 "cells": [
  {
   "cell_type": "markdown",
   "id": "dda23961-72fa-4c22-9714-afb1f1037ef7",
   "metadata": {},
   "source": [
    "## Dynamic treatment effects"
   ]
  },
  {
   "cell_type": "markdown",
   "id": "0f0416c3-d978-4ef8-941e-4ccc250ce784",
   "metadata": {},
   "source": [
    "Based on [this](https://drive.google.com/file/d/1h9WZFmf5moHc4XV_MwvT94_RG3CAhOTv/view) talk by Jake Blundell"
   ]
  },
  {
   "cell_type": "markdown",
   "id": "7c1a990c-1824-49ee-8c04-b70af179fb03",
   "metadata": {},
   "source": [
    "### Setup\n",
    "\n",
    "- Measuring an ATE during an experimental period masks possibly dynamics. Stylistically, it can come about in three ways:\n",
    "\n",
    "    1. Constant treatment effect\n",
    "    2. Average of increasing effect (effect takes time to fully materialise)\n",
    "    3. Average of decreading effect (novelty effect)\n",
    "    \n",
    "    \n",
    "- Coverage:\n",
    "    - Restaurants and customers and possibly riders are all long tailed: most engage frequently, some very frequently. This affects composition of experiment population. \n",
    "    - As a result, the shorter the experiment, the more we oversample from frequent users in session-based experiments (the same is not true in order-based ones, there it's constant).\n",
    "    - Implication: for session-level exp: the longer the experiment, the more representative the sample, for order-level, equally representative for all durations.\n",
    "    - Recommendations: be aware that short experiments may not generalise, check for sample representativeness, estimate heterogeneous treatment effects by user type.\n",
    "    - Fundamentally: need think about what relevant population is."
   ]
  },
  {
   "cell_type": "markdown",
   "id": "8d281c49-b1fb-4579-bad4-66498028d8c8",
   "metadata": {},
   "source": [
    "### Why care?\n",
    "\n",
    "- We want to make decisions for the long-run, not just for the experimentation window. Given the above, we might under or overestimate the actual effect of the treatment\n",
    "- Provides an understanding of how users interact with product\n",
    "- Might reveal bugs in experimental setup or implementation (i.e. if we see unusual spikes)"
   ]
  },
  {
   "cell_type": "markdown",
   "id": "ca18981b-b986-4b53-a0ef-c5bd343c4afb",
   "metadata": {},
   "source": [
    "## Problem"
   ]
  },
  {
   "cell_type": "markdown",
   "id": "d32f8544-a717-44d9-9a35-7c9549d08980",
   "metadata": {},
   "source": [
    "- Estimating dynamic average treatment effects if everyone enters at the same time is straightforward: treat each week as mini experiment and plot ATE over time.\n",
    "- Estimating dynamic average treatment effects if people enter at different times more complex, as in each week we observe people at different time of treatment path.\n",
    "    - Changing time measure to weeks since entry to experiment\n",
    "    - Because we have a fixed endpoint, this means we observe fewer users at later points since entering experiment (since some, who join late, we only observe for a few weeks till the experiment ends).\n",
    "    - Also, because of coverage issue above, we proportionally observe more frequent users in laters points since experiment entry (since we their share is about constant as they engage weekly, while infrequent users engage more infrequently)\n",
    "    - Hence, if we just compare outcomes across Treatment and Control for each week since experiment entry, composition of samples over time is different (again, frequent users have more weight in later periods)\n",
    "    \n",
    "    - Affects metrics at any level: user, order, session\n",
    "    \n",
    "    - Problem exists whenever:\n",
    "        1. Users enter at different times\n",
    "        2. We cut off time since experiments for later joiners (i.e. observe users for different lengths of time)\n",
    "        3. Treatment entry is correlated with treatment effect (e.g. effect on top users is different)\n"
   ]
  },
  {
   "cell_type": "markdown",
   "id": "2a513857-229e-4893-a0e5-c1f098281491",
   "metadata": {},
   "source": [
    "### Solution\n",
    "\n",
    "- Reweight sample so as to keep relative proportion of types constant accross time and treatment cell"
   ]
  },
  {
   "cell_type": "code",
   "execution_count": null,
   "id": "f0df13d1-af7a-4819-b11d-cc195b57249a",
   "metadata": {},
   "outputs": [],
   "source": []
  }
 ],
 "metadata": {
  "kernelspec": {
   "display_name": "wow",
   "language": "python",
   "name": "wow"
  },
  "language_info": {
   "codemirror_mode": {
    "name": "ipython",
    "version": 3
   },
   "file_extension": ".py",
   "mimetype": "text/x-python",
   "name": "python",
   "nbconvert_exporter": "python",
   "pygments_lexer": "ipython3",
   "version": "3.10.4"
  }
 },
 "nbformat": 4,
 "nbformat_minor": 5
}
