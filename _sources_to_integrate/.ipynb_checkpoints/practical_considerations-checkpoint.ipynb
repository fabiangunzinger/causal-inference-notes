{
 "cells": [
  {
   "cell_type": "markdown",
   "id": "f12b4ce4-3a0b-41b0-baad-36c173957d84",
   "metadata": {},
   "source": [
    "## Notes on kohavi2009controlled\n",
    "\n",
    "- Note: this is longer version of kohavi2007practice"
   ]
  },
  {
   "cell_type": "markdown",
   "id": "6e8068fa-7158-4908-8e71-19867f394c20",
   "metadata": {},
   "source": [
    "## Notes on crook2009seven\n"
   ]
  },
  {
   "cell_type": "code",
   "execution_count": null,
   "id": "d62ebed5-372d-4348-bafa-9e276745b527",
   "metadata": {},
   "outputs": [],
   "source": []
  },
  {
   "cell_type": "markdown",
   "id": "7b9655ca-bb52-4901-a680-d8db4a664de6",
   "metadata": {
    "jp-MarkdownHeadingCollapsed": true,
    "tags": []
   },
   "source": [
    "From Kohavi papers\n",
    "\n",
    "Misc:\n",
    "- Have an overall evaluation criterion\n",
    "- Run A/A tests (run entire process but assign all groups to control) to test infrastructure and randomsation.\n",
    "\n",
    "Analysis:\n",
    "- Mine the data (check effects by subgroups like browser version, etc.)\n",
    "\n",
    "Beware of:\n",
    "- Dynamic effects (primacy or newness)\n",
    "- Multiple concurrent experiments"
   ]
  }
 ],
 "metadata": {
  "kernelspec": {
   "display_name": "jet",
   "language": "python",
   "name": "jet"
  },
  "language_info": {
   "codemirror_mode": {
    "name": "ipython",
    "version": 3
   },
   "file_extension": ".py",
   "mimetype": "text/x-python",
   "name": "python",
   "nbconvert_exporter": "python",
   "pygments_lexer": "ipython3",
   "version": "3.10.8"
  }
 },
 "nbformat": 4,
 "nbformat_minor": 5
}
