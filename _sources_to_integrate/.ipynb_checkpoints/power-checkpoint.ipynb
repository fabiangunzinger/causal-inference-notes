{
 "cells": [
  {
   "cell_type": "markdown",
   "id": "d45f461e-f2b0-4b3a-830d-af41930799c4",
   "metadata": {
    "tags": []
   },
   "source": [
    "# Power"
   ]
  },
  {
   "cell_type": "markdown",
   "id": "86eae674-3d40-45bf-b047-a74e78bcb50e",
   "metadata": {},
   "source": [
    "## Theory\n",
    "\n",
    "based on duflo2008randomization"
   ]
  },
  {
   "cell_type": "markdown",
   "id": "4ceab42d-21b9-426f-ad2d-d469497b685f",
   "metadata": {},
   "source": [
    "![title](img/power.png)"
   ]
  },
  {
   "cell_type": "markdown",
   "id": "9c57f7d9-7d92-4701-8194-06813153b806",
   "metadata": {},
   "source": [
    "Power basics\n",
    "\n",
    "- In the simplest possible, we randomly draw a sample of size $N$ from an identical population, so that our observations can be assumed to be i.i.d, and we allocate a fraction $P$ of our sample to treatment. We can then estiamte the treatment effect using the OLS regression\n",
    "\n",
    "$$ y = \\alpha + \\beta T + \\epsilon$$\n",
    "\n",
    "- where the standard error of $\\beta$ is given by $\\sqrt{\\frac{1}{P(1-P)}\\frac{\\sigma^2}{N}}$.\n",
    "\n",
    "- std error derivation (from standard variance result of two independent samples, using population fractions):\n",
    "\n",
    "$$\n",
    "std = \\sqrt{\\frac{\\sigma^2}{N_t} + \\frac{\\sigma^2}{N_c}} = \\sqrt{\\frac{\\sigma^2}{PN} + \\frac{\\sigma^2}{(1-P)N}} = ... = \\sqrt{\\frac{1}{P(1-P)}\\frac{\\sigma^2}{N}}\n",
    "$$\n",
    "\n",
    "- The distribution on the left hand side below shows the distribution of our effect size estimator $\\hat{\\beta}$ if the null hypothesis is true.\n",
    "\n",
    "- We reject the null hypothesis if the estimated effect size is larger than the critical value $t_{\\alpha}$, determined by the significance level $\\alpha$. Hence, for this to happen we need $\\hat{\\beta} > t_{\\alpha} * SE(\\hat{\\beta})$ (follows from rearranging the t-test formula).\n",
    "\n",
    "- On the right is the distribution of $\\hat{\\beta}$ if the true effect size is $\\beta$.\n",
    "\n",
    "- The power of the test for a true effect size of $\\beta$ is the area under this curve that falls to the right of $t_{\\alpha}$. This is the probability that we reject the null hypothesis given that it is false.\n",
    "\n",
    "- Hence, to attain a power of $\\kappa$ it must be that $\\beta > (t_a + t_{1-\\kappa}) * SE(\\hat{\\beta})$, where $t_{1-\\kappa}$ is the value from a t-distribution that has $1-\\kappa$ of its probability mass to the left (for $\\kappa = 0.8$, $t_{1-\\kappa} = 0.84$).\n",
    "\n",
    "- This means that the minimum detectable effect ($\\delta$) is given by:\n",
    "\n",
    "$$ \\delta = (t_a + t_{1-\\kappa}) * \\sqrt{\\frac{1}{P(1-P)}\\frac{\\sigma^2}{N}} $$\n",
    "\n",
    "- Rearranding for the minimum required sample size we get:\n",
    "\n",
    "$$ N =  \\frac{(t_a + t_{1-\\kappa})^2}{P(1-P)}\\left(\\frac{\\sigma}{\\delta}\\right)^2 $$\n",
    "\n",
    "- So that the required sample size is inversely proportional to the minimal effect size we wish to detect. This makes sense, it means that the smaller an effect we want to detect, the larger the samle size we need. In particular, given that $N \\propto \\delta^{-2}$, to detect an effect of half the size we need a sample four times the size.\n",
    "\n",
    "- SE($\\beta$) also includes measurement error, so this is also a determinant of power."
   ]
  },
  {
   "cell_type": "markdown",
   "id": "428e8346-1c49-4196-b6ed-7a49bbd60c82",
   "metadata": {},
   "source": [
    "## Problems with low power\n",
    "\n",
    "- Truth inflation: underpowered studies only find a significant effect it the effect size is larger than the true effect size, leading to inflated claims of effect sizes."
   ]
  },
  {
   "cell_type": "markdown",
   "id": "2f95fd7f-bd4f-4b8c-8a1a-f4afcdd995ae",
   "metadata": {},
   "source": [
    "## Best practices\n",
    "\n",
    "- When aiming to estimate a precise effect size rather than just being interested in statistical significance, use assucance instead of power: instead of choosing a sample size to attain a given level of power, choose sample size so that confidence interval will be suitably narrow 99 percent of the time ([Sample-Size Planning for More Accurate Statistical Power: A Method Adjusting Sample Effect Sizes for Publication Bias and Uncertainty](https://www3.nd.edu/~kkelley/publications/articles/Anderson_Kelley_Maxwell_Psychological_Science_2017.pdf) and [Understanding the new statistics](https://tandfbis.s3.amazonaws.com/rt-media/pp/common/sample-chapters/9780415879682.pdf).)"
   ]
  },
  {
   "cell_type": "markdown",
   "id": "447bfc8b-2614-48a4-bdf4-08144eecbfdc",
   "metadata": {},
   "source": [
    "## Exercises"
   ]
  },
  {
   "cell_type": "markdown",
   "id": "699cbdda-8ceb-44a6-b8b0-27d32207fa32",
   "metadata": {},
   "source": [
    "**1.**\n",
    "\n",
    "An online shopping site ranks products according to their average rating. Why might this be suboptimal? What could the site do instead?"
   ]
  },
  {
   "cell_type": "markdown",
   "id": "d499783d-d660-46a3-a498-28d4a1efb94f",
   "metadata": {},
   "source": [
    "## Solutions"
   ]
  },
  {
   "cell_type": "markdown",
   "id": "0494462c-6c8c-48fd-8a74-40414eb417ae",
   "metadata": {},
   "source": [
    "**1.**\n",
    "\n",
    "- The approach is suboptimal because products with few ratings will have much more variance than products with many ratings, and their average rating is thus less reliable. The problem is akin to small US states having the highest *and* lowest rates of kidney cancer, or small schools having highest *and* lowest average pupil performance. Fundamentally, it's a problem of low power -- the sample size is too low to reliably detect a true effect.\n",
    "\n",
    "- The solution is to use a shrinkage method: use a weighted average of the product average rating and some global product rating, with the weight of the product average rating being proportional to the number of ratins. This way, products with few ratings will be average, while products with many ratings will reflect their own rating."
   ]
  },
  {
   "cell_type": "code",
   "execution_count": null,
   "id": "27bddd39-f68b-42bd-b638-d1b56f90b262",
   "metadata": {},
   "outputs": [],
   "source": []
  }
 ],
 "metadata": {
  "kernelspec": {
   "display_name": "sandbox",
   "language": "python",
   "name": "sandbox"
  },
  "language_info": {
   "codemirror_mode": {
    "name": "ipython",
    "version": 3
   },
   "file_extension": ".py",
   "mimetype": "text/x-python",
   "name": "python",
   "nbconvert_exporter": "python",
   "pygments_lexer": "ipython3",
   "version": "3.10.8"
  }
 },
 "nbformat": 4,
 "nbformat_minor": 5
}
