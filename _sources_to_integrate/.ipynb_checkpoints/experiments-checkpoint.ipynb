{
 "cells": [
  {
   "cell_type": "code",
   "execution_count": 2,
   "metadata": {},
   "outputs": [],
   "source": [
    "import matplotlib.pyplot as plt\n",
    "import numpy as np\n",
    "import pandas as pd\n",
    "import statsmodels.api as sm\n",
    "\n",
    "plt.style.use(\"seaborn-whitegrid\")\n",
    "%config InlineBackend.figure_format ='retina'"
   ]
  },
  {
   "cell_type": "markdown",
   "metadata": {
    "tags": []
   },
   "source": [
    "# Overview\n",
    "\n",
    "An experiment is a proceedure to test whether one or multiple variations on the status quo deliver superior results.\n",
    "\n",
    "We generally proceed in the following ways:\n",
    "\n",
    "1. Define the problem (e.g. improve search experience)\n",
    "2. Design solution (e.g. new landing page for dead searches)\n",
    "3. Define outcome metric to be improved (e.g. number of dead searches)\n",
    "\n",
    "3.1 Design experiment\n",
    "\n",
    "    - Level and type of randomisation\n",
    "        - Spillovers\n",
    "        - Feasibility\n",
    "        - Seasonality\n",
    "\n",
    "    - Variable to measure and level of measurement\n",
    "    \n",
    "4. Define target population and sampling approach\n",
    "5. Specify hypothesis\n",
    "6. Conduct power calculations\n",
    "\n",
    "    - Coverage: doesn longer experiment duration change sample composision?\n",
    "\n",
    "\n",
    "\n",
    "7. Randomise units into groups\n",
    "8. Run experiment\n",
    "9. Analyse results\n",
    "10. Communicate results"
   ]
  },
  {
   "cell_type": "markdown",
   "metadata": {},
   "source": [
    "# Design"
   ]
  },
  {
   "cell_type": "markdown",
   "metadata": {},
   "source": [
    "# Target population and sampling approach"
   ]
  },
  {
   "cell_type": "code",
   "execution_count": 9,
   "metadata": {},
   "outputs": [
    {
     "data": {
      "text/html": [
       "<div>\n",
       "<style scoped>\n",
       "    .dataframe tbody tr th:only-of-type {\n",
       "        vertical-align: middle;\n",
       "    }\n",
       "\n",
       "    .dataframe tbody tr th {\n",
       "        vertical-align: top;\n",
       "    }\n",
       "\n",
       "    .dataframe thead th {\n",
       "        text-align: right;\n",
       "    }\n",
       "</style>\n",
       "<table border=\"1\" class=\"dataframe\">\n",
       "  <thead>\n",
       "    <tr style=\"text-align: right;\">\n",
       "      <th></th>\n",
       "      <th>ids</th>\n",
       "      <th>age</th>\n",
       "      <th>female</th>\n",
       "      <th>city</th>\n",
       "    </tr>\n",
       "  </thead>\n",
       "  <tbody>\n",
       "    <tr>\n",
       "      <th>0</th>\n",
       "      <td>0</td>\n",
       "      <td>27</td>\n",
       "      <td>0</td>\n",
       "      <td>Leeds</td>\n",
       "    </tr>\n",
       "    <tr>\n",
       "      <th>1</th>\n",
       "      <td>1</td>\n",
       "      <td>32</td>\n",
       "      <td>0</td>\n",
       "      <td>London</td>\n",
       "    </tr>\n",
       "    <tr>\n",
       "      <th>2</th>\n",
       "      <td>2</td>\n",
       "      <td>59</td>\n",
       "      <td>0</td>\n",
       "      <td>Leeds</td>\n",
       "    </tr>\n",
       "    <tr>\n",
       "      <th>3</th>\n",
       "      <td>3</td>\n",
       "      <td>30</td>\n",
       "      <td>0</td>\n",
       "      <td>Bath</td>\n",
       "    </tr>\n",
       "    <tr>\n",
       "      <th>4</th>\n",
       "      <td>4</td>\n",
       "      <td>34</td>\n",
       "      <td>1</td>\n",
       "      <td>Leeds</td>\n",
       "    </tr>\n",
       "  </tbody>\n",
       "</table>\n",
       "</div>"
      ],
      "text/plain": [
       "   ids  age  female    city\n",
       "0    0   27       0   Leeds\n",
       "1    1   32       0  London\n",
       "2    2   59       0   Leeds\n",
       "3    3   30       0    Bath\n",
       "4    4   34       1   Leeds"
      ]
     },
     "execution_count": 9,
     "metadata": {},
     "output_type": "execute_result"
    }
   ],
   "source": [
    "n = 1000\n",
    "cities = [\"London\", \"Bath\", \"Leeds\"]\n",
    "\n",
    "rng = np.random.default_rng(2312)\n",
    "\n",
    "data = {\n",
    "    \"ids\": np.arange(n),\n",
    "    \"age\": rng.normal(45, 20, n).astype(\"int\"),\n",
    "    \"female\": rng.integers(0, 2, n),\n",
    "    \"city\": rng.choice(cities, n),\n",
    "}\n",
    "df = pd.DataFrame(data)\n",
    "df.head()"
   ]
  },
  {
   "cell_type": "markdown",
   "metadata": {},
   "source": [
    "## Hypotheses"
   ]
  },
  {
   "cell_type": "markdown",
   "metadata": {},
   "source": [
    "## Power"
   ]
  },
  {
   "cell_type": "markdown",
   "metadata": {},
   "source": [
    "## Randomisation"
   ]
  },
  {
   "cell_type": "markdown",
   "metadata": {},
   "source": [
    "### Methods"
   ]
  },
  {
   "cell_type": "markdown",
   "metadata": {},
   "source": [
    "- Level of randomisation\n",
    "- Simple randomisation\n",
    "- Stratified randomisation"
   ]
  },
  {
   "cell_type": "markdown",
   "metadata": {},
   "source": [
    "### Balance checks"
   ]
  },
  {
   "cell_type": "markdown",
   "metadata": {},
   "source": [
    "## Implementation"
   ]
  },
  {
   "cell_type": "markdown",
   "metadata": {},
   "source": [
    "## Communicate results"
   ]
  },
  {
   "cell_type": "markdown",
   "metadata": {},
   "source": [
    "### Randomisation functions"
   ]
  },
  {
   "cell_type": "code",
   "execution_count": 163,
   "metadata": {},
   "outputs": [
    {
     "data": {
      "text/html": [
       "<div>\n",
       "<style scoped>\n",
       "    .dataframe tbody tr th:only-of-type {\n",
       "        vertical-align: middle;\n",
       "    }\n",
       "\n",
       "    .dataframe tbody tr th {\n",
       "        vertical-align: top;\n",
       "    }\n",
       "\n",
       "    .dataframe thead th {\n",
       "        text-align: right;\n",
       "    }\n",
       "</style>\n",
       "<table border=\"1\" class=\"dataframe\">\n",
       "  <thead>\n",
       "    <tr style=\"text-align: right;\">\n",
       "      <th></th>\n",
       "      <th>ids</th>\n",
       "      <th>age</th>\n",
       "      <th>female</th>\n",
       "      <th>city</th>\n",
       "      <th>group</th>\n",
       "    </tr>\n",
       "  </thead>\n",
       "  <tbody>\n",
       "    <tr>\n",
       "      <th>0</th>\n",
       "      <td>33</td>\n",
       "      <td>22</td>\n",
       "      <td>0</td>\n",
       "      <td>Birmingham</td>\n",
       "      <td>1</td>\n",
       "    </tr>\n",
       "    <tr>\n",
       "      <th>1</th>\n",
       "      <td>20</td>\n",
       "      <td>12</td>\n",
       "      <td>0</td>\n",
       "      <td>Birmingham</td>\n",
       "      <td>1</td>\n",
       "    </tr>\n",
       "    <tr>\n",
       "      <th>2</th>\n",
       "      <td>46</td>\n",
       "      <td>47</td>\n",
       "      <td>0</td>\n",
       "      <td>Birmingham</td>\n",
       "      <td>1</td>\n",
       "    </tr>\n",
       "    <tr>\n",
       "      <th>3</th>\n",
       "      <td>73</td>\n",
       "      <td>21</td>\n",
       "      <td>0</td>\n",
       "      <td>Birmingham</td>\n",
       "      <td>1</td>\n",
       "    </tr>\n",
       "    <tr>\n",
       "      <th>4</th>\n",
       "      <td>34</td>\n",
       "      <td>38</td>\n",
       "      <td>0</td>\n",
       "      <td>Birmingham</td>\n",
       "      <td>2</td>\n",
       "    </tr>\n",
       "  </tbody>\n",
       "</table>\n",
       "</div>"
      ],
      "text/plain": [
       "   ids  age  female        city  group\n",
       "0   33   22       0  Birmingham      1\n",
       "1   20   12       0  Birmingham      1\n",
       "2   46   47       0  Birmingham      1\n",
       "3   73   21       0  Birmingham      1\n",
       "4   34   38       0  Birmingham      2"
      ]
     },
     "execution_count": 163,
     "metadata": {},
     "output_type": "execute_result"
    }
   ],
   "source": [
    "# Create routines for simple and blocked randomisation\n",
    "\n",
    "\n",
    "def simple_rand(df, n_groups):\n",
    "\n",
    "    # Randomly sort df rows\n",
    "    df = df.sample(frac=1).reset_index(drop=True)\n",
    "\n",
    "    # Allocate to groups\n",
    "    df[\"group\"] = np.ceil(n_groups * (df.index + 1) / len(df)).astype(\"int\")\n",
    "\n",
    "    return df\n",
    "\n",
    "\n",
    "def blocked_rand(df, n_groups, block_vars):\n",
    "\n",
    "    return df.groupby(block_vars).apply(simple_rand, n_groups).reset_index(drop=True)\n",
    "\n",
    "\n",
    "blocked_rand(df, 3, [\"city\", \"female\"]).head()"
   ]
  },
  {
   "cell_type": "markdown",
   "metadata": {},
   "source": [
    "## Significance testing"
   ]
  },
  {
   "cell_type": "markdown",
   "metadata": {},
   "source": [
    "My notes from working through section 3, experiments and significance testing, of [Practical statistics for data science](https://learning.oreilly.com/library/view/practical-statistics-for/9781492072935/), to revise consepts and get comfortable implementing them in Python.\n"
   ]
  },
  {
   "cell_type": "markdown",
   "metadata": {},
   "source": [
    "### The basic experimental process:\n",
    "- Formulate a hypothesis\n",
    "- Design experiment\n",
    "- Collect data\n",
    "- Draw inferences and conclusions"
   ]
  },
  {
   "cell_type": "markdown",
   "metadata": {},
   "source": [
    "### Hypothesis testing\n",
    "\n",
    "- The book makes a nice point about why we need hypothesis testing in the first place: to guard against our tendency to underestimate chance, and, as a result, to interprete observed differences as being driven by something \"real\" (e.g. our treatment).\n",
    "- A nice example is our intuition of what a random series of coin flips looks like: most people will switch between heads and tail too frequently, believing that five heads in a row are very unlikely in a series of 50 flips (which it is not)."
   ]
  },
  {
   "cell_type": "markdown",
   "metadata": {},
   "source": [
    "### Resampling\n",
    "- Means to repeatedly sample values from observed data to assess variability in a statistic.\n",
    "- There are two main approaches: the bootstrap, usually used to assess the reliability of an estimate (see distributions notebook), and permutation tests, used to test hypotheses."
   ]
  },
  {
   "cell_type": "markdown",
   "metadata": {},
   "source": [
    "### Permutation tests\n",
    "\n",
    "- Is a way to perform hypothesis testing while being agnostic about the outcome distribution. In a traditional hypothesis test, we assume that the outcome variable (e.g. the difference between treatment and control outcome) has a certain distribution (usually t or standard normal) and then see where in that distribution the observed outcome falls: if it's far out on either tail of the distribution, beyond some critical value (usually the 2.5th percentile on either end) we conclude that the result is unlikely to be produced by chance and reject the null hypothesis.\n",
    "- A permutation test works the same except that we don't compare our outcome to a theoretical distribution, but to a distribution we create. We create the distribution by pooling all outcome data, resampling (without replacement) to construct groups of the size of each treatment group, and then comparing the outcomes. This outcome is one observation. We then repeat this procedure R times to build a distribution of outcomes, and finally compare our original outcome to the distribution to see where it falls and how likely it is to be a product of chance.\n",
    "- Permutation tests come in three variants: random permutation tests, exhaustive permuation tests, and bootstrap permutation tests. The first is as described above, in the second we construct our permutatin samples such that they cover all possible cases we can construct, and in a bootstrap test we sample with replacement. The exhaustive test is sometimes clled \"exact test\" because it guarantees that we will not find a significant result more often than the alpha level of the test. Bootstrap resampling models not only the randomness in the treatment allocation to subjects (as random variation does) but also the randomness in the sampling of subjects from a population. \n",
    "- Hence: bootstrap models both sampling and randomisation variation"
   ]
  },
  {
   "cell_type": "markdown",
   "metadata": {},
   "source": [
    "**Example: random permutation test for web stickiness**"
   ]
  },
  {
   "cell_type": "markdown",
   "metadata": {},
   "source": [
    "Create data"
   ]
  },
  {
   "cell_type": "code",
   "execution_count": 18,
   "metadata": {},
   "outputs": [
    {
     "data": {
      "text/html": [
       "<div>\n",
       "<style scoped>\n",
       "    .dataframe tbody tr th:only-of-type {\n",
       "        vertical-align: middle;\n",
       "    }\n",
       "\n",
       "    .dataframe tbody tr th {\n",
       "        vertical-align: top;\n",
       "    }\n",
       "\n",
       "    .dataframe thead th {\n",
       "        text-align: right;\n",
       "    }\n",
       "</style>\n",
       "<table border=\"1\" class=\"dataframe\">\n",
       "  <thead>\n",
       "    <tr style=\"text-align: right;\">\n",
       "      <th></th>\n",
       "      <th>group</th>\n",
       "      <th>session_time</th>\n",
       "    </tr>\n",
       "  </thead>\n",
       "  <tbody>\n",
       "    <tr>\n",
       "      <th>20</th>\n",
       "      <td>a</td>\n",
       "      <td>5.540896</td>\n",
       "    </tr>\n",
       "    <tr>\n",
       "      <th>4</th>\n",
       "      <td>a</td>\n",
       "      <td>2.980558</td>\n",
       "    </tr>\n",
       "    <tr>\n",
       "      <th>19</th>\n",
       "      <td>a</td>\n",
       "      <td>2.211652</td>\n",
       "    </tr>\n",
       "  </tbody>\n",
       "</table>\n",
       "</div>"
      ],
      "text/plain": [
       "   group  session_time\n",
       "20     a      5.540896\n",
       "4      a      2.980558\n",
       "19     a      2.211652"
      ]
     },
     "execution_count": 18,
     "metadata": {},
     "output_type": "execute_result"
    }
   ],
   "source": [
    "rng = np.random.default_rng(2312)\n",
    "\n",
    "sessions_a = rng.normal(3.5, 1, 25)\n",
    "sessions_b = np.random.normal(4.5, 1, 15)\n",
    "session_times = np.concatenate([sessions_a, sessions_b])\n",
    "groups = [\"a\"] * 25 + [\"b\"] * 15\n",
    "df = pd.DataFrame({\"group\": groups, \"session_time\": session_times})\n",
    "df.sample(3)"
   ]
  },
  {
   "cell_type": "markdown",
   "metadata": {},
   "source": [
    "Calculate and plot means"
   ]
  },
  {
   "cell_type": "code",
   "execution_count": 19,
   "metadata": {},
   "outputs": [
    {
     "name": "stdout",
     "output_type": "stream",
     "text": [
      "Mean difference in session times is 0.9 seconds.\n"
     ]
    },
    {
     "data": {
      "image/png": "[encoded data removed]",
      "text/plain": [
       "<Figure size 432x288 with 1 Axes>"
      ]
     },
     "metadata": {
      "image/png": {
       "height": 254,
       "width": 358
      }
     },
     "output_type": "display_data"
    }
   ],
   "source": [
    "mean_a = df[df[\"group\"] == \"a\"].session_time.mean()\n",
    "mean_b = df[df[\"group\"] == \"b\"].session_time.mean()\n",
    "mean_diff = mean_b - mean_a\n",
    "df.groupby(\"group\").mean().plot(kind=\"bar\", legend=None)\n",
    "print(f\"Mean difference in session times is {mean_diff:.2} seconds.\")"
   ]
  },
  {
   "cell_type": "markdown",
   "metadata": {},
   "source": [
    "Create permutations"
   ]
  },
  {
   "cell_type": "code",
   "execution_count": 20,
   "metadata": {},
   "outputs": [],
   "source": [
    "np.random.choice\n",
    "\n",
    "def random_perm(x, n_a, n_b):\n",
    "    \"\"\"Return difference in x for random groups of size n_a\n",
    "    and n_b (groups are sampled without replacement).\"\"\"\n",
    "    n = n_a + n_b\n",
    "    idx_a = set(rng.choice(range(n), n_a))\n",
    "    idx_b = set(range(n)) - idx_a\n",
    "    return x.loc[idx_a].mean() - x.loc[idx_b].mean()\n",
    "\n",
    "\n",
    "def bootstrap_perm(x, n_a, n_b):\n",
    "    \"\"\"Return difference in x for random groups of size n_a\n",
    "    and n_b (groups are sampled with replacement).\"\"\"\n",
    "    n = n_a + n_b\n",
    "    idx_a = rng.choice(range(n), n_a)\n",
    "    idx_b = rng.choice(range(n), n_b)\n",
    "    return x.loc[idx_a].mean() - x.loc[idx_b].mean()\n",
    "\n",
    "\n",
    "random_diffs = [random_perm(df.session_time, 25, 15) for _ in range(1000)]\n",
    "bootstrap_diffs = [bootstrap_perm(df.session_time, 25, 15) for _ in range(1000)]"
   ]
  },
  {
   "cell_type": "markdown",
   "metadata": {},
   "source": [
    "Plot distribution of permuation differences and group difference and calculate p-value"
   ]
  },
  {
   "cell_type": "code",
   "execution_count": 21,
   "metadata": {},
   "outputs": [
    {
     "name": "stdout",
     "output_type": "stream",
     "text": [
      "Random: P-value of observed difference is 0.005\n",
      "Bootstrap: P-value of observed difference is 0.006\n"
     ]
    },
    {
     "data": {
      "image/png": "[encoded data removed]",
      "text/plain": [
       "<Figure size 864x360 with 2 Axes>"
      ]
     },
     "metadata": {
      "image/png": {
       "height": 314,
       "width": 717
      }
     },
     "output_type": "display_data"
    }
   ],
   "source": [
    "fig, (ax0, ax1) = plt.subplots(1, 2, sharey=True, figsize=(12, 5))\n",
    "\n",
    "ax0.hist(random_diffs, bins=30)\n",
    "ax0.axvline(mean_diff, color=\"orange\", lw=2, ls=\"--\")\n",
    "ax0.set_xlabel(\"Session time differences (in seconds)\")\n",
    "ax0.set_ylabel(\"Frequency\")\n",
    "\n",
    "ax1.hist(bootstrap_diffs, bins=30)\n",
    "ax1.axvline(mean_diff, color=\"orange\", lw=2, ls=\"--\")\n",
    "ax1.set_xlabel(\"Session time differences (in seconds)\")\n",
    "\n",
    "p_random = sum(random_diffs > mean_diff) / len(random_diffs)\n",
    "p_bootstrap = sum(bootstrap_diffs > mean_diff) / len(bootstrap_diffs)\n",
    "print(f\"Random: P-value of observed difference is {p_random}\")\n",
    "print(f\"Bootstrap: P-value of observed difference is {p_bootstrap}\")"
   ]
  },
  {
   "cell_type": "markdown",
   "metadata": {},
   "source": [
    "**Example: comparing resampling and formal testing***\n",
    "\n",
    "We have different conversion rates for two prices A and B as shown below. Test whether the difference in conversion rates is statistically significant at the 5 percent level.\n",
    "\n",
    "Price A: conversion: 200; non-conversion 23539\n",
    "\n",
    "Price B: conversion: 182; non-conversion 22406"
   ]
  },
  {
   "cell_type": "markdown",
   "metadata": {},
   "source": [
    "Create dataset"
   ]
  },
  {
   "cell_type": "code",
   "execution_count": 22,
   "metadata": {},
   "outputs": [
    {
     "data": {
      "text/html": [
       "<div>\n",
       "<style scoped>\n",
       "    .dataframe tbody tr th:only-of-type {\n",
       "        vertical-align: middle;\n",
       "    }\n",
       "\n",
       "    .dataframe tbody tr th {\n",
       "        vertical-align: top;\n",
       "    }\n",
       "\n",
       "    .dataframe thead th {\n",
       "        text-align: right;\n",
       "    }\n",
       "</style>\n",
       "<table border=\"1\" class=\"dataframe\">\n",
       "  <thead>\n",
       "    <tr style=\"text-align: right;\">\n",
       "      <th></th>\n",
       "      <th>group</th>\n",
       "      <th>conv</th>\n",
       "    </tr>\n",
       "  </thead>\n",
       "  <tbody>\n",
       "    <tr>\n",
       "      <th>0</th>\n",
       "      <td>a</td>\n",
       "      <td>1</td>\n",
       "    </tr>\n",
       "    <tr>\n",
       "      <th>1</th>\n",
       "      <td>a</td>\n",
       "      <td>1</td>\n",
       "    </tr>\n",
       "    <tr>\n",
       "      <th>2</th>\n",
       "      <td>a</td>\n",
       "      <td>1</td>\n",
       "    </tr>\n",
       "    <tr>\n",
       "      <th>3</th>\n",
       "      <td>a</td>\n",
       "      <td>1</td>\n",
       "    </tr>\n",
       "    <tr>\n",
       "      <th>4</th>\n",
       "      <td>a</td>\n",
       "      <td>1</td>\n",
       "    </tr>\n",
       "  </tbody>\n",
       "</table>\n",
       "</div>"
      ],
      "text/plain": [
       "  group  conv\n",
       "0     a     1\n",
       "1     a     1\n",
       "2     a     1\n",
       "3     a     1\n",
       "4     a     1"
      ]
     },
     "execution_count": 22,
     "metadata": {},
     "output_type": "execute_result"
    }
   ],
   "source": [
    "a_c, a_nc = [200, 23539]\n",
    "b_c, b_nc = [182, 22406]\n",
    "a_n = a_c + a_nc\n",
    "b_n = b_c + b_nc\n",
    "groups = [\"a\"] * a_n + [\"b\"] * b_n\n",
    "outcomes = [1] * a_c + [0] * a_nc + [1] * b_c + [0] * b_nc\n",
    "df = pd.DataFrame({\"group\": groups, \"conv\": outcomes})\n",
    "df.head()"
   ]
  },
  {
   "cell_type": "markdown",
   "metadata": {},
   "source": [
    "Calculate difference in conversion rate"
   ]
  },
  {
   "cell_type": "code",
   "execution_count": 23,
   "metadata": {},
   "outputs": [
    {
     "name": "stdout",
     "output_type": "stream",
     "text": [
      "Difference in conversion rate is 0.0368 percentage points.\n"
     ]
    }
   ],
   "source": [
    "conv_a = df[df.group.eq(\"a\")].conv.mean()\n",
    "conv_b = df[df.group.eq(\"b\")].conv.mean()\n",
    "conv_diff = conv_a - conv_b\n",
    "print(f\"Difference in conversion rate is {conv_diff * 100:.3} percentage points.\")"
   ]
  },
  {
   "cell_type": "markdown",
   "metadata": {},
   "source": [
    "Test significance using random permutation test"
   ]
  },
  {
   "cell_type": "code",
   "execution_count": 25,
   "metadata": {},
   "outputs": [
    {
     "name": "stdout",
     "output_type": "stream",
     "text": [
      "P-value is: 0.336\n"
     ]
    }
   ],
   "source": [
    "diffs = [random_perm(df.conv, a_n, b_n) for _ in range(1000)]\n",
    "p = sum(diff > conv_diff for diff in diffs) / len(diffs)\n",
    "print(f\"P-value is: {p:.3f}\")"
   ]
  },
  {
   "cell_type": "markdown",
   "metadata": {},
   "source": [
    "Test using a one-sided two-proportion z-test"
   ]
  },
  {
   "cell_type": "code",
   "execution_count": 27,
   "metadata": {},
   "outputs": [
    {
     "name": "stdout",
     "output_type": "stream",
     "text": [
      "P-value is: 0.331\n"
     ]
    }
   ],
   "source": [
    "convs = np.array([a_c, b_c])\n",
    "obs = np.array([a_n, b_n])\n",
    "z, p = sm.stats.proportions_ztest(convs, obs, alternative=\"larger\")\n",
    "print(f\"P-value is: {p:.3f}\")"
   ]
  },
  {
   "cell_type": "markdown",
   "metadata": {},
   "source": [
    "Test using a one-sided t-test"
   ]
  },
  {
   "cell_type": "code",
   "execution_count": 31,
   "metadata": {},
   "outputs": [
    {
     "name": "stdout",
     "output_type": "stream",
     "text": [
      "P-value is: 0.331\n"
     ]
    }
   ],
   "source": [
    "outcomes_a = df[df.group.eq(\"a\")].conv\n",
    "outcomes_b = df[df.group.eq(\"b\")].conv\n",
    "t, p, _ = sm.stats.ttest_ind(outcomes_a, outcomes_b, usevar='unequal')\n",
    "print(f\"P-value is: {p / 2:.3f}\")"
   ]
  },
  {
   "cell_type": "markdown",
   "metadata": {},
   "source": [
    "### Multiple hypothesis testing\n",
    "\n",
    "- If we use a significance level of 5 percent, then if we run 20 hypothesis tests the probability that we will at least make one Type I error (find a significant result purely due to chance) is $1 - 0.95^{20} = 0.64$.\n",
    "- This, in essence, captures the problem of multiple comparisons, which applies similarly to trying out different model specifications and models -- the more you try, the larger the probability that significant results appear due to chance.\n",
    "- Ways to guard against this:\n",
    "    - Explicit corrections (like Bonferroni) in the case of multiple hypothesis tests\n",
    "    - Holdout sets in classification tasks, awareness of the problem in unsupervised learning tasks"
   ]
  },
  {
   "cell_type": "markdown",
   "metadata": {},
   "source": [
    "### ANOVA\n",
    "\n",
    "- ANOVA decomposes the overall variance between groups into between- and within-group variance, and then constructs an F-test using the ratio of the two sources of variance to assess the likelihood that the observed between-group variance is a result of chance.\n",
    "- One use of this is to test whether means of multiple groups differ statistically (i.e. whether the variance between them is unlikely to result from chance).\n",
    "- The test is an omnibus test and tells us whether there is significant variation in the data overall (whether some group means are significantly different from others), but not which ones differ and by how much.\n",
    "- For this, we can conduct so-called post-hoc tests, which are simple pair-wise t-tests, usually with adjusted significance levels to account for the multiple testing problem. Two common approaches are Tukey's HSD test and Bonferroni's correction approach.\n",
    "- One way to straightforwardly perform an ANOVA analysis is to encode group indicators as dummies and then regress the outcome variable on the set of dummies (either dropping one and including an intercept, or including all dummies but omitting the intrecept). The F-test of the regression, which tests for whether the model as a whole (i.e. all estimators together) has explanatory power is exactly the ANOVA F-test.\n",
    "- As Peter Kennedy explains on p. 240 of his textbook, if you know multiple regression and understand the use of dummy variables, then there is no need to worry about ANOVA, because regression gives you ANOVA plus additional useful output (like parameter estimates for each group). But it's obviously worthwhile to know the link between the two.\n",
    "\n",
    "- Helpful references: [here](https://pythonfordatascience.org/anova-python/)"
   ]
  },
  {
   "cell_type": "code",
   "execution_count": 57,
   "metadata": {},
   "outputs": [
    {
     "name": "stdout",
     "output_type": "stream",
     "text": [
      "Observed variance of means is 0.36.\n"
     ]
    },
    {
     "data": {
      "image/png": "[encoded data removed]",
      "text/plain": [
       "<Figure size 432x288 with 1 Axes>"
      ]
     },
     "metadata": {
      "image/png": {
       "height": 254,
       "width": 358
      }
     },
     "output_type": "display_data"
    }
   ],
   "source": [
    "# Create dataset\n",
    "\n",
    "np.random.seed(2312)\n",
    "n = 10\n",
    "groups = np.sort([\"a\", \"b\", \"c\", \"d\"] * n)\n",
    "times_a = np.random.normal(5, 1, n)\n",
    "times_b = np.random.normal(4.5, 1, n)\n",
    "times_c = np.random.normal(4.25, 1, n)\n",
    "times_d = np.random.normal(4, 1, n)\n",
    "times = np.concatenate([times_a, times_b, times_c, times_d])\n",
    "df = pd.DataFrame({\"group\": groups, \"time\": times})\n",
    "df.head()\n",
    "\n",
    "observed_var = df.groupby(\"group\").mean().var()[0]\n",
    "\n",
    "df.groupby(\"group\").mean().plot(kind=\"bar\", legend=None)\n",
    "print(f\"Observed variance of means is {observed_var:.2}.\")"
   ]
  },
  {
   "cell_type": "code",
   "execution_count": 58,
   "metadata": {},
   "outputs": [
    {
     "name": "stdout",
     "output_type": "stream",
     "text": [
      "P-value is 0.028\n"
     ]
    }
   ],
   "source": [
    "# ANOVA using a permutation test\n",
    "\n",
    "np.random.seed(231286)\n",
    "\n",
    "\n",
    "def perm_var(df):\n",
    "    df = df.copy()\n",
    "    df[\"time\"] = np.random.permutation(df[\"time\"].values)\n",
    "    return df.groupby(\"group\").mean().var()[0]\n",
    "\n",
    "\n",
    "p = np.mean([perm_var(df) > observed_var for _ in range(1000)])\n",
    "print(f\"P-value is {p:.3}\")"
   ]
  },
  {
   "cell_type": "code",
   "execution_count": 59,
   "metadata": {},
   "outputs": [
    {
     "name": "stdout",
     "output_type": "stream",
     "text": [
      "F-statistic is 3.317, p-value is 0.0306\n"
     ]
    }
   ],
   "source": [
    "# ANOVA in scipy\n",
    "\n",
    "from scipy import stats\n",
    "\n",
    "dataA = df[df[\"group\"] == \"a\"].time\n",
    "dataB = df[df[\"group\"] == \"b\"].time\n",
    "dataC = df[df[\"group\"] == \"c\"].time\n",
    "dataD = df[df[\"group\"] == \"d\"].time\n",
    "\n",
    "F, p = stats.f_oneway(dataA, dataB, dataC, dataD)\n",
    "print(f\"F-statistic is {F:.4}, p-value is {p:.3}\")"
   ]
  },
  {
   "cell_type": "code",
   "execution_count": 63,
   "metadata": {},
   "outputs": [
    {
     "name": "stdout",
     "output_type": "stream",
     "text": [
      "                            OLS Regression Results                            \n",
      "==============================================================================\n",
      "Dep. Variable:                      y   R-squared:                       0.217\n",
      "Model:                            OLS   Adj. R-squared:                  0.151\n",
      "Method:                 Least Squares   F-statistic:                     3.317\n",
      "Date:                Wed, 08 Jun 2022   Prob (F-statistic):             0.0306\n",
      "Time:                        11:42:07   Log-Likelihood:                -56.023\n",
      "No. Observations:                  40   AIC:                             120.0\n",
      "Df Residuals:                      36   BIC:                             126.8\n",
      "Df Model:                           3                                         \n",
      "Covariance Type:            nonrobust                                         \n",
      "==============================================================================\n",
      "                 coef    std err          t      P>|t|      [0.025      0.975]\n",
      "------------------------------------------------------------------------------\n",
      "x1             5.4287      0.327     16.588      0.000       4.765       6.092\n",
      "x2             4.5132      0.327     13.790      0.000       3.849       5.177\n",
      "x3             4.4185      0.327     13.501      0.000       3.755       5.082\n",
      "x4             4.0181      0.327     12.277      0.000       3.354       4.682\n",
      "==============================================================================\n",
      "Omnibus:                        0.738   Durbin-Watson:                   1.894\n",
      "Prob(Omnibus):                  0.691   Jarque-Bera (JB):                0.746\n",
      "Skew:                           0.295   Prob(JB):                        0.689\n",
      "Kurtosis:                       2.686   Cond. No.                         1.00\n",
      "==============================================================================\n",
      "\n",
      "Notes:\n",
      "[1] Standard Errors assume that the covariance matrix of the errors is correctly specified.\n"
     ]
    }
   ],
   "source": [
    "# ANOVA with statsmodels\n",
    "\n",
    "x = pd.get_dummies(df[\"group\"]).values\n",
    "y = df[\"time\"].values\n",
    "\n",
    "print(sm.OLS(y, x).fit().summary())"
   ]
  },
  {
   "cell_type": "markdown",
   "metadata": {},
   "source": [
    "Interpretation of output:\n",
    "\n",
    "- F(3, 36)-test is test statistics for ANOVA. \n",
    "- Durbin-Watson tests for autocorrelation in the residuals and takes values between 0 and 4, with 2 meaning no autocorrelation and values between [1.5, 2.5] considered to be relatively normal. Values below 2 indicate positive autocorrelation, values above 2 negative autocorrelation. Above, we have slight positive autocorrelation.\n",
    "- Omnibus tests for homogeneity of variance, which is not rejected above.\n",
    "- J-B tests for normality of the errors, which, too, is not rejected."
   ]
  },
  {
   "cell_type": "markdown",
   "metadata": {},
   "source": [
    "Finally, we want to do pair-wise comparisons (post-hoc test in ANOVA lingo) to test for differerent effects among the different groups."
   ]
  },
  {
   "cell_type": "code",
   "execution_count": 65,
   "metadata": {},
   "outputs": [
    {
     "name": "stdout",
     "output_type": "stream",
     "text": [
      "Multiple Comparison of Means - Tukey HSD, FWER=0.05 \n",
      "====================================================\n",
      "group1 group2 meandiff p-adj   lower   upper  reject\n",
      "----------------------------------------------------\n",
      "     a      b  -0.9155 0.2152  -2.162   0.331  False\n",
      "     a      c  -1.0102 0.1475 -2.2567  0.2363  False\n",
      "     a      d  -1.4107 0.0214 -2.6572 -0.1641   True\n",
      "     b      c  -0.0947    0.9 -1.3412  1.1518  False\n",
      "     b      d  -0.4952 0.6891 -1.7417  0.7514  False\n",
      "     c      d  -0.4005 0.8021  -1.647  0.8461  False\n",
      "----------------------------------------------------\n"
     ]
    }
   ],
   "source": [
    "# Pairwise comparisons using Tukey's HSD (honest significant difference) test\n",
    "\n",
    "from statsmodels.stats.multicomp import MultiComparison, pairwise_tukeyhsd\n",
    "\n",
    "mc = MultiComparison(df[\"time\"], df[\"group\"])\n",
    "print(mc.tukeyhsd())"
   ]
  },
  {
   "cell_type": "code",
   "execution_count": 66,
   "metadata": {},
   "outputs": [
    {
     "name": "stdout",
     "output_type": "stream",
     "text": [
      "Adjusted alpha is 0.00833\n",
      "a vs b: p-value: 0.0621, reject H0: False\n",
      "a vs c: p-value: 0.0342, reject H0: False\n",
      "a vs d: p-value: 0.00297, reject H0: True\n",
      "b vs c: p-value: 0.855, reject H0: False\n",
      "b vs d: p-value: 0.32, reject H0: False\n",
      "c vs d: p-value: 0.401, reject H0: False\n"
     ]
    }
   ],
   "source": [
    "# Pairwise comparison using the Bonferroni correction\n",
    "\n",
    "from itertools import combinations\n",
    "\n",
    "groups = df[\"group\"].unique()\n",
    "n_comparisons = len([c for c in combinations(groups, 2)])\n",
    "alpha_adjusted = 0.05 / n_comparisons\n",
    "\n",
    "print(f\"Adjusted alpha is {alpha_adjusted:.3}\")\n",
    "for a, b in combinations(groups, 2):\n",
    "    t, p = stats.ttest_ind(df[\"time\"][df[\"group\"] == a], df[\"time\"][df[\"group\"] == b])\n",
    "    print(f\"{a} vs {b}: p-value: {p:.3}, reject H0: {p < alpha_adjusted}\")"
   ]
  },
  {
   "cell_type": "markdown",
   "metadata": {},
   "source": [
    "### Chi-Square tests"
   ]
  },
  {
   "cell_type": "markdown",
   "metadata": {},
   "source": [
    "Uses in data-science:\n",
    "- Determining appropriate sample size for web experiments where, despite large exposure, actual click rates are low (Fisher's exact test is recommended, here, look at \"Lady tasting tea\" example).\n",
    "- As a filter to check whether something is worth pursuing further: is crime concentrated in one area to a degree that is unlikely to result from chance? \n",
    "\n",
    "Resources:\n",
    "- [Stat trek](https://stattrek.com/chi-square-test/independence.aspx?Tutorial=AP)"
   ]
  },
  {
   "cell_type": "code",
   "execution_count": 168,
   "metadata": {},
   "outputs": [
    {
     "data": {
      "text/html": [
       "<div>\n",
       "<style scoped>\n",
       "    .dataframe tbody tr th:only-of-type {\n",
       "        vertical-align: middle;\n",
       "    }\n",
       "\n",
       "    .dataframe tbody tr th {\n",
       "        vertical-align: top;\n",
       "    }\n",
       "\n",
       "    .dataframe thead th {\n",
       "        text-align: right;\n",
       "    }\n",
       "</style>\n",
       "<table border=\"1\" class=\"dataframe\">\n",
       "  <thead>\n",
       "    <tr style=\"text-align: right;\">\n",
       "      <th>groups</th>\n",
       "      <th>a</th>\n",
       "      <th>b</th>\n",
       "      <th>c</th>\n",
       "    </tr>\n",
       "    <tr>\n",
       "      <th>col</th>\n",
       "      <th></th>\n",
       "      <th></th>\n",
       "      <th></th>\n",
       "    </tr>\n",
       "  </thead>\n",
       "  <tbody>\n",
       "    <tr>\n",
       "      <th>Clicks</th>\n",
       "      <td>14</td>\n",
       "      <td>8</td>\n",
       "      <td>12</td>\n",
       "    </tr>\n",
       "    <tr>\n",
       "      <th>NoClicks</th>\n",
       "      <td>986</td>\n",
       "      <td>992</td>\n",
       "      <td>988</td>\n",
       "    </tr>\n",
       "  </tbody>\n",
       "</table>\n",
       "</div>"
      ],
      "text/plain": [
       "groups      a    b    c\n",
       "col                    \n",
       "Clicks     14    8   12\n",
       "NoClicks  986  992  988"
      ]
     },
     "execution_count": 168,
     "metadata": {},
     "output_type": "execute_result"
    }
   ],
   "source": [
    "# Create dataset\n",
    "data = {\n",
    "    \"counts\": [14, 8, 12, 986, 992, 988],\n",
    "    \"groups\": [\"a\", \"b\", \"c\"] * 2,\n",
    "    \"col\": np.sort([\"Clicks\", \"NoClicks\"] * 3),\n",
    "}\n",
    "df = pd.DataFrame(data).pivot_table(index=\"col\", columns=\"groups\")\n",
    "df.columns = df.columns.droplevel()\n",
    "df"
   ]
  },
  {
   "cell_type": "code",
   "execution_count": 227,
   "metadata": {},
   "outputs": [
    {
     "name": "stdout",
     "output_type": "stream",
     "text": [
      "P-value is 0.04.\n"
     ]
    }
   ],
   "source": [
    "# Chi-Squared test using permutation approach\n",
    "\n",
    "\n",
    "def chi_squared(observed, expected):\n",
    "    \"\"\"Returns Chi-Squared test statistic.\"\"\"\n",
    "    pearson_residuals = (observed - expected) / np.sqrt(expected)\n",
    "    chi_squared = np.sum(pearson_residuals) ** 2\n",
    "    return chi_squared\n",
    "\n",
    "\n",
    "observed = df.values\n",
    "expected = [observed[0].mean()] * len(observed[0]) + [observed[1].mean()] * len(\n",
    "    observed[1]\n",
    ")\n",
    "observed = observed.flatten()\n",
    "\n",
    "chi_squared_observed = chi_squared(observed, expected)\n",
    "\n",
    "\n",
    "def chi_square_perm(box):\n",
    "    clicks = [\n",
    "        sum(random.sample(box, 1000)),\n",
    "        sum(random.sample(box, 1000)),\n",
    "        sum(random.sample(box, 1000)),\n",
    "    ]\n",
    "    noclicks = [1000 - n for n in clicks]\n",
    "    observed = np.array([clicks, noclicks]).flatten()\n",
    "    return chi_squared(observed, expected)\n",
    "\n",
    "\n",
    "box = [1] * df.loc[\"Clicks\"].sum() + [0] * df.loc[\"NoClicks\"].sum()\n",
    "\n",
    "perms = [chi_square_perm(box) for _ in range(100)]\n",
    "p = sum([perm < chi_squared_observed for perm in perms]) / len(perms)\n",
    "print(f\"P-value is {p}.\")"
   ]
  },
  {
   "cell_type": "code",
   "execution_count": 233,
   "metadata": {},
   "outputs": [
    {
     "name": "stdout",
     "output_type": "stream",
     "text": [
      "p-value: 0.4348\n"
     ]
    }
   ],
   "source": [
    "from scipy import stats\n",
    "\n",
    "chisq, p, dfs, exp = stats.chi2_contingency(df.values.T)\n",
    "print(f\"p-value: {pvalue:.4f}\")"
   ]
  },
  {
   "cell_type": "code",
   "execution_count": 56,
   "metadata": {},
   "outputs": [
    {
     "name": "stdout",
     "output_type": "stream",
     "text": [
      "P-value is: 0.350\n"
     ]
    }
   ],
   "source": [
    "import scipy.stats\n",
    "\n",
    "chi2, p, df, E = stats.chi2_contingency([[a_c, a_nc], [b_c, b_nc]])\n",
    "print(f\"P-value is: {p / 2:.3f}\")"
   ]
  },
  {
   "cell_type": "markdown",
   "metadata": {},
   "source": [
    "Seems odd that the difference would be this large. But can't figure out what's going on. The test statistics differ widely, and I can't see why. Might look into this at some point."
   ]
  },
  {
   "cell_type": "markdown",
   "metadata": {},
   "source": [
    "### Multi-arm bandit algorithms"
   ]
  },
  {
   "cell_type": "markdown",
   "metadata": {},
   "source": [
    "- A class of algorithms to decide to what extent and when to shift towards the dominant seeming treatment in an A/B test."
   ]
  },
  {
   "cell_type": "code",
   "execution_count": null,
   "metadata": {},
   "outputs": [],
   "source": []
  }
 ],
 "metadata": {
  "kernelspec": {
   "display_name": "jet",
   "language": "python",
   "name": "jet"
  },
  "language_info": {
   "codemirror_mode": {
    "name": "ipython",
    "version": 3
   },
   "file_extension": ".py",
   "mimetype": "text/x-python",
   "name": "python",
   "nbconvert_exporter": "python",
   "pygments_lexer": "ipython3",
   "version": "3.10.8"
  },
  "toc-autonumbering": false,
  "toc-showcode": false
 },
 "nbformat": 4,
 "nbformat_minor": 4
}
