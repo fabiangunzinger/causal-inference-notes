{
 "cells": [
  {
   "cell_type": "markdown",
   "id": "5ac74a30-fa4b-4706-90ad-b7f9f4d1bbd9",
   "metadata": {},
   "source": [
    "## Test statistics"
   ]
  },
  {
   "cell_type": "markdown",
   "id": "9cf7570d-ca13-42f0-8266-24251e0f4b1a",
   "metadata": {},
   "source": [
    "### A small simulation study\n",
    "\n",
    "Based on Section 5.6 in IR"
   ]
  },
  {
   "cell_type": "code",
   "execution_count": 188,
   "id": "5a31fffe-0492-4de4-a354-73a483cf763e",
   "metadata": {},
   "outputs": [],
   "source": [
    "import itertools\n",
    "\n",
    "import numpy as np"
   ]
  },
  {
   "cell_type": "code",
   "execution_count": 189,
   "id": "ebc902b7-e985-4a44-a97b-d142f51fe1b5",
   "metadata": {},
   "outputs": [],
   "source": [
    "rng = np.random.default_rng(2312)"
   ]
  },
  {
   "cell_type": "code",
   "execution_count": null,
   "id": "5de51e2b-cbe9-4fb3-973a-f98e2c901cb3",
   "metadata": {},
   "outputs": [],
   "source": [
    "n = 1000\n",
    "\n",
    "tau = 0.5\n",
    "\n",
    "y0 = rng.normal(0, 1, n//2)\n",
    "y1 = rng.normal(0 + tau, 1, n//2)\n",
    "y = np.concatenate([y0, y1])\n",
    "\n",
    "observed_t = abs(y[:n//2].mean() - y[n//2:].mean())\n",
    "\n",
    "indices = np.arange(n)\n",
    "treat_indices = list(itertools.combinations(indices, n//2))\n",
    "\n",
    "test_stats = []\n",
    "\n",
    "for treat_idx in treat_indices:\n",
    "    treat_idx = list(treat_idx)\n",
    "    control_idx = np.delete(indices, treat_idx)\n",
    "    t = y[treat_idx].mean() - y[control_idx].mean()\n",
    "    test_stats.append(t)\n",
    "    \n",
    "(test_stats >= observed_t).mean()"
   ]
  },
  {
   "cell_type": "code",
   "execution_count": 194,
   "id": "4eb2d611-d110-42f1-81ab-afcddf731f22",
   "metadata": {},
   "outputs": [
    {
     "data": {
      "text/plain": [
       "0.5342832890637125"
      ]
     },
     "execution_count": 194,
     "metadata": {},
     "output_type": "execute_result"
    }
   ],
   "source": [
    "observed_t = abs(y[:n//2].mean() - y[n//2:].mean())\n",
    "mean_actual"
   ]
  },
  {
   "cell_type": "code",
   "execution_count": 152,
   "id": "f79bb25a-80e9-41a6-b6dd-ca3666195edd",
   "metadata": {},
   "outputs": [
    {
     "data": {
      "text/plain": [
       "array([ 0.59937606, -1.30027246,  1.52444225])"
      ]
     },
     "execution_count": 152,
     "metadata": {},
     "output_type": "execute_result"
    }
   ],
   "source": [
    "y[[1, 2, 3]]"
   ]
  },
  {
   "cell_type": "code",
   "execution_count": 165,
   "id": "a8f62d24-e7e7-4ff9-b5b4-eb0e176a46eb",
   "metadata": {},
   "outputs": [
    {
     "data": {
      "text/plain": [
       "array([0, 1])"
      ]
     },
     "execution_count": 165,
     "metadata": {},
     "output_type": "execute_result"
    }
   ],
   "source": [
    "np.delete(np.arange(4), [2, 3])"
   ]
  }
 ],
 "metadata": {
  "kernelspec": {
   "display_name": "wow-env",
   "language": "python",
   "name": "wow-env"
  },
  "language_info": {
   "codemirror_mode": {
    "name": "ipython",
    "version": 3
   },
   "file_extension": ".py",
   "mimetype": "text/x-python",
   "name": "python",
   "nbconvert_exporter": "python",
   "pygments_lexer": "ipython3",
   "version": "3.10.8"
  }
 },
 "nbformat": 4,
 "nbformat_minor": 5
}
