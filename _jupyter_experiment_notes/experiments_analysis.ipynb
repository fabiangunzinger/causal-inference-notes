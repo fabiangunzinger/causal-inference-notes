{
 "cells": [
  {
   "cell_type": "markdown",
   "id": "71223cdf-d5ae-4f56-a7d4-43981efb7411",
   "metadata": {},
   "source": [
    "## Analysis"
   ]
  },
  {
   "cell_type": "markdown",
   "id": "60c98d30-6514-4be9-81be-1d079d1c58d8",
   "metadata": {},
   "source": [
    "### Fisher's exact p-value approach"
   ]
  },
  {
   "cell_type": "markdown",
   "id": "5522c388-72b6-4c4d-9515-12eb3f426a1d",
   "metadata": {},
   "source": [
    "### Neymans's repeated sampling approach"
   ]
  },
  {
   "cell_type": "markdown",
   "id": "274091c8-f3fe-44e8-8478-8c62e0a050e5",
   "metadata": {},
   "source": [
    "- Based on Chapter 6 in IR\n",
    "\n",
    "- Motivating questions: What would be the difference between average outcomes if some units were assigned to a treatment and others weren't? Can we create confidence intervals for such an average treatment effect?"
   ]
  },
  {
   "cell_type": "markdown",
   "id": "77d6f77e-49d6-41e0-8fbf-a77f1df544db",
   "metadata": {},
   "source": [
    "#### Difference in means estimator\n",
    "\n",
    "The estimand of interest, the average treatment effect (ATE) for the sample for which we have data (the \"finite sample\"), is:\n",
    "\n",
    "$$\n",
    "\\tau_{fs} = \\frac{1}{N}\\sum_{i=1}^{N}\\left(Y_i(1) - Y_i(0)\\right) = \\bar{Y}(1) - \\bar{Y}(0).\n",
    "$$\n",
    "\n",
    "Neyman's proposed estimator is:\n",
    "\n",
    "$$\n",
    "\\hat{\\tau}^{dif} = \\frac{1}{N_t}\\sum_{i:W_i = 1}Y_i^{obs} - \\frac{1}{N_c}\\sum_{i:W_i = 0}Y_i^{obs} =  \\bar{Y}_{t}^{obs} - \\bar{Y}_{c}^{obs},\n",
    "$$\n",
    "\n",
    "which can be rewritten as (useful way to think about it!):\n",
    "\n",
    "$$\n",
    "\\hat{\\tau}^{dif} = \\frac{1}{N_t} \\sum_{i=1}^N W_i Y_i(1) - \\frac{1}{N_c}\\sum_{i=1}^N (1 - W_i) Y_i(0) \\\\\n",
    "= \\frac{1}{N} \\sum_{i=1}^N \\left( \\frac{N}{N_t} W_i Y_i(1) - \\frac{N}{N_c} (1 - W_i) Y_i(0) \\right)\n",
    "$$\n",
    "\n",
    "\n",
    "and shown to be an unbiased estimator of the average treatment effect.\n"
   ]
  },
  {
   "cell_type": "markdown",
   "id": "9da07b2d-9c62-4d5f-a2f2-df8e182af23c",
   "metadata": {},
   "source": [
    "#### Sampling variance of the difference in means estimator\n",
    "\n",
    "The estimand is:\n",
    "\n",
    "$$\n",
    "V_w\\left(\\bar{Y}_t^{obs} - \\bar{Y}_c^{obs}\\right) = S_t^2 + S_c^2 - S_{ct}^2,\n",
    "$$\n",
    "\n",
    "where $S_t^2$ and $S_c^2$ are the variances of $Y(1)$ and $Y(0)$ in the sample, and $S_{ct}^2$ is the sample variance of the unit-level treatment effects. The reason this expression is complicated is that in a completely randomised experiment, with $N_t$ units allocated to treatment, unit-level treatment assignments are not independent (since one unit being allocated to treatment lowers the probability of being allocated to treatment for all remaining units).\n",
    "\n",
    "Because we never observe both potential outcomes, there is no hope of estimating the sample variance of unit-level treatment effects.\n",
    "\n",
    "A commonly used estimator (recommended in practice by IR!) is:\n",
    "\n",
    "$$\n",
    "\\hat{V}^{neyman} = \\frac{s_t^2}{N_t} + \\frac{s_c^2}{N_c},\n",
    "$$\n",
    "\n",
    "where $s_t^2$ and $s_c^2$ are unbiased estimators of $S_t^2$ and $S_c^2$. This estimator is popular for a few reasons:\n",
    "\n",
    "1. If treatment effects are constant across units, then this is an unbiased estimator of the true sampling variance of $\\bar{Y}_t^{obs} - \\bar{Y}_c^{obs}$.\n",
    "\n",
    "2. If treatment effects are not constant, then this is a conservative estimator of the sampling variance (since $S_{ct}^2$ is non-negative).\n",
    "\n",
    "3. It is always unbiased for $\\hat{\\tau}^{dif}$ as an estimator of the infinite super-population average treatment effect (see below).\n",
    "\n",
    "There are other options (see Section 6.5 in the IR book)."
   ]
  },
  {
   "cell_type": "markdown",
   "id": "fcbcb703-01bd-45c6-90d4-e227902980ae",
   "metadata": {},
   "source": [
    "#### Confidence intervals and testing\n",
    "\n",
    "- Given $\\hat{\\tau}^{dif}$ and $\\hat{V}^{neyman}$, we can calculate confidence intervals and test statistics in the usual way."
   ]
  },
  {
   "cell_type": "markdown",
   "id": "acf972db-656d-42ed-ab4f-5df64d8f44ed",
   "metadata": {},
   "source": [
    "#### Inference for population average treatment effects\n",
    "\n",
    "An alternative perspective is to think of the $N$ observations we observe as a random sample from a infinitely large super-population, and to think of the estimated treatment effect as an estimate of the average treatment effect for that larger population.\n",
    "\n",
    "In this case, the estimand of interest is:\n",
    "\n",
    "$$\n",
    "\\tau_{sp} = \\mathop{\\mathbb{E}_{sp}}[Y_i(1) - Y_i(0)],\n",
    "$$\n",
    "\n",
    "and $\\hat{\\tau}^{dif}$ and $\\hat{V}^{neyman}$ are unbiased estimators of its mean and variance. "
   ]
  },
  {
   "cell_type": "markdown",
   "id": "f05f5f0e-0a02-431d-8a52-17657bcc3b23",
   "metadata": {},
   "source": [
    "### Regression methods for completely randomised experiments"
   ]
  },
  {
   "cell_type": "markdown",
   "id": "821f04b3-9b9e-4634-95ff-2b8687ae75e6",
   "metadata": {},
   "source": [
    "## Using regression\n",
    "\n",
    "Based on Imbens and Rubin chapter 7"
   ]
  },
  {
   "cell_type": "markdown",
   "id": "5d6bec81-cd8d-4eb3-b7e5-bb6af7882b55",
   "metadata": {},
   "source": [
    "- Using OLS to estimate ATE is virtually equivalent to Neyman approach of t-test for whether average difference is zero\n",
    "- With covariates, ATE only unbiased asymptotically (not major issue with large samples in tech companies)\n"
   ]
  },
  {
   "cell_type": "markdown",
   "id": "173300a1-b514-4ac8-ba9e-5a235d875fe8",
   "metadata": {},
   "source": [
    "### Unclustered example"
   ]
  },
  {
   "cell_type": "code",
   "execution_count": 83,
   "id": "2e63a0da-3ef5-4bc7-8e21-f5f5a8a89943",
   "metadata": {},
   "outputs": [],
   "source": [
    "import numpy as np\n",
    "import pandas as pd\n",
    "from scipy import stats\n",
    "import statsmodels.formula.api as smf"
   ]
  },
  {
   "cell_type": "code",
   "execution_count": 84,
   "id": "0726740b-ae96-4ab7-8895-870fd3ad3249",
   "metadata": {},
   "outputs": [
    {
     "data": {
      "text/html": [
       "<div>\n",
       "<style scoped>\n",
       "    .dataframe tbody tr th:only-of-type {\n",
       "        vertical-align: middle;\n",
       "    }\n",
       "\n",
       "    .dataframe tbody tr th {\n",
       "        vertical-align: top;\n",
       "    }\n",
       "\n",
       "    .dataframe thead th {\n",
       "        text-align: right;\n",
       "    }\n",
       "</style>\n",
       "<table border=\"1\" class=\"dataframe\">\n",
       "  <thead>\n",
       "    <tr style=\"text-align: right;\">\n",
       "      <th></th>\n",
       "      <th>pre</th>\n",
       "      <th>post</th>\n",
       "      <th>t</th>\n",
       "      <th>d</th>\n",
       "    </tr>\n",
       "  </thead>\n",
       "  <tbody>\n",
       "    <tr>\n",
       "      <th>0</th>\n",
       "      <td>0.208084</td>\n",
       "      <td>-1.620337</td>\n",
       "      <td>0</td>\n",
       "      <td>-1.828421</td>\n",
       "    </tr>\n",
       "    <tr>\n",
       "      <th>1</th>\n",
       "      <td>0.730465</td>\n",
       "      <td>3.940700</td>\n",
       "      <td>0</td>\n",
       "      <td>3.210235</td>\n",
       "    </tr>\n",
       "    <tr>\n",
       "      <th>2</th>\n",
       "      <td>3.471432</td>\n",
       "      <td>5.558608</td>\n",
       "      <td>0</td>\n",
       "      <td>2.087176</td>\n",
       "    </tr>\n",
       "    <tr>\n",
       "      <th>3</th>\n",
       "      <td>0.585465</td>\n",
       "      <td>1.881073</td>\n",
       "      <td>0</td>\n",
       "      <td>1.295608</td>\n",
       "    </tr>\n",
       "    <tr>\n",
       "      <th>4</th>\n",
       "      <td>0.961117</td>\n",
       "      <td>2.281668</td>\n",
       "      <td>0</td>\n",
       "      <td>1.320551</td>\n",
       "    </tr>\n",
       "  </tbody>\n",
       "</table>\n",
       "</div>"
      ],
      "text/plain": [
       "        pre      post  t         d\n",
       "0  0.208084 -1.620337  0 -1.828421\n",
       "1  0.730465  3.940700  0  3.210235\n",
       "2  3.471432  5.558608  0  2.087176\n",
       "3  0.585465  1.881073  0  1.295608\n",
       "4  0.961117  2.281668  0  1.320551"
      ]
     },
     "execution_count": 84,
     "metadata": {},
     "output_type": "execute_result"
    }
   ],
   "source": [
    "rng = np.random.default_rng(2312)\n",
    "n = 1000\n",
    "\n",
    "df = pd.DataFrame({\n",
    "    \"pre\": rng.normal(2, 2, n),\n",
    "    \"post\": np.concatenate([rng.normal(2, 2, int(n/2)), rng.normal(3, 2, int(n/2))]),\n",
    "    \"t\": [0] * int(n/2) + [1] * int(n/2)\n",
    "}).assign(d=lambda df: df.post - df.pre)\n",
    "df.head()"
   ]
  },
  {
   "cell_type": "code",
   "execution_count": 85,
   "id": "05c39664-6926-4bba-b714-01b8b10b39b5",
   "metadata": {},
   "outputs": [
    {
     "data": {
      "text/plain": [
       "Ttest_indResult(statistic=4.186092154991707, pvalue=3.088414843886731e-05)"
      ]
     },
     "execution_count": 85,
     "metadata": {},
     "output_type": "execute_result"
    }
   ],
   "source": [
    "# t-test\n",
    "stats.ttest_ind(df[df.t.eq(1)].d, df[df.t.eq(0)].d)"
   ]
  },
  {
   "cell_type": "code",
   "execution_count": 86,
   "id": "4f90616a-1d14-4ba8-9a3d-6ab41dbfd4eb",
   "metadata": {},
   "outputs": [
    {
     "name": "stdout",
     "output_type": "stream",
     "text": [
      "                            OLS Regression Results                            \n",
      "==============================================================================\n",
      "Dep. Variable:                      d   R-squared:                       0.017\n",
      "Model:                            OLS   Adj. R-squared:                  0.016\n",
      "Method:                 Least Squares   F-statistic:                     17.52\n",
      "Date:                Fri, 08 Jul 2022   Prob (F-statistic):           3.09e-05\n",
      "Time:                        10:44:32   Log-Likelihood:                -2461.0\n",
      "No. Observations:                1000   AIC:                             4926.\n",
      "Df Residuals:                     998   BIC:                             4936.\n",
      "Df Model:                           1                                         \n",
      "Covariance Type:            nonrobust                                         \n",
      "==============================================================================\n",
      "                 coef    std err          t      P>|t|      [0.025      0.975]\n",
      "------------------------------------------------------------------------------\n",
      "Intercept      0.0931      0.127      0.733      0.463      -0.156       0.342\n",
      "t              0.7514      0.179      4.186      0.000       0.399       1.104\n",
      "==============================================================================\n",
      "Omnibus:                        0.687   Durbin-Watson:                   2.054\n",
      "Prob(Omnibus):                  0.709   Jarque-Bera (JB):                0.632\n",
      "Skew:                           0.061   Prob(JB):                        0.729\n",
      "Kurtosis:                       3.023   Cond. No.                         2.62\n",
      "==============================================================================\n",
      "\n",
      "Notes:\n",
      "[1] Standard Errors assume that the covariance matrix of the errors is correctly specified.\n"
     ]
    }
   ],
   "source": [
    "# using regression\n",
    "m = smf.ols('d ~ t', data=df).fit()\n",
    "print(m.summary())"
   ]
  },
  {
   "cell_type": "code",
   "execution_count": 87,
   "id": "20da64cd-7002-4487-8791-0a5e72cf41d2",
   "metadata": {},
   "outputs": [
    {
     "data": {
      "text/plain": [
       "(4.186092154991713, 3.088414843886643e-05)"
      ]
     },
     "execution_count": 87,
     "metadata": {},
     "output_type": "execute_result"
    }
   ],
   "source": [
    "m.tvalues['t'], m.pvalues['t']"
   ]
  },
  {
   "cell_type": "markdown",
   "id": "0bf1bccc-24f9-43e0-abbb-15e3abd9c1ca",
   "metadata": {},
   "source": []
  },
  {
   "cell_type": "markdown",
   "id": "c91865ee-45b6-4774-b223-737ff935a591",
   "metadata": {},
   "source": [
    "## dev"
   ]
  },
  {
   "cell_type": "code",
   "execution_count": 90,
   "id": "532708d4-bd15-4d8f-80ba-45aa7de08cec",
   "metadata": {},
   "outputs": [
    {
     "data": {
      "text/html": [
       "<div>\n",
       "<style scoped>\n",
       "    .dataframe tbody tr th:only-of-type {\n",
       "        vertical-align: middle;\n",
       "    }\n",
       "\n",
       "    .dataframe tbody tr th {\n",
       "        vertical-align: top;\n",
       "    }\n",
       "\n",
       "    .dataframe thead th {\n",
       "        text-align: right;\n",
       "    }\n",
       "</style>\n",
       "<table border=\"1\" class=\"dataframe\">\n",
       "  <thead>\n",
       "    <tr style=\"text-align: right;\">\n",
       "      <th></th>\n",
       "      <th>id</th>\n",
       "      <th>t</th>\n",
       "      <th>value</th>\n",
       "    </tr>\n",
       "  </thead>\n",
       "  <tbody>\n",
       "    <tr>\n",
       "      <th>0</th>\n",
       "      <td>0</td>\n",
       "      <td>0</td>\n",
       "      <td>2.156616</td>\n",
       "    </tr>\n",
       "    <tr>\n",
       "      <th>1</th>\n",
       "      <td>0</td>\n",
       "      <td>0</td>\n",
       "      <td>7.183623</td>\n",
       "    </tr>\n",
       "    <tr>\n",
       "      <th>2</th>\n",
       "      <td>0</td>\n",
       "      <td>0</td>\n",
       "      <td>2.244507</td>\n",
       "    </tr>\n",
       "    <tr>\n",
       "      <th>3</th>\n",
       "      <td>0</td>\n",
       "      <td>0</td>\n",
       "      <td>2.024742</td>\n",
       "    </tr>\n",
       "    <tr>\n",
       "      <th>4</th>\n",
       "      <td>0</td>\n",
       "      <td>0</td>\n",
       "      <td>1.231280</td>\n",
       "    </tr>\n",
       "  </tbody>\n",
       "</table>\n",
       "</div>"
      ],
      "text/plain": [
       "   id  t     value\n",
       "0   0  0  2.156616\n",
       "1   0  0  7.183623\n",
       "2   0  0  2.244507\n",
       "3   0  0  2.024742\n",
       "4   0  0  1.231280"
      ]
     },
     "execution_count": 90,
     "metadata": {},
     "output_type": "execute_result"
    }
   ],
   "source": [
    "num_units = 100\n",
    "num_a = 20\n",
    "num_b = 20\n",
    "\n",
    "df = pd.DataFrame({\n",
    "    \"id\": list(range(num_units)) * num_a,\n",
    "    0: rng.normal(2, 2, num_units * num_a),\n",
    "    1: rng.normal(2.5, 2, num_units * num_b),\n",
    "}).melt(id_vars='id', var_name='t').sort_values(['id', 't']).reset_index(drop=True)\n",
    "df.head()"
   ]
  },
  {
   "cell_type": "markdown",
   "id": "94462c44-38a0-4988-a88c-9aafc0a6b14b",
   "metadata": {},
   "source": [
    "**Approach 1: calculate id-level treatment effects and use one-sample t-test to test whether average zone-level effect is non-zero.**"
   ]
  },
  {
   "cell_type": "code",
   "execution_count": 140,
   "id": "c437a5b2-58af-451d-a5ae-8f4799b9ac6d",
   "metadata": {},
   "outputs": [
    {
     "data": {
      "text/plain": [
       "Ttest_1sampResult(statistic=9.591436751029837, pvalue=8.51962162549687e-16)"
      ]
     },
     "execution_count": 140,
     "metadata": {},
     "output_type": "execute_result"
    }
   ],
   "source": [
    "df_id = df.groupby(['id', 't']).mean()\n",
    "\n",
    "data = df_id.unstack().reset_index(drop=True)\n",
    "data.columns = data.columns.droplevel()\n",
    "data['d'] = data[1] - data[0]\n",
    "\n",
    "stats.ttest_1samp(data.d, popmean=0)"
   ]
  },
  {
   "cell_type": "markdown",
   "id": "de2855e4-7cd2-41e8-ad42-8a1075b3e45c",
   "metadata": {},
   "source": [
    "**Approach 2: calculate zone level effects and then use OLS to calculate t-statistic**"
   ]
  },
  {
   "cell_type": "code",
   "execution_count": 144,
   "id": "fbe83dd6-65f6-4e59-a125-1f2fa1508e08",
   "metadata": {},
   "outputs": [
    {
     "name": "stdout",
     "output_type": "stream",
     "text": [
      "                            OLS Regression Results                            \n",
      "==============================================================================\n",
      "Dep. Variable:                  value   R-squared:                       0.330\n",
      "Model:                            OLS   Adj. R-squared:                  0.323\n",
      "Method:                 Least Squares   F-statistic:                     48.58\n",
      "Date:                Fri, 08 Jul 2022   Prob (F-statistic):           7.07e-18\n",
      "Time:                        10:59:40   Log-Likelihood:                -113.61\n",
      "No. Observations:                 200   AIC:                             233.2\n",
      "Df Residuals:                     197   BIC:                             243.1\n",
      "Df Model:                           2                                         \n",
      "Covariance Type:            nonrobust                                         \n",
      "==============================================================================\n",
      "                 coef    std err          t      P>|t|      [0.025      0.975]\n",
      "------------------------------------------------------------------------------\n",
      "Intercept      1.9717      0.068     29.157      0.000       1.838       2.105\n",
      "t              0.5998      0.061      9.857      0.000       0.480       0.720\n",
      "id          6.865e-05      0.001      0.065      0.948      -0.002       0.002\n",
      "==============================================================================\n",
      "Omnibus:                       11.600   Durbin-Watson:                   2.088\n",
      "Prob(Omnibus):                  0.003   Jarque-Bera (JB):               11.941\n",
      "Skew:                          -0.550   Prob(JB):                      0.00255\n",
      "Kurtosis:                       3.474   Cond. No.                         146.\n",
      "==============================================================================\n",
      "\n",
      "Notes:\n",
      "[1] Standard Errors assume that the covariance matrix of the errors is correctly specified.\n"
     ]
    }
   ],
   "source": [
    "data = df_id.reset_index()\n",
    "m = smf.ols('value ~ t + id', data=data).fit()\n",
    "print(m.summary())"
   ]
  },
  {
   "cell_type": "markdown",
   "id": "b1e22c60-a945-4967-a6d0-3238206d2192",
   "metadata": {},
   "source": [
    "- Why is this different?"
   ]
  },
  {
   "cell_type": "code",
   "execution_count": null,
   "id": "2113721e-26ad-4ce7-b2c4-91f23dde2663",
   "metadata": {},
   "outputs": [],
   "source": []
  },
  {
   "cell_type": "code",
   "execution_count": null,
   "id": "67576eca-7e15-48ab-a6bb-308f8cb90cbd",
   "metadata": {},
   "outputs": [],
   "source": []
  },
  {
   "cell_type": "markdown",
   "id": "0d5d1826-4302-4872-98ac-ba6a24b67d7c",
   "metadata": {
    "tags": []
   },
   "source": [
    "## Overall framework:\n",
    "\n",
    "- In experiments, assignment uncertainty matters more than sampling uncertainty. Assignment uncertainty results from randomness created by treatment assignment (different assignment will give different ATE estimates), sampling uncertainty results from randomness created by drawing a sample from a larger population for your experiment (different samples lead to different results). Which is more important depends on how large your sample is relative to population. Model integrating both: https://arxiv.org/pdf/1706.01778.pdf\n",
    "\n",
    "- If analysis unit is randomisation unit:\n",
    "\n",
    "    - Simple means estimater is unbiased.\n",
    "    - Adding covariates can lead to bias (compare with simple means estimater to determine whether this is to) and to worse inference (always interact covariates with treatment)\n",
    "    \n",
    "- If randomisation unit is coarser than analysis unit (i.e. cluster randomisation):\n",
    "\n",
    "    - Simple means estimator is biased if there is a correlation between cluster total and cluster size.\n",
    "    \n",
    "    - Solution is to use Des Raj estimator."
   ]
  },
  {
   "cell_type": "markdown",
   "id": "10f2e708-5a3a-4571-8c32-440f97a43d85",
   "metadata": {},
   "source": [
    "## Assumptions\n",
    "\n",
    "- Stable Unit Treatment Value Assumption (SUTVA): unit treatment value independent of treatment status of other units."
   ]
  },
  {
   "cell_type": "markdown",
   "id": "bebaf0d5-e501-40c3-ab30-2aa7cbc4652a",
   "metadata": {
    "jp-MarkdownHeadingCollapsed": true,
    "tags": []
   },
   "source": [
    "## Randomisation unit = analysis unit\n",
    "\n",
    "- Review OLS assumptions under sampling uncertainty (standard). What changes if we also have assignment uncertainty (e.g. in experiments?)\n",
    "\n",
    "- OLS no longer unbiassed with experimental data, though bias very small for large samples. Adding controls problematic (freedman2008, lin2013agnostic): always interact.\n",
    "\n",
    "- Use robust std errors: `cov_type=HCO` in Python (to allow for different variances in treat and control)"
   ]
  },
  {
   "cell_type": "markdown",
   "id": "3f2e335b-0187-4b1c-bb9f-f64ca04649a7",
   "metadata": {},
   "source": [
    "## Cluster randomised trial"
   ]
  },
  {
   "cell_type": "markdown",
   "id": "f2bcb20d-e2a7-4b30-b0ed-cb636e8095ed",
   "metadata": {},
   "source": [
    "Entire discussion based [this] talk by Matthias Lux, which walks through [Middleton and Aronow (2015)](https://joelmidd.github.io/papers/MiddletonAronow_Cluster%20Randomized.pdf).\n",
    "\n",
    "Context: food delivery, randomising at the user level but analysis at order level.\n",
    "\n",
    "Basic difference in means estimator is:\n",
    "\n",
    "$$\n",
    "\\hat{\\tau} = \\frac{\\sum_{i \\in J_t}\\sum_{j=1}^{n^o_i}Y_{ij}}{\\sum_{i \\in J_t}n^o_i}\n",
    "           - \\frac{\\sum_{i \\in J_c}\\sum_{j=1}^{n^o_i}Y_{ij}}{\\sum_{i \\in J_c}n^o_i}\n",
    "           = \\frac{\\sum_{i \\in J_t}Y_{i}}{\\sum_{i \\in J_t}n^o_i}\n",
    "           - \\frac{\\sum_{i \\in J_c}Y_{i}}{\\sum_{i \\in J_c}n^o_i}\n",
    "$$\n",
    "\n",
    "where: $J_t$ and $J_c$ are the sets of treatment and control users, $n^o_i$ is the number of orders by user $i$, and $Y_{ij}$ is the value of order $j$ of user $i$.\n",
    "\n",
    "Problems:\n",
    "- Main difference to above case is that denominators are random variables (we don't know in advance how many orders users are going to place).\n",
    "- This creates bias if there is a correlation between the cluster totals ($Y_i$) and the number of observations per cluster ($n^o_i$).\n",
    "- Standard errors invalid because iid assumption violated. Can cluster, but they can be unreliable if cluster sizes are highly skewed.\n",
    "\n",
    "Slide below:\n",
    "- Distribution from simulation has two problems:\n",
    "    - Much more mass in tails (can largely be solved by clustering)\n",
    "    - Bimodal shape due to massive outlier - one mode if outlier in treatment, one if in control (solved by Des Raj estimator)"
   ]
  },
  {
   "cell_type": "markdown",
   "id": "20e6adbb-e5f7-49cd-928f-69f1ce084cd8",
   "metadata": {},
   "source": [
    "<img src=\"img/lux_slide.png\" alt=\"Drawing\" style=\"width: 500px;\"/>"
   ]
  },
  {
   "cell_type": "markdown",
   "id": "5322ba94-6c06-435e-a1c0-de8e6d2f90d6",
   "metadata": {
    "tags": []
   },
   "source": [
    "#### Des Raj estimator"
   ]
  },
  {
   "cell_type": "markdown",
   "id": "a8a1a6e9-3344-4daf-99f8-25131261deae",
   "metadata": {},
   "source": [
    "- Challenge is to determine k, which is a prior estimate (i.e. from data that's not in the experiment) of the correlation between cluster totals ($Y_i$) and the number of observations per cluster ($n^o_i$).\n",
    "- However, in many contexts (e.g. tech companies) we can estimate this based on historical data.\n",
    "\n",
    "To implement in regression, use following:\n",
    "\n",
    "Regress X on D, where X:\n",
    "\n",
    "$$\n",
    "X_i = \\frac{N}{N^o}Y_i - k\\left(\\frac{N}{N^o}n_i^o - 1\\right)\n",
    "$$\n",
    "\n",
    "where $N$ is total number of clusters and $N^o$ is total number of orders.\n",
    "\n",
    "And use `cov_type=HCO` std errors.\n",
    "\n",
    "\n",
    "Applications:\n",
    "- When randomising at city level and analysing at order level (i.e. large \"gap\" between randomisation and analysis unit)"
   ]
  },
  {
   "cell_type": "markdown",
   "id": "006e9978-ced3-4e4b-9400-5211dc3f0a74",
   "metadata": {},
   "source": [
    "Sources:\n",
    "    \n",
    "- Rubin causal framework paper: https://www.tandfonline.com/doi/abs/10.1198/016214504000001880\n",
    "\n"
   ]
  }
 ],
 "metadata": {
  "kernelspec": {
   "display_name": "sandbox",
   "language": "python",
   "name": "sandbox"
  },
  "language_info": {
   "codemirror_mode": {
    "name": "ipython",
    "version": 3
   },
   "file_extension": ".py",
   "mimetype": "text/x-python",
   "name": "python",
   "nbconvert_exporter": "python",
   "pygments_lexer": "ipython3",
   "version": "3.10.8"
  }
 },
 "nbformat": 4,
 "nbformat_minor": 5
}
