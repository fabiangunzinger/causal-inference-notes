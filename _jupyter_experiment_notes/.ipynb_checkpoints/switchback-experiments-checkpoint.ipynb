{
 "cells": [
  {
   "cell_type": "markdown",
   "id": "26dbf9df-3d8d-43f5-9059-1ad823bedd95",
   "metadata": {},
   "source": [
    "## Basics\n",
    "\n",
    "\n",
    "\n",
    "\n",
    "[Michael Berk](https://towardsdatascience.com/how-to-optimize-your-switchback-a-b-test-configuration-791a28bee678)\n",
    "\n",
    "[DoorDash](https://medium.com/@DoorDash/switchback-tests-and-randomized-experimentation-under-network-effects-at-doordash-f1d938ab7c2a) post notes:\n",
    "\n",
    "- \n",
    "\n",
    "[Biometrika paper](https://academic.oup.com/biomet/article-abstract/75/1/81/352180?redirectedFrom=PDF&login=true)\n"
   ]
  }
 ],
 "metadata": {
  "kernelspec": {
   "display_name": "jet",
   "language": "python",
   "name": "jet"
  },
  "language_info": {
   "codemirror_mode": {
    "name": "ipython",
    "version": 3
   },
   "file_extension": ".py",
   "mimetype": "text/x-python",
   "name": "python",
   "nbconvert_exporter": "python",
   "pygments_lexer": "ipython3",
   "version": "3.10.8"
  }
 },
 "nbformat": 4,
 "nbformat_minor": 5
}
