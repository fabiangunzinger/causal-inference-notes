{
 "cells": [
  {
   "cell_type": "markdown",
   "id": "50919bfa-7721-4f78-a582-2704e0436de5",
   "metadata": {},
   "source": [
    "# Power curves"
   ]
  },
  {
   "cell_type": "markdown",
   "id": "8d2ba4c4-8fc0-4f5b-b2f4-db3eff052e64",
   "metadata": {},
   "source": [
    "Based on [this](https://deliveroo.engineering/2018/12/07/monte-carlo-power-analysis.html) post from Deliveroo engineering blog."
   ]
  },
  {
   "cell_type": "code",
   "execution_count": 3,
   "id": "2afe9268-f87e-4f4f-91db-5a53b42da7b9",
   "metadata": {},
   "outputs": [],
   "source": [
    "import random\n",
    "\n",
    "import altair as alt\n",
    "import matplotlib.pyplot as plt\n",
    "import numpy as np\n",
    "import pandas as pd\n",
    "from scipy.stats import bernoulli, binom, mannwhitneyu, norm, uniform\n",
    "import seaborn as sns\n",
    "from statsmodels.stats.weightstats import ttest_ind\n",
    "\n",
    "sns.set_style(\"whitegrid\")\n",
    "%config InlineBackend.figure_format ='retina'"
   ]
  },
  {
   "cell_type": "markdown",
   "id": "9b6b170d-96b7-41d1-9d95-3b9c0cabc36a",
   "metadata": {},
   "source": [
    "## Walk-through"
   ]
  },
  {
   "cell_type": "markdown",
   "id": "15e3bf81-4e88-486d-a2ad-091fd60e7817",
   "metadata": {},
   "source": [
    "Prepare data"
   ]
  },
  {
   "cell_type": "code",
   "execution_count": 14,
   "id": "c6762c6b-36a8-43a7-bc50-1fc5cf0dbc01",
   "metadata": {},
   "outputs": [
    {
     "data": {
      "text/plain": [
       "array([25.46440322, 25.10002404, 31.1763618 , ..., 33.12020466,\n",
       "       16.87635585, 28.2148879 ])"
      ]
     },
     "execution_count": 14,
     "metadata": {},
     "output_type": "execute_result"
    }
   ],
   "source": [
    "# Sample data would be actual data measured over a fixed period of time prior to our\n",
    "# experiment. For illustration purposes here we have generated data from a normal\n",
    "# distribution.\n",
    "sample_mean = 21.50\n",
    "sample_sd = 12.91\n",
    "sample_data = norm.rvs(loc=sample_mean, scale=sample_sd, size=20000)\n",
    "sample_data"
   ]
  },
  {
   "cell_type": "markdown",
   "id": "bbd7bfab-3801-446a-887c-f6e6a9710a4a",
   "metadata": {},
   "source": [
    "Specify experiment parameters"
   ]
  },
  {
   "cell_type": "code",
   "execution_count": 89,
   "id": "22529d79-74bd-41d4-9f1a-9c37e5552587",
   "metadata": {},
   "outputs": [],
   "source": [
    "sample_sizes = range(250, 20000 + 1, 250)  # Sample sizes we will test over\n",
    "alpha = 0.05  # Our fixed alpha\n",
    "num_runs = 20  # The number of simulations we will run per sample size\n",
    "relative_effect = 1.03   # MDES - could try multiple if unsure what to use\n",
    "alternative = \"two-sided\"  # Is the alternative one-sided or two-sided"
   ]
  },
  {
   "cell_type": "markdown",
   "id": "ac61b089-574b-44c1-a6ce-ba9a452b03d6",
   "metadata": {},
   "source": [
    "Run simulations"
   ]
  },
  {
   "cell_type": "code",
   "execution_count": 91,
   "id": "6630f9fe-cc95-4740-a4f1-2cb7173cc511",
   "metadata": {},
   "outputs": [],
   "source": [
    "power_dist = np.empty((len(sample_sizes), 3))\n",
    "\n",
    "for i, sample_size in enumerate(sample_sizes):\n",
    "\n",
    "    # Control data is sample of pre-experiment data of specified size. To\n",
    "    # Create treatment data, simply multiply by relative effect size.\n",
    "    control_data = sample_data[0:sample_size]\n",
    "    variant_data = control_data * relative_effect\n",
    "    \n",
    "    significance_t_results = []\n",
    "    significance_u_results = []\n",
    "    for _ in range(0, num_runs):\n",
    "        \n",
    "        # Create treatment assignment vector and collect data for\n",
    "        # control and treatment units\n",
    "        assignment = binom.rvs(1, 0.5, size=sample_size)\n",
    "        control_sample = control_data[assignment == True]\n",
    "        variant_sample = variant_data[assignment == False]\n",
    "\n",
    "        # Use Welch's t-test, make no assumptions on tests for equal variances\n",
    "        t_stat, p_value_welch, _ = ttest_ind(\n",
    "            control_sample, variant_sample, alternative=alternative, usevar=\"unequal\"\n",
    "        )\n",
    "        # Use Mann-Whitney U-test\n",
    "        u_stat, p_value_mw = mannwhitneyu(\n",
    "            control_sample, variant_sample, alternative=alternative\n",
    "        )\n",
    "\n",
    "        # Test for significance\n",
    "        significance_t_results.append(p_value_welch <= alpha)\n",
    "        significance_u_results.append(p_value_mw <= alpha)\n",
    "    \n",
    "    # The power is the number of times we have a significant result\n",
    "    # as we are assuming the alternative hypothesis is true\n",
    "    power_t = np.mean(significance_t_results)\n",
    "    power_u = np.mean(significance_u_results)\n",
    "    power_dist[i,] = [sample_size, power_t, power_u]"
   ]
  },
  {
   "cell_type": "code",
   "execution_count": 92,
   "id": "624ebf30-e5a9-4d09-81ee-d23c8ac2fc47",
   "metadata": {
    "scrolled": true
   },
   "outputs": [
    {
     "data": {
      "text/html": [
       "<div>\n",
       "<style scoped>\n",
       "    .dataframe tbody tr th:only-of-type {\n",
       "        vertical-align: middle;\n",
       "    }\n",
       "\n",
       "    .dataframe tbody tr th {\n",
       "        vertical-align: top;\n",
       "    }\n",
       "\n",
       "    .dataframe thead th {\n",
       "        text-align: right;\n",
       "    }\n",
       "</style>\n",
       "<table border=\"1\" class=\"dataframe\">\n",
       "  <thead>\n",
       "    <tr style=\"text-align: right;\">\n",
       "      <th></th>\n",
       "      <th>sample_size</th>\n",
       "      <th>test</th>\n",
       "      <th>power</th>\n",
       "    </tr>\n",
       "  </thead>\n",
       "  <tbody>\n",
       "    <tr>\n",
       "      <th>0</th>\n",
       "      <td>250.0</td>\n",
       "      <td>MC Simulation t-test</td>\n",
       "      <td>0.05</td>\n",
       "    </tr>\n",
       "    <tr>\n",
       "      <th>1</th>\n",
       "      <td>500.0</td>\n",
       "      <td>MC Simulation t-test</td>\n",
       "      <td>0.05</td>\n",
       "    </tr>\n",
       "    <tr>\n",
       "      <th>2</th>\n",
       "      <td>750.0</td>\n",
       "      <td>MC Simulation t-test</td>\n",
       "      <td>0.05</td>\n",
       "    </tr>\n",
       "    <tr>\n",
       "      <th>3</th>\n",
       "      <td>1000.0</td>\n",
       "      <td>MC Simulation t-test</td>\n",
       "      <td>0.10</td>\n",
       "    </tr>\n",
       "    <tr>\n",
       "      <th>4</th>\n",
       "      <td>1250.0</td>\n",
       "      <td>MC Simulation t-test</td>\n",
       "      <td>0.10</td>\n",
       "    </tr>\n",
       "  </tbody>\n",
       "</table>\n",
       "</div>"
      ],
      "text/plain": [
       "   sample_size                  test  power\n",
       "0        250.0  MC Simulation t-test   0.05\n",
       "1        500.0  MC Simulation t-test   0.05\n",
       "2        750.0  MC Simulation t-test   0.05\n",
       "3       1000.0  MC Simulation t-test   0.10\n",
       "4       1250.0  MC Simulation t-test   0.10"
      ]
     },
     "execution_count": 92,
     "metadata": {},
     "output_type": "execute_result"
    }
   ],
   "source": [
    "power_dist = pd.DataFrame(power_dist, columns=[\"sample_size\", \"tpower\", \"upower\"])\n",
    "power_dist = power_dist.melt(\n",
    "    id_vars=\"sample_size\",\n",
    "    value_vars=[\"tpower\", \"upower\"],\n",
    "    var_name=\"test\",\n",
    "    value_name=\"power\",\n",
    ")\n",
    "labels = {\"tpower\": \"MC Simulation t-test\", \"upower\": \"MC Simulation MWW U-test\"}\n",
    "power_dist[\"test\"].replace(labels, inplace=True)\n",
    "power_dist.head()"
   ]
  },
  {
   "cell_type": "markdown",
   "id": "9dfc9720-6a23-4d29-a7e9-95c0ca0a8eb2",
   "metadata": {},
   "source": [
    "Plot power distribution"
   ]
  },
  {
   "cell_type": "code",
   "execution_count": 93,
   "id": "1068e029-6c9c-4131-81f8-f3b2c88e5f80",
   "metadata": {},
   "outputs": [
    {
     "name": "stderr",
     "output_type": "stream",
     "text": [
      "/Users/fabian.gunzinger/.pyenv/versions/3.10.8/envs/wow/lib/python3.10/site-packages/altair/utils/core.py:317: FutureWarning: iteritems is deprecated and will be removed in a future version. Use .items instead.\n",
      "  for col_name, dtype in df.dtypes.iteritems():\n"
     ]
    },
    {
     "data": {
      "text/html": [
       "\n",
       "<div id=\"altair-viz-3e562e222071415fb79978a15547b6bd\"></div>\n",
       "<script type=\"text/javascript\">\n",
       "  var VEGA_DEBUG = (typeof VEGA_DEBUG == \"undefined\") ? {} : VEGA_DEBUG;\n",
       "  (function(spec, embedOpt){\n",
       "    let outputDiv = document.currentScript.previousElementSibling;\n",
       "    if (outputDiv.id !== \"altair-viz-3e562e222071415fb79978a15547b6bd\") {\n",
       "      outputDiv = document.getElementById(\"altair-viz-3e562e222071415fb79978a15547b6bd\");\n",
       "    }\n",
       "    const paths = {\n",
       "      \"vega\": \"https://cdn.jsdelivr.net/npm//vega@5?noext\",\n",
       "      \"vega-lib\": \"https://cdn.jsdelivr.net/npm//vega-lib?noext\",\n",
       "      \"vega-lite\": \"https://cdn.jsdelivr.net/npm//vega-lite@4.17.0?noext\",\n",
       "      \"vega-embed\": \"https://cdn.jsdelivr.net/npm//vega-embed@6?noext\",\n",
       "    };\n",
       "\n",
       "    function maybeLoadScript(lib, version) {\n",
       "      var key = `${lib.replace(\"-\", \"\")}_version`;\n",
       "      return (VEGA_DEBUG[key] == version) ?\n",
       "        Promise.resolve(paths[lib]) :\n",
       "        new Promise(function(resolve, reject) {\n",
       "          var s = document.createElement('script');\n",
       "          document.getElementsByTagName(\"head\")[0].appendChild(s);\n",
       "          s.async = true;\n",
       "          s.onload = () => {\n",
       "            VEGA_DEBUG[key] = version;\n",
       "            return resolve(paths[lib]);\n",
       "          };\n",
       "          s.onerror = () => reject(`Error loading script: ${paths[lib]}`);\n",
       "          s.src = paths[lib];\n",
       "        });\n",
       "    }\n",
       "\n",
       "    function showError(err) {\n",
       "      outputDiv.innerHTML = `<div class=\"error\" style=\"color:red;\">${err}</div>`;\n",
       "      throw err;\n",
       "    }\n",
       "\n",
       "    function displayChart(vegaEmbed) {\n",
       "      vegaEmbed(outputDiv, spec, embedOpt)\n",
       "        .catch(err => showError(`Javascript Error: ${err.message}<br>This usually means there's a typo in your chart specification. See the javascript console for the full traceback.`));\n",
       "    }\n",
       "\n",
       "    if(typeof define === \"function\" && define.amd) {\n",
       "      requirejs.config({paths});\n",
       "      require([\"vega-embed\"], displayChart, err => showError(`Error loading script: ${err.message}`));\n",
       "    } else {\n",
       "      maybeLoadScript(\"vega\", \"5\")\n",
       "        .then(() => maybeLoadScript(\"vega-lite\", \"4.17.0\"))\n",
       "        .then(() => maybeLoadScript(\"vega-embed\", \"6\"))\n",
       "        .catch(showError)\n",
       "        .then(() => displayChart(vegaEmbed));\n",
       "    }\n",
       "  })({\"config\": {\"view\": {\"continuousWidth\": 400, \"continuousHeight\": 300}}, \"layer\": [{\"mark\": \"point\", \"encoding\": {\"color\": {\"field\": \"test\", \"legend\": {\"title\": \"\"}, \"type\": \"nominal\"}, \"x\": {\"axis\": {\"title\": \"Sample size\"}, \"field\": \"sample_size\", \"type\": \"quantitative\"}, \"y\": {\"axis\": {\"title\": \"Power\"}, \"field\": \"power\", \"type\": \"quantitative\"}}}, {\"mark\": \"line\", \"encoding\": {\"color\": {\"field\": \"test\", \"legend\": {\"title\": \"\"}, \"type\": \"nominal\"}, \"x\": {\"axis\": {\"title\": \"Sample size\"}, \"field\": \"sample_size\", \"type\": \"quantitative\"}, \"y\": {\"axis\": {\"title\": \"Power\"}, \"field\": \"power\", \"type\": \"quantitative\"}}, \"transform\": [{\"loess\": \"power\", \"on\": \"sample_size\", \"groupby\": [\"test\"]}]}, {\"mark\": \"rule\", \"encoding\": {\"y\": {\"axis\": {\"title\": \"\"}, \"field\": \"a\", \"type\": \"quantitative\"}}, \"transform\": [{\"calculate\": \"0.8\", \"as\": \"a\"}]}], \"data\": {\"name\": \"data-3360431e739b66032f069ec4932f1f79\"}, \"$schema\": \"https://vega.github.io/schema/vega-lite/v4.17.0.json\", \"datasets\": {\"data-3360431e739b66032f069ec4932f1f79\": [{\"sample_size\": 250.0, \"test\": \"MC Simulation t-test\", \"power\": 0.05}, {\"sample_size\": 500.0, \"test\": \"MC Simulation t-test\", \"power\": 0.05}, {\"sample_size\": 750.0, \"test\": \"MC Simulation t-test\", \"power\": 0.05}, {\"sample_size\": 1000.0, \"test\": \"MC Simulation t-test\", \"power\": 0.1}, {\"sample_size\": 1250.0, \"test\": \"MC Simulation t-test\", \"power\": 0.1}, {\"sample_size\": 1500.0, \"test\": \"MC Simulation t-test\", \"power\": 0.15}, {\"sample_size\": 1750.0, \"test\": \"MC Simulation t-test\", \"power\": 0.25}, {\"sample_size\": 2000.0, \"test\": \"MC Simulation t-test\", \"power\": 0.25}, {\"sample_size\": 2250.0, \"test\": \"MC Simulation t-test\", \"power\": 0.35}, {\"sample_size\": 2500.0, \"test\": \"MC Simulation t-test\", \"power\": 0.4}, {\"sample_size\": 2750.0, \"test\": \"MC Simulation t-test\", \"power\": 0.3}, {\"sample_size\": 3000.0, \"test\": \"MC Simulation t-test\", \"power\": 0.15}, {\"sample_size\": 3250.0, \"test\": \"MC Simulation t-test\", \"power\": 0.55}, {\"sample_size\": 3500.0, \"test\": \"MC Simulation t-test\", \"power\": 0.4}, {\"sample_size\": 3750.0, \"test\": \"MC Simulation t-test\", \"power\": 0.5}, {\"sample_size\": 4000.0, \"test\": \"MC Simulation t-test\", \"power\": 0.3}, {\"sample_size\": 4250.0, \"test\": \"MC Simulation t-test\", \"power\": 0.3}, {\"sample_size\": 4500.0, \"test\": \"MC Simulation t-test\", \"power\": 0.4}, {\"sample_size\": 4750.0, \"test\": \"MC Simulation t-test\", \"power\": 0.6}, {\"sample_size\": 5000.0, \"test\": \"MC Simulation t-test\", \"power\": 0.35}, {\"sample_size\": 5250.0, \"test\": \"MC Simulation t-test\", \"power\": 0.55}, {\"sample_size\": 5500.0, \"test\": \"MC Simulation t-test\", \"power\": 0.45}, {\"sample_size\": 5750.0, \"test\": \"MC Simulation t-test\", \"power\": 0.6}, {\"sample_size\": 6000.0, \"test\": \"MC Simulation t-test\", \"power\": 0.7}, {\"sample_size\": 6250.0, \"test\": \"MC Simulation t-test\", \"power\": 0.35}, {\"sample_size\": 6500.0, \"test\": \"MC Simulation t-test\", \"power\": 0.6}, {\"sample_size\": 6750.0, \"test\": \"MC Simulation t-test\", \"power\": 0.6}, {\"sample_size\": 7000.0, \"test\": \"MC Simulation t-test\", \"power\": 0.55}, {\"sample_size\": 7250.0, \"test\": \"MC Simulation t-test\", \"power\": 0.55}, {\"sample_size\": 7500.0, \"test\": \"MC Simulation t-test\", \"power\": 0.4}, {\"sample_size\": 7750.0, \"test\": \"MC Simulation t-test\", \"power\": 0.75}, {\"sample_size\": 8000.0, \"test\": \"MC Simulation t-test\", \"power\": 0.6}, {\"sample_size\": 8250.0, \"test\": \"MC Simulation t-test\", \"power\": 0.6}, {\"sample_size\": 8500.0, \"test\": \"MC Simulation t-test\", \"power\": 0.85}, {\"sample_size\": 8750.0, \"test\": \"MC Simulation t-test\", \"power\": 0.85}, {\"sample_size\": 9000.0, \"test\": \"MC Simulation t-test\", \"power\": 0.7}, {\"sample_size\": 9250.0, \"test\": \"MC Simulation t-test\", \"power\": 0.85}, {\"sample_size\": 9500.0, \"test\": \"MC Simulation t-test\", \"power\": 0.55}, {\"sample_size\": 9750.0, \"test\": \"MC Simulation t-test\", \"power\": 0.7}, {\"sample_size\": 10000.0, \"test\": \"MC Simulation t-test\", \"power\": 0.75}, {\"sample_size\": 10250.0, \"test\": \"MC Simulation t-test\", \"power\": 0.8}, {\"sample_size\": 10500.0, \"test\": \"MC Simulation t-test\", \"power\": 0.8}, {\"sample_size\": 10750.0, \"test\": \"MC Simulation t-test\", \"power\": 0.7}, {\"sample_size\": 11000.0, \"test\": \"MC Simulation t-test\", \"power\": 0.8}, {\"sample_size\": 11250.0, \"test\": \"MC Simulation t-test\", \"power\": 0.7}, {\"sample_size\": 11500.0, \"test\": \"MC Simulation t-test\", \"power\": 0.8}, {\"sample_size\": 11750.0, \"test\": \"MC Simulation t-test\", \"power\": 0.85}, {\"sample_size\": 12000.0, \"test\": \"MC Simulation t-test\", \"power\": 0.8}, {\"sample_size\": 12250.0, \"test\": \"MC Simulation t-test\", \"power\": 0.8}, {\"sample_size\": 12500.0, \"test\": \"MC Simulation t-test\", \"power\": 0.75}, {\"sample_size\": 12750.0, \"test\": \"MC Simulation t-test\", \"power\": 0.65}, {\"sample_size\": 13000.0, \"test\": \"MC Simulation t-test\", \"power\": 0.75}, {\"sample_size\": 13250.0, \"test\": \"MC Simulation t-test\", \"power\": 0.75}, {\"sample_size\": 13500.0, \"test\": \"MC Simulation t-test\", \"power\": 0.75}, {\"sample_size\": 13750.0, \"test\": \"MC Simulation t-test\", \"power\": 0.75}, {\"sample_size\": 14000.0, \"test\": \"MC Simulation t-test\", \"power\": 0.8}, {\"sample_size\": 14250.0, \"test\": \"MC Simulation t-test\", \"power\": 0.85}, {\"sample_size\": 14500.0, \"test\": \"MC Simulation t-test\", \"power\": 0.95}, {\"sample_size\": 14750.0, \"test\": \"MC Simulation t-test\", \"power\": 0.9}, {\"sample_size\": 15000.0, \"test\": \"MC Simulation t-test\", \"power\": 0.95}, {\"sample_size\": 15250.0, \"test\": \"MC Simulation t-test\", \"power\": 0.85}, {\"sample_size\": 15500.0, \"test\": \"MC Simulation t-test\", \"power\": 0.8}, {\"sample_size\": 15750.0, \"test\": \"MC Simulation t-test\", \"power\": 0.85}, {\"sample_size\": 16000.0, \"test\": \"MC Simulation t-test\", \"power\": 0.9}, {\"sample_size\": 16250.0, \"test\": \"MC Simulation t-test\", \"power\": 0.9}, {\"sample_size\": 16500.0, \"test\": \"MC Simulation t-test\", \"power\": 0.85}, {\"sample_size\": 16750.0, \"test\": \"MC Simulation t-test\", \"power\": 0.9}, {\"sample_size\": 17000.0, \"test\": \"MC Simulation t-test\", \"power\": 0.9}, {\"sample_size\": 17250.0, \"test\": \"MC Simulation t-test\", \"power\": 0.9}, {\"sample_size\": 17500.0, \"test\": \"MC Simulation t-test\", \"power\": 0.8}, {\"sample_size\": 17750.0, \"test\": \"MC Simulation t-test\", \"power\": 0.9}, {\"sample_size\": 18000.0, \"test\": \"MC Simulation t-test\", \"power\": 0.9}, {\"sample_size\": 18250.0, \"test\": \"MC Simulation t-test\", \"power\": 0.95}, {\"sample_size\": 18500.0, \"test\": \"MC Simulation t-test\", \"power\": 0.95}, {\"sample_size\": 18750.0, \"test\": \"MC Simulation t-test\", \"power\": 0.9}, {\"sample_size\": 19000.0, \"test\": \"MC Simulation t-test\", \"power\": 0.9}, {\"sample_size\": 19250.0, \"test\": \"MC Simulation t-test\", \"power\": 0.95}, {\"sample_size\": 19500.0, \"test\": \"MC Simulation t-test\", \"power\": 1.0}, {\"sample_size\": 19750.0, \"test\": \"MC Simulation t-test\", \"power\": 1.0}, {\"sample_size\": 20000.0, \"test\": \"MC Simulation t-test\", \"power\": 0.9}, {\"sample_size\": 250.0, \"test\": \"MC Simulation MWW U-test\", \"power\": 0.1}, {\"sample_size\": 500.0, \"test\": \"MC Simulation MWW U-test\", \"power\": 0.1}, {\"sample_size\": 750.0, \"test\": \"MC Simulation MWW U-test\", \"power\": 0.05}, {\"sample_size\": 1000.0, \"test\": \"MC Simulation MWW U-test\", \"power\": 0.15}, {\"sample_size\": 1250.0, \"test\": \"MC Simulation MWW U-test\", \"power\": 0.15}, {\"sample_size\": 1500.0, \"test\": \"MC Simulation MWW U-test\", \"power\": 0.2}, {\"sample_size\": 1750.0, \"test\": \"MC Simulation MWW U-test\", \"power\": 0.25}, {\"sample_size\": 2000.0, \"test\": \"MC Simulation MWW U-test\", \"power\": 0.3}, {\"sample_size\": 2250.0, \"test\": \"MC Simulation MWW U-test\", \"power\": 0.3}, {\"sample_size\": 2500.0, \"test\": \"MC Simulation MWW U-test\", \"power\": 0.4}, {\"sample_size\": 2750.0, \"test\": \"MC Simulation MWW U-test\", \"power\": 0.25}, {\"sample_size\": 3000.0, \"test\": \"MC Simulation MWW U-test\", \"power\": 0.15}, {\"sample_size\": 3250.0, \"test\": \"MC Simulation MWW U-test\", \"power\": 0.55}, {\"sample_size\": 3500.0, \"test\": \"MC Simulation MWW U-test\", \"power\": 0.35}, {\"sample_size\": 3750.0, \"test\": \"MC Simulation MWW U-test\", \"power\": 0.45}, {\"sample_size\": 4000.0, \"test\": \"MC Simulation MWW U-test\", \"power\": 0.35}, {\"sample_size\": 4250.0, \"test\": \"MC Simulation MWW U-test\", \"power\": 0.3}, {\"sample_size\": 4500.0, \"test\": \"MC Simulation MWW U-test\", \"power\": 0.4}, {\"sample_size\": 4750.0, \"test\": \"MC Simulation MWW U-test\", \"power\": 0.65}, {\"sample_size\": 5000.0, \"test\": \"MC Simulation MWW U-test\", \"power\": 0.35}, {\"sample_size\": 5250.0, \"test\": \"MC Simulation MWW U-test\", \"power\": 0.5}, {\"sample_size\": 5500.0, \"test\": \"MC Simulation MWW U-test\", \"power\": 0.45}, {\"sample_size\": 5750.0, \"test\": \"MC Simulation MWW U-test\", \"power\": 0.6}, {\"sample_size\": 6000.0, \"test\": \"MC Simulation MWW U-test\", \"power\": 0.7}, {\"sample_size\": 6250.0, \"test\": \"MC Simulation MWW U-test\", \"power\": 0.3}, {\"sample_size\": 6500.0, \"test\": \"MC Simulation MWW U-test\", \"power\": 0.55}, {\"sample_size\": 6750.0, \"test\": \"MC Simulation MWW U-test\", \"power\": 0.45}, {\"sample_size\": 7000.0, \"test\": \"MC Simulation MWW U-test\", \"power\": 0.6}, {\"sample_size\": 7250.0, \"test\": \"MC Simulation MWW U-test\", \"power\": 0.55}, {\"sample_size\": 7500.0, \"test\": \"MC Simulation MWW U-test\", \"power\": 0.35}, {\"sample_size\": 7750.0, \"test\": \"MC Simulation MWW U-test\", \"power\": 0.75}, {\"sample_size\": 8000.0, \"test\": \"MC Simulation MWW U-test\", \"power\": 0.65}, {\"sample_size\": 8250.0, \"test\": \"MC Simulation MWW U-test\", \"power\": 0.75}, {\"sample_size\": 8500.0, \"test\": \"MC Simulation MWW U-test\", \"power\": 0.75}, {\"sample_size\": 8750.0, \"test\": \"MC Simulation MWW U-test\", \"power\": 0.75}, {\"sample_size\": 9000.0, \"test\": \"MC Simulation MWW U-test\", \"power\": 0.7}, {\"sample_size\": 9250.0, \"test\": \"MC Simulation MWW U-test\", \"power\": 0.85}, {\"sample_size\": 9500.0, \"test\": \"MC Simulation MWW U-test\", \"power\": 0.55}, {\"sample_size\": 9750.0, \"test\": \"MC Simulation MWW U-test\", \"power\": 0.75}, {\"sample_size\": 10000.0, \"test\": \"MC Simulation MWW U-test\", \"power\": 0.75}, {\"sample_size\": 10250.0, \"test\": \"MC Simulation MWW U-test\", \"power\": 0.8}, {\"sample_size\": 10500.0, \"test\": \"MC Simulation MWW U-test\", \"power\": 0.8}, {\"sample_size\": 10750.0, \"test\": \"MC Simulation MWW U-test\", \"power\": 0.7}, {\"sample_size\": 11000.0, \"test\": \"MC Simulation MWW U-test\", \"power\": 0.85}, {\"sample_size\": 11250.0, \"test\": \"MC Simulation MWW U-test\", \"power\": 0.6}, {\"sample_size\": 11500.0, \"test\": \"MC Simulation MWW U-test\", \"power\": 0.85}, {\"sample_size\": 11750.0, \"test\": \"MC Simulation MWW U-test\", \"power\": 0.8}, {\"sample_size\": 12000.0, \"test\": \"MC Simulation MWW U-test\", \"power\": 0.8}, {\"sample_size\": 12250.0, \"test\": \"MC Simulation MWW U-test\", \"power\": 0.75}, {\"sample_size\": 12500.0, \"test\": \"MC Simulation MWW U-test\", \"power\": 0.8}, {\"sample_size\": 12750.0, \"test\": \"MC Simulation MWW U-test\", \"power\": 0.6}, {\"sample_size\": 13000.0, \"test\": \"MC Simulation MWW U-test\", \"power\": 0.75}, {\"sample_size\": 13250.0, \"test\": \"MC Simulation MWW U-test\", \"power\": 0.7}, {\"sample_size\": 13500.0, \"test\": \"MC Simulation MWW U-test\", \"power\": 0.65}, {\"sample_size\": 13750.0, \"test\": \"MC Simulation MWW U-test\", \"power\": 0.7}, {\"sample_size\": 14000.0, \"test\": \"MC Simulation MWW U-test\", \"power\": 0.8}, {\"sample_size\": 14250.0, \"test\": \"MC Simulation MWW U-test\", \"power\": 0.8}, {\"sample_size\": 14500.0, \"test\": \"MC Simulation MWW U-test\", \"power\": 0.8}, {\"sample_size\": 14750.0, \"test\": \"MC Simulation MWW U-test\", \"power\": 0.9}, {\"sample_size\": 15000.0, \"test\": \"MC Simulation MWW U-test\", \"power\": 0.95}, {\"sample_size\": 15250.0, \"test\": \"MC Simulation MWW U-test\", \"power\": 0.85}, {\"sample_size\": 15500.0, \"test\": \"MC Simulation MWW U-test\", \"power\": 0.8}, {\"sample_size\": 15750.0, \"test\": \"MC Simulation MWW U-test\", \"power\": 0.8}, {\"sample_size\": 16000.0, \"test\": \"MC Simulation MWW U-test\", \"power\": 0.85}, {\"sample_size\": 16250.0, \"test\": \"MC Simulation MWW U-test\", \"power\": 0.9}, {\"sample_size\": 16500.0, \"test\": \"MC Simulation MWW U-test\", \"power\": 0.9}, {\"sample_size\": 16750.0, \"test\": \"MC Simulation MWW U-test\", \"power\": 0.9}, {\"sample_size\": 17000.0, \"test\": \"MC Simulation MWW U-test\", \"power\": 0.85}, {\"sample_size\": 17250.0, \"test\": \"MC Simulation MWW U-test\", \"power\": 0.9}, {\"sample_size\": 17500.0, \"test\": \"MC Simulation MWW U-test\", \"power\": 0.7}, {\"sample_size\": 17750.0, \"test\": \"MC Simulation MWW U-test\", \"power\": 0.9}, {\"sample_size\": 18000.0, \"test\": \"MC Simulation MWW U-test\", \"power\": 0.95}, {\"sample_size\": 18250.0, \"test\": \"MC Simulation MWW U-test\", \"power\": 1.0}, {\"sample_size\": 18500.0, \"test\": \"MC Simulation MWW U-test\", \"power\": 0.95}, {\"sample_size\": 18750.0, \"test\": \"MC Simulation MWW U-test\", \"power\": 0.85}, {\"sample_size\": 19000.0, \"test\": \"MC Simulation MWW U-test\", \"power\": 0.9}, {\"sample_size\": 19250.0, \"test\": \"MC Simulation MWW U-test\", \"power\": 0.95}, {\"sample_size\": 19500.0, \"test\": \"MC Simulation MWW U-test\", \"power\": 1.0}, {\"sample_size\": 19750.0, \"test\": \"MC Simulation MWW U-test\", \"power\": 1.0}, {\"sample_size\": 20000.0, \"test\": \"MC Simulation MWW U-test\", \"power\": 0.9}]}}, {\"mode\": \"vega-lite\"});\n",
       "</script>"
      ],
      "text/plain": [
       "alt.LayerChart(...)"
      ]
     },
     "execution_count": 93,
     "metadata": {},
     "output_type": "execute_result"
    }
   ],
   "source": [
    "dots = (\n",
    "    alt.Chart(power_dist)\n",
    "    .mark_point()\n",
    "    .encode(\n",
    "        x=alt.X(\"sample_size\", axis=alt.Axis(title=\"Sample size\")),\n",
    "        y=alt.Y(\"power\", axis=alt.Axis(title=\"Power\")),\n",
    "        color=alt.Color(\"test\", legend=alt.Legend(title=\"\")),\n",
    "    )\n",
    ")\n",
    "\n",
    "hline = (\n",
    "    alt.Chart(power_dist)\n",
    "    .mark_rule()\n",
    "    .encode(\n",
    "        y=alt.Y(\"a:Q\", axis=alt.Axis(title=\"\")),\n",
    "    )\n",
    "    .transform_calculate(a=\"0.8\")\n",
    ")\n",
    "\n",
    "(\n",
    "    dots\n",
    "    + dots.transform_loess(\"sample_size\", \"power\", groupby=[\"test\"]).mark_line()\n",
    "    + hline\n",
    ")"
   ]
  },
  {
   "cell_type": "markdown",
   "id": "4e8ec7e6-3999-43a9-a098-e23539fd226d",
   "metadata": {},
   "source": [
    "### Program"
   ]
  },
  {
   "cell_type": "code",
   "execution_count": null,
   "id": "6c394e00-9e50-4c63-9807-b99694e16c06",
   "metadata": {},
   "outputs": [],
   "source": []
  },
  {
   "cell_type": "code",
   "execution_count": 116,
   "id": "18186953-5e83-4ae2-9d05-589f4def190b",
   "metadata": {},
   "outputs": [],
   "source": [
    "def get_power_dist(\n",
    "    data,\n",
    "    sample_min,\n",
    "    sample_max,\n",
    "    stepsize,\n",
    "    relative_effect=1.03,\n",
    "    sims=20,\n",
    "    alpha=0.05,\n",
    "    alternative_t=\"two-sided\",\n",
    "    alternative_u=\"two-sided\",\n",
    "    tests=[\"t\", \"u\"],\n",
    "):\n",
    "    \"\"\"\n",
    "    Calculates power for each sample size and each specified test.\n",
    "    Code is adapted version of https://deliveroo.engineering/2018/12/07/monte-carlo-power-analysis.html\n",
    "\n",
    "    Parameters\n",
    "    -----------\n",
    "    data: ArrayLike the historical data based on which power is being calculated (required)\n",
    "    sample_min : integer (required)\n",
    "        minimum sample size for which power is calculated\n",
    "    sample_max : integer (required)\n",
    "        maximum sample size for which power is calculated\n",
    "    stepsize : integer (required)\n",
    "        number of sample sized skipped between each calculation\n",
    "    relative_effect : float (optional)\n",
    "        relative effect size of variant, default is 3 percent\n",
    "    sims : integer (optional)\n",
    "        number of simulations per sample size, default is 20\n",
    "    alpha : float (optional)\n",
    "        probability of Type I error, default is 5 percent\n",
    "    alternative_t : string (optional)\n",
    "        type of t-test performed, either 'two-sided' (default), 'larger', or 'smaller'\n",
    "    alternative_u : string (optional)\n",
    "        type of Mann-Whitney-Wilkinson U-test performed, either 'two-sided' (default), 'more', or 'less'\n",
    "    tests : list of strings (optional)\n",
    "        test results plotted, either ['t', 'u'] (default), ['t'], or ['u']\n",
    "\n",
    "\n",
    "    Returns\n",
    "    --------\n",
    "    dataframe : a dataframe containing sample size and associated power levels for each test\n",
    "    \"\"\"\n",
    "    sample_sizes = range(sample_min, sample_max + 1, stepsize)\n",
    "\n",
    "    power_dist = np.empty((len(sample_sizes), 3))\n",
    "    for i in range(0, len(sample_sizes)):\n",
    "        N = sample_sizes[i]\n",
    "        control_data = data[0:N]\n",
    "        variant_data = control_data * relative_effect\n",
    "\n",
    "        significance_tresults = []\n",
    "        significance_uresults = []\n",
    "        for j in range(0, sims):\n",
    "            # Randomly allocate the sample data to the control and variant\n",
    "            rv = binom.rvs(1, 0.5, size=N)\n",
    "            control_sample = control_data[rv == True]\n",
    "            variant_sample = variant_data[rv == False]\n",
    "\n",
    "            # Calculate Welch's t-test and Mann-Whitney U-test\n",
    "            ttest_result = ttest_ind(\n",
    "                control_sample,\n",
    "                variant_sample,\n",
    "                alternative=alternative_t,\n",
    "                usevar=\"unequal\",\n",
    "            )\n",
    "            utest_result = mannwhitneyu(\n",
    "                control_sample, variant_sample, alternative=alternative_u\n",
    "            )\n",
    "\n",
    "            # Test for significance and calculate power\n",
    "            significance_tresults.append(ttest_result[1] <= alpha)\n",
    "            tpower = np.mean(significance_tresults)\n",
    "            significance_uresults.append(utest_result[1] <= alpha)\n",
    "            upower = np.mean(significance_uresults)\n",
    "\n",
    "        # Store results for sample size i\n",
    "        power_dist[i,] = [N, tpower, upower]\n",
    "\n",
    "    # Convert to dataframe and keep results for selected tests\n",
    "    power_dist = pd.DataFrame(power_dist, columns=[\"sample_size\", \"t\", \"u\"])\n",
    "    power_dist = power_dist.melt(\n",
    "        id_vars=\"sample_size\",\n",
    "        value_vars=[\"t\", \"u\"],\n",
    "        var_name=\"test\",\n",
    "        value_name=\"power\",\n",
    "    )\n",
    "    power_dist = power_dist[power_dist[\"test\"].isin(tests)]\n",
    "    labels = {\"t\": \"MC Simulation t-test\", \"u\": \"MC Simulation MWW U-test\"}\n",
    "    power_dist[\"test\"].replace(labels, inplace=True)\n",
    "\n",
    "    return power_dist\n",
    "\n",
    "\n",
    "def plot_power_graph(data, x=\"sample_size\", y=\"power\", color=\"test\", hline_pos=\"0.8\"):\n",
    "    \"\"\"\n",
    "    Creates a standardised power graph\n",
    "\n",
    "    Parameters\n",
    "    ----------\n",
    "    data : dataframe (required)\n",
    "        name of dataframe\n",
    "    x : string (optional)\n",
    "        name of x coordinate (sample size), default is 'sample_size'\n",
    "    y : string (optional)\n",
    "        name of y coordinate (power), default is 'power'\n",
    "    color : string (optional)\n",
    "        name of variable for color encoding, default is 'test'\n",
    "    hline_pos : str of float (optional)\n",
    "        position of horizontal line to indicate target power level, default is '0.8'\n",
    "\n",
    "    Returns\n",
    "    -------\n",
    "    Altair plot: A plot showing level of power for each sample size for each test.\n",
    "    \"\"\"\n",
    "    dots = (\n",
    "        alt.Chart(data)\n",
    "        .mark_point()\n",
    "        .encode(\n",
    "            x=alt.X(x, axis=alt.Axis(title=\"Sample size\")),\n",
    "            y=alt.Y(y, axis=alt.Axis(title=\"Power\")),\n",
    "            color=alt.Color(color, legend=alt.Legend(title=\"\")),\n",
    "        )\n",
    "    )\n",
    "\n",
    "    loess = dots.transform_loess(x, y, groupby=[color]).mark_line()\n",
    "\n",
    "    hline = (\n",
    "        alt.Chart(data)\n",
    "        .mark_rule(color=\"red\")\n",
    "        .encode(\n",
    "            y=alt.Y(\"a:Q\", axis=alt.Axis(title=\"\")),\n",
    "        )\n",
    "        .transform_calculate(a=hline_pos)\n",
    "    )\n",
    "\n",
    "    return dots + loess + hline"
   ]
  },
  {
   "cell_type": "code",
   "execution_count": 119,
   "id": "2bc7055f-5f48-4144-8288-39058e70bffe",
   "metadata": {
    "tags": []
   },
   "outputs": [
    {
     "name": "stderr",
     "output_type": "stream",
     "text": [
      "/Users/fabian.gunzinger/.pyenv/versions/3.10.8/envs/wow/lib/python3.10/site-packages/altair/utils/core.py:317: FutureWarning: iteritems is deprecated and will be removed in a future version. Use .items instead.\n",
      "  for col_name, dtype in df.dtypes.iteritems():\n"
     ]
    },
    {
     "data": {
      "text/html": [
       "\n",
       "<div id=\"altair-viz-016d5741ac754de986c56b56436ee047\"></div>\n",
       "<script type=\"text/javascript\">\n",
       "  var VEGA_DEBUG = (typeof VEGA_DEBUG == \"undefined\") ? {} : VEGA_DEBUG;\n",
       "  (function(spec, embedOpt){\n",
       "    let outputDiv = document.currentScript.previousElementSibling;\n",
       "    if (outputDiv.id !== \"altair-viz-016d5741ac754de986c56b56436ee047\") {\n",
       "      outputDiv = document.getElementById(\"altair-viz-016d5741ac754de986c56b56436ee047\");\n",
       "    }\n",
       "    const paths = {\n",
       "      \"vega\": \"https://cdn.jsdelivr.net/npm//vega@5?noext\",\n",
       "      \"vega-lib\": \"https://cdn.jsdelivr.net/npm//vega-lib?noext\",\n",
       "      \"vega-lite\": \"https://cdn.jsdelivr.net/npm//vega-lite@4.17.0?noext\",\n",
       "      \"vega-embed\": \"https://cdn.jsdelivr.net/npm//vega-embed@6?noext\",\n",
       "    };\n",
       "\n",
       "    function maybeLoadScript(lib, version) {\n",
       "      var key = `${lib.replace(\"-\", \"\")}_version`;\n",
       "      return (VEGA_DEBUG[key] == version) ?\n",
       "        Promise.resolve(paths[lib]) :\n",
       "        new Promise(function(resolve, reject) {\n",
       "          var s = document.createElement('script');\n",
       "          document.getElementsByTagName(\"head\")[0].appendChild(s);\n",
       "          s.async = true;\n",
       "          s.onload = () => {\n",
       "            VEGA_DEBUG[key] = version;\n",
       "            return resolve(paths[lib]);\n",
       "          };\n",
       "          s.onerror = () => reject(`Error loading script: ${paths[lib]}`);\n",
       "          s.src = paths[lib];\n",
       "        });\n",
       "    }\n",
       "\n",
       "    function showError(err) {\n",
       "      outputDiv.innerHTML = `<div class=\"error\" style=\"color:red;\">${err}</div>`;\n",
       "      throw err;\n",
       "    }\n",
       "\n",
       "    function displayChart(vegaEmbed) {\n",
       "      vegaEmbed(outputDiv, spec, embedOpt)\n",
       "        .catch(err => showError(`Javascript Error: ${err.message}<br>This usually means there's a typo in your chart specification. See the javascript console for the full traceback.`));\n",
       "    }\n",
       "\n",
       "    if(typeof define === \"function\" && define.amd) {\n",
       "      requirejs.config({paths});\n",
       "      require([\"vega-embed\"], displayChart, err => showError(`Error loading script: ${err.message}`));\n",
       "    } else {\n",
       "      maybeLoadScript(\"vega\", \"5\")\n",
       "        .then(() => maybeLoadScript(\"vega-lite\", \"4.17.0\"))\n",
       "        .then(() => maybeLoadScript(\"vega-embed\", \"6\"))\n",
       "        .catch(showError)\n",
       "        .then(() => displayChart(vegaEmbed));\n",
       "    }\n",
       "  })({\"config\": {\"view\": {\"continuousWidth\": 400, \"continuousHeight\": 300}}, \"layer\": [{\"mark\": \"point\", \"encoding\": {\"color\": {\"field\": \"test\", \"legend\": {\"title\": \"\"}, \"type\": \"nominal\"}, \"x\": {\"axis\": {\"title\": \"Sample size\"}, \"field\": \"sample_size\", \"type\": \"quantitative\"}, \"y\": {\"axis\": {\"title\": \"Power\"}, \"field\": \"power\", \"type\": \"quantitative\"}}}, {\"mark\": \"line\", \"encoding\": {\"color\": {\"field\": \"test\", \"legend\": {\"title\": \"\"}, \"type\": \"nominal\"}, \"x\": {\"axis\": {\"title\": \"Sample size\"}, \"field\": \"sample_size\", \"type\": \"quantitative\"}, \"y\": {\"axis\": {\"title\": \"Power\"}, \"field\": \"power\", \"type\": \"quantitative\"}}, \"transform\": [{\"loess\": \"power\", \"on\": \"sample_size\", \"groupby\": [\"test\"]}]}, {\"mark\": {\"type\": \"rule\", \"color\": \"red\"}, \"encoding\": {\"y\": {\"axis\": {\"title\": \"\"}, \"field\": \"a\", \"type\": \"quantitative\"}}, \"transform\": [{\"calculate\": \"0.8\", \"as\": \"a\"}]}], \"data\": {\"name\": \"data-ab274dc619daa135a032d2b2464513d8\"}, \"$schema\": \"https://vega.github.io/schema/vega-lite/v4.17.0.json\", \"datasets\": {\"data-ab274dc619daa135a032d2b2464513d8\": [{\"sample_size\": 100.0, \"test\": \"MC Simulation MWW U-test\", \"power\": 0.15}, {\"sample_size\": 600.0, \"test\": \"MC Simulation MWW U-test\", \"power\": 0.1}, {\"sample_size\": 1100.0, \"test\": \"MC Simulation MWW U-test\", \"power\": 0.2}, {\"sample_size\": 1600.0, \"test\": \"MC Simulation MWW U-test\", \"power\": 0.25}, {\"sample_size\": 2100.0, \"test\": \"MC Simulation MWW U-test\", \"power\": 0.15}, {\"sample_size\": 2600.0, \"test\": \"MC Simulation MWW U-test\", \"power\": 0.15}, {\"sample_size\": 3100.0, \"test\": \"MC Simulation MWW U-test\", \"power\": 0.3}, {\"sample_size\": 3600.0, \"test\": \"MC Simulation MWW U-test\", \"power\": 0.3}, {\"sample_size\": 4100.0, \"test\": \"MC Simulation MWW U-test\", \"power\": 0.3}, {\"sample_size\": 4600.0, \"test\": \"MC Simulation MWW U-test\", \"power\": 0.35}, {\"sample_size\": 5100.0, \"test\": \"MC Simulation MWW U-test\", \"power\": 0.4}, {\"sample_size\": 5600.0, \"test\": \"MC Simulation MWW U-test\", \"power\": 0.45}, {\"sample_size\": 6100.0, \"test\": \"MC Simulation MWW U-test\", \"power\": 0.4}, {\"sample_size\": 6600.0, \"test\": \"MC Simulation MWW U-test\", \"power\": 0.45}, {\"sample_size\": 7100.0, \"test\": \"MC Simulation MWW U-test\", \"power\": 0.4}, {\"sample_size\": 7600.0, \"test\": \"MC Simulation MWW U-test\", \"power\": 0.5}, {\"sample_size\": 8100.0, \"test\": \"MC Simulation MWW U-test\", \"power\": 0.65}, {\"sample_size\": 8600.0, \"test\": \"MC Simulation MWW U-test\", \"power\": 0.65}, {\"sample_size\": 9100.0, \"test\": \"MC Simulation MWW U-test\", \"power\": 0.65}, {\"sample_size\": 9600.0, \"test\": \"MC Simulation MWW U-test\", \"power\": 0.4}, {\"sample_size\": 10100.0, \"test\": \"MC Simulation MWW U-test\", \"power\": 0.6}, {\"sample_size\": 10600.0, \"test\": \"MC Simulation MWW U-test\", \"power\": 0.85}, {\"sample_size\": 11100.0, \"test\": \"MC Simulation MWW U-test\", \"power\": 0.75}, {\"sample_size\": 11600.0, \"test\": \"MC Simulation MWW U-test\", \"power\": 0.8}, {\"sample_size\": 12100.0, \"test\": \"MC Simulation MWW U-test\", \"power\": 0.85}, {\"sample_size\": 12600.0, \"test\": \"MC Simulation MWW U-test\", \"power\": 0.65}, {\"sample_size\": 13100.0, \"test\": \"MC Simulation MWW U-test\", \"power\": 0.9}, {\"sample_size\": 13600.0, \"test\": \"MC Simulation MWW U-test\", \"power\": 0.85}, {\"sample_size\": 14100.0, \"test\": \"MC Simulation MWW U-test\", \"power\": 0.85}, {\"sample_size\": 14600.0, \"test\": \"MC Simulation MWW U-test\", \"power\": 0.85}, {\"sample_size\": 15100.0, \"test\": \"MC Simulation MWW U-test\", \"power\": 0.9}, {\"sample_size\": 15600.0, \"test\": \"MC Simulation MWW U-test\", \"power\": 0.75}, {\"sample_size\": 16100.0, \"test\": \"MC Simulation MWW U-test\", \"power\": 0.65}, {\"sample_size\": 16600.0, \"test\": \"MC Simulation MWW U-test\", \"power\": 0.9}, {\"sample_size\": 17100.0, \"test\": \"MC Simulation MWW U-test\", \"power\": 0.9}, {\"sample_size\": 17600.0, \"test\": \"MC Simulation MWW U-test\", \"power\": 0.85}, {\"sample_size\": 18100.0, \"test\": \"MC Simulation MWW U-test\", \"power\": 0.9}, {\"sample_size\": 18600.0, \"test\": \"MC Simulation MWW U-test\", \"power\": 0.8}, {\"sample_size\": 19100.0, \"test\": \"MC Simulation MWW U-test\", \"power\": 0.85}, {\"sample_size\": 19600.0, \"test\": \"MC Simulation MWW U-test\", \"power\": 0.8}]}}, {\"mode\": \"vega-lite\"});\n",
       "</script>"
      ],
      "text/plain": [
       "alt.LayerChart(...)"
      ]
     },
     "execution_count": 119,
     "metadata": {},
     "output_type": "execute_result"
    }
   ],
   "source": [
    "sample_size = 20_000\n",
    "step_size = 500\n",
    "newdata = norm.rvs(loc=20, scale=12, size=sample_size)\n",
    "data = get_power_dist(newdata, 100, sample_size, step_size, tests=['u'])\n",
    "plot_power_graph(data)"
   ]
  },
  {
   "cell_type": "code",
   "execution_count": null,
   "id": "101086d8-f607-4293-9fd5-215401bc8ada",
   "metadata": {},
   "outputs": [],
   "source": []
  }
 ],
 "metadata": {
  "kernelspec": {
   "display_name": "wow-env",
   "language": "python",
   "name": "wow-env"
  },
  "language_info": {
   "codemirror_mode": {
    "name": "ipython",
    "version": 3
   },
   "file_extension": ".py",
   "mimetype": "text/x-python",
   "name": "python",
   "nbconvert_exporter": "python",
   "pygments_lexer": "ipython3",
   "version": "3.10.8"
  }
 },
 "nbformat": 4,
 "nbformat_minor": 5
}
