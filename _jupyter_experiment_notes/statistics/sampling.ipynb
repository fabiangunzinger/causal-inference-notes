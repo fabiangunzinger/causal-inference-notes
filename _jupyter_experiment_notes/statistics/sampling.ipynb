{
 "cells": [
  {
   "cell_type": "code",
   "execution_count": 7,
   "id": "2d2e6b55-ef1d-4604-a1e5-fbad6316b9da",
   "metadata": {},
   "outputs": [],
   "source": [
    "import matplotlib.pyplot as plt\n",
    "import numpy as np\n",
    "import pandas as pd\n",
    "import seaborn as sns\n",
    "from scipy import stats\n",
    "from statsmodels.api import ProbPlot\n",
    "\n",
    "%config InlineBackend.figure_format ='retina'\n",
    "\n",
    "sns.set_style(\"whitegrid\")"
   ]
  },
  {
   "cell_type": "markdown",
   "id": "b740483c-cff1-41b4-8c17-c2d527b1fc8f",
   "metadata": {},
   "source": [
    "# Sampling"
   ]
  },
  {
   "cell_type": "markdown",
   "id": "31e26755-98f9-47f6-9492-06d02a90a88c",
   "metadata": {},
   "source": [
    "My notes from working through section 2, data and sampling distributions, of [Practical statistics for data science](https://learning.oreilly.com/library/view/practical-statistics-for/9781492072935/), to revise consepts and get comfortable implementing them in Python."
   ]
  },
  {
   "cell_type": "markdown",
   "id": "9d356170-c5f5-4b63-baf8-5d1baaee6313",
   "metadata": {},
   "source": [
    "## Sampling\n",
    "\n",
    "- We rely on a sample to learn about a larger population.\n",
    "- We thus need to make sure that the sampling procedure is free of bias, so that units in the sample are representative of those in the population.\n",
    "- While representativeness cannot be achieved perfectly, it's important to ensure that non-representativeness is due to random error and not due to systematic bias.\n",
    "- Random errors produce deviations that vary over repeated samples, while systematic bias persists. Such selection bias can lead to misleading and ephemeral conclusions.\n",
    "- Two basic sampling procedures are simple random sampling (randomly select $n$ units from a population of $N$) and stratified random sampling (randomly select $n_s$ from each stratum $S$ of a population of $N$).\n",
    "- The mean outcome of the sample is denoted $\\bar{x}$; that of the population, $\\mu$."
   ]
  },
  {
   "cell_type": "markdown",
   "id": "1f908e6c-512d-41b0-9811-20dea4eea212",
   "metadata": {},
   "source": [
    "## Selection bias\n",
    "\n",
    "Common types of selection bias in data science:\n",
    "- The vast search effect (using the data to answer many questions will eventually reveal something interesting by mere chance -- if 20,000 people flip a coin 10 times, some will have 10 straight heads)\n",
    "- Nonrandom sampling\n",
    "- Cherry-picking data\n",
    "- Selecting specific time-intervals\n",
    "- Stopping experiments prematurely\n",
    "- Regression to the mean (occurs in settings where we measure outcomes repeatedly over time and where luck and skill combine to determine outcomes, since winners of one period will be less lucky next period and perform closer to the mean performer)\n",
    "\n",
    "Ways to guard against selection bias:\n",
    "- have one or many holdout datasets to confirm your results. "
   ]
  },
  {
   "cell_type": "markdown",
   "id": "c96845aa-2fdd-4a45-acf1-025db4705f08",
   "metadata": {},
   "source": [
    "## Sampling distributions\n",
    "\n",
    "- A sampling distribution is the distribution of a statistic (e.g. the mean) over many repeated samples. Classical statistics is much concerned with making inferences from samples about the population based on such statistics.\n",
    "- When we measure an attribute of the population based on a sample using a statistic, the result will vary over repeated samples. To capture by how much it varies, we are concerned with the sampling variability.\n",
    "\n",
    "- Key distinctions:\n",
    "    - The data distribution is the distribution of the data in the sample, and its spread is measured by the standard deviation.\n",
    "    - The sampling distribution is the distribution of the sample statistic, and its spread is measured by the standard error."
   ]
  },
  {
   "cell_type": "code",
   "execution_count": 4,
   "id": "f6698d0c-7540-4352-aab8-8393cc16fa14",
   "metadata": {},
   "outputs": [
    {
     "data": {
      "image/png": "[encoded data removed]",
      "text/plain": [
       "<Figure size 864x216 with 4 Axes>"
      ]
     },
     "metadata": {
      "image/png": {
       "height": 210,
       "width": 857
      }
     },
     "output_type": "display_data"
    }
   ],
   "source": [
    "rng = np.random.default_rng(2312)\n",
    "\n",
    "\n",
    "def means(data, sample_size, num_means=1000):\n",
    "    return rng.choice(data, (sample_size, num_means)).mean(0)\n",
    "\n",
    "\n",
    "# Create dataset with population and sample data\n",
    "data = pd.DataFrame({\"Population\": rng.normal(size=1_000_000)})\n",
    "for n in [10, 100, 1000]:\n",
    "    data = data.join(\n",
    "        pd.Series(means(data.Population, n), name=f\"Means of samples of {n}\")\n",
    "    )\n",
    "data = data.melt()\n",
    "\n",
    "\n",
    "g = sns.FacetGrid(data, col=\"variable\")\n",
    "g.map(sns.histplot, \"value\", bins=40, stat=\"percent\")\n",
    "g.set_axis_labels(\"Value\", \"Count\")\n",
    "g.set_titles(\"{col_name}\");"
   ]
  },
  {
   "cell_type": "markdown",
   "id": "514f0388-cbc8-4ca3-8e2a-aeb6ccf43a2c",
   "metadata": {},
   "source": [
    "Plots show that:\n",
    "- Data distribution has larger spread than sampling distributions (each data point is a special case of a sample with n = 1)\n",
    "- The spread of sampling distributions decreases with increasing sample size"
   ]
  },
  {
   "cell_type": "markdown",
   "id": "b95d1d8b-fd90-408f-8287-45a7ad7bdbf1",
   "metadata": {},
   "source": [
    "## Law of large numbers and central limit theorem\n",
    "\n",
    "- Suppose that we have a sequence of independent and identically distributed (iid) random variables $\\{x_1, ..., x_n\\}$ drawn from a distribution with expected value $\\mu$ and finite variance $\\sigma^2$, and we are interested in the mean value $\\bar{x} = \\frac{x_1 + ... + x_n}{n}$.\n",
    "\n",
    "- The law or large numbers states that $\\bar{x}$ converges to $\\mu$ as we increase the sample size. Formally: \n",
    "\n",
    "$$\n",
    "\\bar{x} \\rightarrow \\mu \\text{ as } n \\rightarrow \\infty.\n",
    "$$\n",
    "\n",
    "- The (classical, Lindeberg-Lévy) central limit theorem describes the spread of the sampling distribution of $\\bar{x}$ around $\\mu$ during this convergence. In particular, it states that for large enough $n$, the distribution of $\\bar{x}$ will be close to a normal distribution with mean $\\mu$ and variance $\\sigma^2/n$. The above figures are a visual representation of this. Formally:\n",
    "\n",
    "$$\n",
    "\\lim _{n\\to\\infty} \\sqrt{n}(\\bar{x} - \\mu) \\rightarrow \\mathcal{N}\\left(0,\\sigma ^{2}\\right).\n",
    "$$\n",
    "\n",
    "- This is useful because it means that irrespective of the underlying distribution (i.e. the distribution of the values in our sequence above), we can use the normal distribution and approximations to it (such as the t-distribution) to calculate sample distributions when we do inference. Because of this, the CLT is at the heart of the theory of hypothesis testing and confidence intervals, and thus of much of classical statistics.\n",
    "\n",
    "- For experiments, this means that our estiamted treatment effect is normally distributed, which is what allows us to draw inferences from our experimental setting ot the population as a whole. The CLT is thus at the heart of the experimental approach.\n",
    "\n",
    "- The CLT also explains the prevalence of the normal distribution in the natural world. Many characteristics of living things we observe and measure are the sum of the additive effects of many genetic and environmental factors, so their distribution tends to be normal."
   ]
  },
  {
   "cell_type": "markdown",
   "id": "b94bbc2f-b6b9-4d6f-bf62-f90bf34c5049",
   "metadata": {},
   "source": [
    "## Standard error\n",
    "\n",
    "- The standard error is a measure for the variability of the sampling distribution. \n",
    "- It is related to the standard deviation of the observations, $\\sigma$ and the sample size $n$ in the following way:\n",
    "\n",
    "$$\n",
    "se = \\frac{\\sigma}{\\sqrt{n}}\n",
    "$$\n",
    "\n",
    "- The relationship between sample size and se is sometimes called the \"Square-root of n rule\", since reducing the $se$ by a factor of 2 requires an increase in the sample size by a factor of 4."
   ]
  },
  {
   "cell_type": "markdown",
   "id": "c8658a24-52eb-463d-9a56-8a60df43b2f2",
   "metadata": {},
   "source": [
    "Derivation:\n",
    "\n",
    "The sum of a sequence of independent random variables is:\n",
    "\n",
    "$$\n",
    "T = (x_1 + x_2 + ... + x_n)\n",
    "$$\n",
    "\n",
    "Which has variance\n",
    "\n",
    "$$\n",
    "Var(T) = Var(x_1) + Var(x_2) + ... + Var(x_n) = n\\sigma^2$$\n",
    "\n",
    "and mean\n",
    "\n",
    "$$\n",
    "\\bar{x} = T/n.\n",
    "$$\n",
    "\n",
    "The variance of $\\bar{x}$ is then given by:\n",
    "\n",
    "$$\n",
    "Var(\\bar{x}) = Var\\left(\\frac{T}{n}\\right) = \\frac{1}{n^2}Var(T) = \\frac{1}{n^2}n\\sigma^2 = \\frac{\\sigma^2}{n}.\n",
    "$$\n",
    "\n",
    "The standard error is defined as the standard deviation of $\\bar{x}$, and is thus\n",
    "\n",
    "$$\n",
    "se(\\bar{x}) = \\sqrt{Var(\\bar{x})} = \\frac{\\sigma}{\\sqrt{n}}.\n",
    "$$\n",
    "\n",
    "\n"
   ]
  },
  {
   "cell_type": "markdown",
   "id": "ff6dc140-c910-4bf1-950d-5ebe841801d6",
   "metadata": {},
   "source": [
    "## Degrees of freedom\n",
    "\n",
    "- The number of parameters you had to estimate en route to calculate the desired statistic ([source](http://onlinestatbook.com/2/estimation/df.html)). If you calculate sample variance with an estimated mean rather than a known mean, you have to estimate the sample mean first and thus loose 1 degree of freedom. Hence, you'd divide the sum of squared deviations from the (estimated) mean by n-1 rather than n."
   ]
  },
  {
   "cell_type": "markdown",
   "id": "f9202da4-85b1-44b2-8157-b19ee79b2f2d",
   "metadata": {},
   "source": [
    "## Bootstrap\n",
    "\n",
    "- In practice, we often use the bootstrap to calculate standard errors of model parameters or statistics.\n",
    "- Conceptually, the bootstrap works as follows: 1) we draw an original sample and calculate our statistic, 2) we then create a blown-up version of that sample by duplicating it many times, 3) we then draw repeated samples from the large sample, recalculate our statistic, and calculate the standard deviation of these statistics to get the standard error.\n",
    "- To achieve this easily, we can skip step 2) by simply sampling with replacement from the original distribution in step 3).\n",
    "- The full procedure makes clear what the bootstrap results tell us, however: they tell us how lots of additional samples would behave if they were drawn from a population like our original sample.\n",
    "- Hence, if the original sample is not representative of the population of interest, then bootstrap results are not informative about that population either.\n",
    "- The bootstrap can also be used to improve the performance of classification or regression trees by fitting multiple trees on bootstrapped sample and then averaging their predictions. This is called \"bagging\", short for \"bootstrap aggregating\".\n"
   ]
  },
  {
   "cell_type": "code",
   "execution_count": 47,
   "id": "6f70e424-f7a5-4662-8c5e-62a02137d8a5",
   "metadata": {},
   "outputs": [
    {
     "name": "stdout",
     "output_type": "stream",
     "text": [
      "Population mean:     2.999\n",
      "Sample mean:         2.999\n",
      "Bootstrap mean:      2.999\n",
      "Bootstrap se:        0.161\n"
     ]
    }
   ],
   "source": [
    "from sklearn.utils import resample\n",
    "\n",
    "rng = np.random.default_rng(2312)\n",
    "\n",
    "population = rng.normal(3, 5, 1_000_000)\n",
    "sample = rng.choice(population, 1000)\n",
    "resample_means = pd.Series(resample(sample).mean() for _ in range(1000))\n",
    "\n",
    "print(f\"{'Population mean:':20} {np.mean(population):.3f}\")\n",
    "print(f\"{'Sample mean:':20} {np.mean(sample):.3f}\")\n",
    "print(f\"{'Bootstrap mean:':20} {np.mean(resample_means.mean()):.3f}\")\n",
    "print(f\"{'Bootstrap se:':20} {np.mean(resample_means.std()):.3f}\")"
   ]
  },
  {
   "cell_type": "markdown",
   "id": "86190931-5059-47d5-b794-c8a33e7a25b5",
   "metadata": {},
   "source": [
    "## Confidence intervals\n",
    "\n",
    "- A CI is another way to learn about the variability of a test statistic. \n",
    "- It can be calculated using the (standard) normal distribution or the t-distribution (if sample sizes are small).\n",
    "- But for data science purposes we can compute an x-percent CI from the bootstrap, following this algorithm: 1) Draw a large number of bootstrap samples and calculate the statistic of interest, 2) Trim [(100-x)/2] percent of the bootstrap results on either end of the distribution, 3) the trim points are the end point of the CI."
   ]
  }
 ],
 "metadata": {
  "kernelspec": {
   "display_name": "sandbox",
   "language": "python",
   "name": "sandbox"
  },
  "language_info": {
   "codemirror_mode": {
    "name": "ipython",
    "version": 3
   },
   "file_extension": ".py",
   "mimetype": "text/x-python",
   "name": "python",
   "nbconvert_exporter": "python",
   "pygments_lexer": "ipython3",
   "version": "3.10.8"
  }
 },
 "nbformat": 4,
 "nbformat_minor": 5
}
