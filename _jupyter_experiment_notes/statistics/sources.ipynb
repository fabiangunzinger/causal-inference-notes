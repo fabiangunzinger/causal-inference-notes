{
 "cells": [
  {
   "cell_type": "markdown",
   "id": "dc5991bf-2e7f-440d-b065-d4a8be470e7e",
   "metadata": {},
   "source": [
    "# Sources\n",
    "\n",
    "- [ThinkStats](https://greenteapress.com/wp/think-stats-2e/)."
   ]
  },
  {
   "cell_type": "code",
   "execution_count": null,
   "id": "80b34072-3255-4353-b282-58a6a7f17224",
   "metadata": {},
   "outputs": [],
   "source": []
  }
 ],
 "metadata": {
  "kernelspec": {
   "display_name": "wow",
   "language": "python",
   "name": "wow"
  },
  "language_info": {
   "codemirror_mode": {
    "name": "ipython",
    "version": 3
   },
   "file_extension": ".py",
   "mimetype": "text/x-python",
   "name": "python",
   "nbconvert_exporter": "python",
   "pygments_lexer": "ipython3",
   "version": "3.10.4"
  }
 },
 "nbformat": 4,
 "nbformat_minor": 5
}
