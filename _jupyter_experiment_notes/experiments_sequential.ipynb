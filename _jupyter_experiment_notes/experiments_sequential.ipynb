{
 "cells": [
  {
   "cell_type": "markdown",
   "id": "fa3d1c8d-f8b2-4661-ab75-602f2c967825",
   "metadata": {},
   "source": [
    "## Sequential experiments\n",
    "\n",
    "Based on [this](https://deliveroo.engineering/2018/10/22/how-to-experiment-rapidly-without-losing-rigour.html) blog post from deliveroo engineering and [this](https://www.analytics-toolkit.com/pdf/Efficient_AB_Testing_in_Conversion_Rate_Optimization_-_The_AGILE_Statistical_Method_2017.pdf) paper referenced therein.\n",
    "\n",
    "- In practice, the above has two main consequences: detecting small effects requires large samples and thus long experiments (if we can increase sample size by running the experiment for longer), and the minimal detectable effect we decide to callibrate the experiment for is crucially important, even if we might not have a good sense of what the effect of the treatment is.\n",
    "- Sequential testing allows us to check for results along the way and stop the experiment early in case the effect is much larger (or smaller) than expected while accounting for multiple comparisons.\n",
    "\n",
    "- The main idea is to use the idea of a family-wise error-rate (the error rate of concucting a family rather than a single hyopthesis test) and applying it to conducting hypothesis tests at different points in time."
   ]
  }
 ],
 "metadata": {
  "kernelspec": {
   "display_name": "wow",
   "language": "python",
   "name": "wow"
  },
  "language_info": {
   "codemirror_mode": {
    "name": "ipython",
    "version": 3
   },
   "file_extension": ".py",
   "mimetype": "text/x-python",
   "name": "python",
   "nbconvert_exporter": "python",
   "pygments_lexer": "ipython3",
   "version": "3.10.4"
  }
 },
 "nbformat": 4,
 "nbformat_minor": 5
}
