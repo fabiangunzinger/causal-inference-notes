{
 "cells": [
  {
   "cell_type": "markdown",
   "metadata": {},
   "source": [
    "# CUPED questions\n",
    "\n",
    "- Understand a number of aspects of CUPED\n",
    "\n",
    "- How does it compare to regadjustment\n",
    "\n",
    "- Adding a mean or not?"
   ]
  },
  {
   "cell_type": "code",
   "execution_count": 1,
   "metadata": {},
   "outputs": [],
   "source": [
    "from decimal import Decimal\n",
    "\n",
    "import numpy as np\n",
    "import pandas as pd\n",
    "import statsmodels.formula.api as smf\n",
    "\n",
    "import src.helpers as hp\n",
    "\n",
    "%load_ext autoreload\n",
    "%autoreload 2\n"
   ]
  },
  {
   "cell_type": "markdown",
   "metadata": {},
   "source": [
    "Load example data"
   ]
  },
  {
   "cell_type": "code",
   "execution_count": 2,
   "metadata": {},
   "outputs": [
    {
     "data": {
      "text/html": [
       "<div>\n",
       "<style scoped>\n",
       "    .dataframe tbody tr th:only-of-type {\n",
       "        vertical-align: middle;\n",
       "    }\n",
       "\n",
       "    .dataframe tbody tr th {\n",
       "        vertical-align: top;\n",
       "    }\n",
       "\n",
       "    .dataframe thead th {\n",
       "        text-align: right;\n",
       "    }\n",
       "</style>\n",
       "<table border=\"1\" class=\"dataframe\">\n",
       "  <thead>\n",
       "    <tr style=\"text-align: right;\">\n",
       "      <th></th>\n",
       "      <th>user_id</th>\n",
       "      <th>order_price</th>\n",
       "      <th>order_price_pre</th>\n",
       "      <th>t</th>\n",
       "    </tr>\n",
       "  </thead>\n",
       "  <tbody>\n",
       "    <tr>\n",
       "      <th>319393</th>\n",
       "      <td>JE:IE:1000007</td>\n",
       "      <td>23.146154</td>\n",
       "      <td>21.619444</td>\n",
       "      <td>0</td>\n",
       "    </tr>\n",
       "    <tr>\n",
       "      <th>319399</th>\n",
       "      <td>JE:IE:1000063</td>\n",
       "      <td>13.440000</td>\n",
       "      <td>21.250000</td>\n",
       "      <td>1</td>\n",
       "    </tr>\n",
       "    <tr>\n",
       "      <th>319400</th>\n",
       "      <td>JE:IE:1000064</td>\n",
       "      <td>19.245001</td>\n",
       "      <td>14.700000</td>\n",
       "      <td>0</td>\n",
       "    </tr>\n",
       "    <tr>\n",
       "      <th>319401</th>\n",
       "      <td>JE:IE:1000071</td>\n",
       "      <td>22.625000</td>\n",
       "      <td>27.049999</td>\n",
       "      <td>0</td>\n",
       "    </tr>\n",
       "    <tr>\n",
       "      <th>319402</th>\n",
       "      <td>JE:IE:1000076</td>\n",
       "      <td>20.034000</td>\n",
       "      <td>20.834167</td>\n",
       "      <td>1</td>\n",
       "    </tr>\n",
       "  </tbody>\n",
       "</table>\n",
       "</div>"
      ],
      "text/plain": [
       "              user_id  order_price  order_price_pre  t\n",
       "319393  JE:IE:1000007    23.146154        21.619444  0\n",
       "319399  JE:IE:1000063    13.440000        21.250000  1\n",
       "319400  JE:IE:1000064    19.245001        14.700000  0\n",
       "319401  JE:IE:1000071    22.625000        27.049999  0\n",
       "319402  JE:IE:1000076    20.034000        20.834167  1"
      ]
     },
     "execution_count": 2,
     "metadata": {},
     "output_type": "execute_result"
    }
   ],
   "source": [
    "fp = '/Users/fabian.gunzinger/tmp/cuped_example.parquet'\n",
    "df = pd.read_parquet(fp)\n",
    "df.head()"
   ]
  },
  {
   "cell_type": "markdown",
   "metadata": {},
   "source": [
    "Simple regression model"
   ]
  },
  {
   "cell_type": "code",
   "execution_count": 3,
   "metadata": {},
   "outputs": [
    {
     "name": "stdout",
     "output_type": "stream",
     "text": [
      "==============================================================================\n",
      "                 coef    std err          t      P>|t|      [0.025      0.975]\n",
      "------------------------------------------------------------------------------\n",
      "Intercept     23.6222      0.024    972.818      0.000      23.575      23.670\n",
      "t              1.1629      0.034     33.865      0.000       1.096       1.230\n",
      "==============================================================================\n"
     ]
    }
   ],
   "source": [
    "formula = 'order_price ~ t'\n",
    "res_simpreg = smf.ols(formula, data=df).fit()\n",
    "\n",
    "t_simpreg = res_simpreg.params['t']\n",
    "int_simpreg = res_simpreg.params['Intercept']\n",
    "\n",
    "print(res_simpreg.summary().tables[1])"
   ]
  },
  {
   "cell_type": "markdown",
   "metadata": {},
   "source": [
    "Regression adjustment"
   ]
  },
  {
   "cell_type": "code",
   "execution_count": 4,
   "metadata": {},
   "outputs": [
    {
     "name": "stdout",
     "output_type": "stream",
     "text": [
      "===================================================================================\n",
      "                      coef    std err          t      P>|t|      [0.025      0.975]\n",
      "-----------------------------------------------------------------------------------\n",
      "Intercept           9.5653      0.042    228.211      0.000       9.483       9.647\n",
      "t                   1.1693      0.029     40.341      0.000       1.113       1.226\n",
      "order_price_pre     0.6033      0.002    384.477      0.000       0.600       0.606\n",
      "===================================================================================\n",
      "1.1629330328015293\n",
      "1.1693386503812886\n"
     ]
    }
   ],
   "source": [
    "formula = 'order_price ~ t + order_price_pre'\n",
    "res_multireg = smf.ols(formula, data=df).fit()\n",
    "\n",
    "t_regadjust = res_multireg.params.t\n",
    "int_regadjust = res_multireg.params.Intercept\n",
    "\n",
    "print(res_multireg.summary().tables[1])\n",
    "print(t_simpreg)\n",
    "print(t_regadjust)"
   ]
  },
  {
   "cell_type": "markdown",
   "metadata": {},
   "source": [
    "The results are almost identical but not quite. They would be if t was perfectly independent of order price which, in theory, it is but in practice it isn't."
   ]
  },
  {
   "cell_type": "code",
   "execution_count": 5,
   "metadata": {},
   "outputs": [
    {
     "data": {
      "text/html": [
       "<div>\n",
       "<style scoped>\n",
       "    .dataframe tbody tr th:only-of-type {\n",
       "        vertical-align: middle;\n",
       "    }\n",
       "\n",
       "    .dataframe tbody tr th {\n",
       "        vertical-align: top;\n",
       "    }\n",
       "\n",
       "    .dataframe thead th {\n",
       "        text-align: right;\n",
       "    }\n",
       "</style>\n",
       "<table border=\"1\" class=\"dataframe\">\n",
       "  <thead>\n",
       "    <tr style=\"text-align: right;\">\n",
       "      <th></th>\n",
       "      <th>order_price_pre</th>\n",
       "      <th>t</th>\n",
       "    </tr>\n",
       "  </thead>\n",
       "  <tbody>\n",
       "    <tr>\n",
       "      <th>order_price_pre</th>\n",
       "      <td>1.000000</td>\n",
       "      <td>-0.000575</td>\n",
       "    </tr>\n",
       "    <tr>\n",
       "      <th>t</th>\n",
       "      <td>-0.000575</td>\n",
       "      <td>1.000000</td>\n",
       "    </tr>\n",
       "  </tbody>\n",
       "</table>\n",
       "</div>"
      ],
      "text/plain": [
       "                 order_price_pre         t\n",
       "order_price_pre         1.000000 -0.000575\n",
       "t                      -0.000575  1.000000"
      ]
     },
     "execution_count": 5,
     "metadata": {},
     "output_type": "execute_result"
    }
   ],
   "source": [
    "df[['order_price_pre', 't']].corr()"
   ]
  },
  {
   "cell_type": "markdown",
   "metadata": {},
   "source": [
    "Verifying FWL\n",
    "\n",
    "- The result is perfectly identical to those from the multiple regression model, just as FWL shows. (They differ a tiny bit due to floating point precision limits)"
   ]
  },
  {
   "cell_type": "code",
   "execution_count": 58,
   "metadata": {},
   "outputs": [
    {
     "name": "stdout",
     "output_type": "stream",
     "text": [
      "==============================================================================\n",
      "                 coef    std err          t      P>|t|      [0.025      0.975]\n",
      "------------------------------------------------------------------------------\n",
      "Intercept   8.482e-14      0.014   5.85e-12      1.000      -0.028       0.028\n",
      "t_res          1.1693      0.029     40.341      0.000       1.113       1.226\n",
      "==============================================================================\n",
      "1.1693386503812886\n",
      "1.1693386503848742\n"
     ]
    }
   ],
   "source": [
    "df['order_price_res'] = smf.ols('order_price ~ order_price_pre', data=df).fit().resid\n",
    "df['t_res'] = smf.ols('t ~ order_price_pre', data=df).fit().resid\n",
    "\n",
    "formula = 'order_price_res ~ t_res'\n",
    "res_fwl = smf.ols(formula, data=df).fit()\n",
    "\n",
    "t_fwl = res_fwl.params.t_res\n",
    "int_fwl = res_fwl.params.Intercept\n",
    "\n",
    "print(res_fwl.summary().tables[1])\n",
    "print(t_regadjust)\n",
    "print(t_fwl)"
   ]
  },
  {
   "cell_type": "markdown",
   "metadata": {},
   "source": [
    "CUPED"
   ]
  },
  {
   "cell_type": "code",
   "execution_count": 85,
   "metadata": {},
   "outputs": [
    {
     "name": "stdout",
     "output_type": "stream",
     "text": [
      "==============================================================================\n",
      "                 coef    std err          t      P>|t|      [0.025      0.975]\n",
      "------------------------------------------------------------------------------\n",
      "Intercept     23.6190      0.020   1152.333      0.000      23.579      23.659\n",
      "t              1.1693      0.029     40.341      0.000       1.113       1.226\n",
      "==============================================================================\n",
      "1.1693386503812886\n",
      "1.1693382642527503\n"
     ]
    }
   ],
   "source": [
    "def cuped_adjust_with_mean(df, y, x):\n",
    "    data = df.dropna(subset=[y, x])\n",
    "    cv = np.cov([data[y], data[x]])\n",
    "    theta = cv[0, 1] / cv[1, 1]\n",
    "    y, x = data[y], data[x]\n",
    "    return (y - (x - x.mean()) * theta).fillna(y)\n",
    "\n",
    "\n",
    "df['order_price_cuped_with_mean'] = cuped_adjust_with_mean(df, 'order_price', 'order_price_pre')\n",
    "\n",
    "formula = 'order_price_cuped_with_mean ~ t'\n",
    "res_cuped_with_mean = smf.ols(formula, data=df).fit()\n",
    "\n",
    "t_cuped_with_mean = res_cuped_with_mean.params.t\n",
    "int_cuped_with_mean = res_cuped_with_mean.params.Intercept\n",
    "\n",
    "print(res_cuped_with_mean.summary().tables[1])\n",
    "print(t_regadjust)\n",
    "print(t_cuped_with_mean)"
   ]
  },
  {
   "cell_type": "markdown",
   "metadata": {},
   "source": [
    "Notice that while in regression adjustment we residualise both t and y, in cuped we only residualise y. See whether cuped is even more similar to regression result with only residualised y -- it is, as expected!"
   ]
  },
  {
   "cell_type": "code",
   "execution_count": 60,
   "metadata": {},
   "outputs": [
    {
     "name": "stdout",
     "output_type": "stream",
     "text": [
      "==============================================================================\n",
      "                 coef    std err          t      P>|t|      [0.025      0.975]\n",
      "------------------------------------------------------------------------------\n",
      "Intercept     -0.5847      0.020    -28.525      0.000      -0.625      -0.544\n",
      "t              1.1693      0.029     40.341      0.000       1.113       1.226\n",
      "==============================================================================\n",
      "1.1693382642527503\n",
      "1.169338264079783\n"
     ]
    }
   ],
   "source": [
    "formula = 'order_price_res ~ t'\n",
    "res_yresid = smf.ols(formula, data=df).fit()\n",
    "\n",
    "t_yresid = res_yresid.params.t\n",
    "int_yresid = res_yresid.params.Intercept\n",
    "\n",
    "print(res_yresid.summary().tables[1])\n",
    "print(t_cuped_with_mean)\n",
    "print(t_yresid)\n",
    "\n"
   ]
  },
  {
   "cell_type": "markdown",
   "metadata": {},
   "source": [
    "FWL with added mean\n",
    "\n",
    "- In FWL we loose intercept. Let's add means to add it back."
   ]
  },
  {
   "cell_type": "code",
   "execution_count": null,
   "metadata": {},
   "outputs": [
    {
     "name": "stdout",
     "output_type": "stream",
     "text": [
      "===================================================================================\n",
      "                      coef    std err          t      P>|t|      [0.025      0.975]\n",
      "-----------------------------------------------------------------------------------\n",
      "Intercept          23.6190      0.020   1152.333      0.000      23.579      23.659\n",
      "t_res_with_mean     1.1693      0.029     40.341      0.000       1.113       1.226\n",
      "===================================================================================\n",
      "1.169338650384866\n",
      "1.1693386503848742\n"
     ]
    }
   ],
   "source": [
    "df['order_price_res_with_mean'] = (\n",
    "    smf.ols('order_price ~ order_price_pre', data=df).fit().resid + df.order_price.mean()\n",
    ")\n",
    "df['t_res_with_mean'] = smf.ols('t ~ order_price_pre', data=df).fit().resid + df.t.mean()\n",
    "\n",
    "formula = 'order_price_res_with_mean ~ t_res_with_mean'\n",
    "res_fwl_with_mean = smf.ols(formula, data=df).fit()\n",
    "print(res_fwl_with_mean.summary().tables[1])\n",
    "\n",
    "t_fwl_with_mean = res_fwl_with_mean.params.t_res_with_mean\n",
    "int_fwl_with_mean = res_fwl_with_mean.params.Intercept\n",
    "\n",
    "print(t_fwl_with_mean)\n",
    "print(t_fwl)\n",
    "\n"
   ]
  },
  {
   "cell_type": "markdown",
   "metadata": {},
   "source": [
    "CUPED with no mean adjustment"
   ]
  },
  {
   "cell_type": "code",
   "execution_count": null,
   "metadata": {},
   "outputs": [
    {
     "name": "stdout",
     "output_type": "stream",
     "text": [
      "==============================================================================\n",
      "                 coef    std err          t      P>|t|      [0.025      0.975]\n",
      "------------------------------------------------------------------------------\n",
      "Intercept      9.5662      0.020    466.720      0.000       9.526       9.606\n",
      "t              1.1693      0.029     40.341      0.000       1.113       1.226\n",
      "==============================================================================\n"
     ]
    }
   ],
   "source": [
    "def cuped_adjust_no_mean(df, y, x):\n",
    "    data = df.dropna(subset=[y, x])\n",
    "    cv = np.cov([data[y], data[x]])\n",
    "    theta = cv[0, 1] / cv[1, 1]\n",
    "    y, x = data[y], data[x]\n",
    "    return (y - x * theta).fillna(y)\n",
    "\n",
    "\n",
    "df['order_price_cuped_no_mean'] = cuped_adjust_no_mean(df, 'order_price', 'order_price_pre')\n",
    "\n",
    "formula = 'order_price_cuped_no_mean ~ t'\n",
    "res_cuped_no_mean = smf.ols(formula, data=df).fit()\n",
    "print(res_cuped_no_mean.summary().tables[1])\n",
    "\n",
    "t_cuped_no_mean = res_cuped_no_mean.params.t\n",
    "int_cuped_no_mean = res_cuped_no_mean.params.Intercept"
   ]
  },
  {
   "cell_type": "markdown",
   "metadata": {},
   "source": [
    "### Understanding differences in intercept"
   ]
  },
  {
   "cell_type": "code",
   "execution_count": 104,
   "metadata": {},
   "outputs": [
    {
     "name": "stdout",
     "output_type": "stream",
     "text": [
      "regadjust           : 9.56533868102738    : 1.16933865038129    \n",
      "fwl                 : 8.48211738659945e-14: 1.16933865038487    \n",
      "fwl_with_mean       : 23.6189530776169    : 1.16933865038487    \n",
      "\n",
      "cuped_no_mean       : 9.56618603498113    : 1.16933826494191    \n",
      "yresid              : -0.5846691320398    : 1.16933826407978    \n",
      "cuped_with_mean     : 23.6189535772187    : 1.16933826425275    \n"
     ]
    }
   ],
   "source": [
    "print(\"{:<20}: {:<20.15}: {:<20.15}\".format(\"regadjust\", int_regadjust, t_regadjust))\n",
    "print(\"{:<20}: {:<20.15}: {:<20.15}\".format(\"fwl\", int_fwl, t_fwl))\n",
    "print(\"{:<20}: {:<20.15}: {:<20.15}\".format(\"fwl_with_mean\", int_fwl_with_mean, t_fwl_with_mean))\n",
    "print()\n",
    "print(\"{:<20}: {:<20.15}: {:<20.15}\".format(\"cuped_no_mean\", int_cuped_no_mean, t_cuped_no_mean))\n",
    "print(\"{:<20}: {:<20.15}: {:<20.15}\".format(\"yresid\", int_yresid, t_yresid))\n",
    "print(\n",
    "    \"{:<20}: {:<20.15}: {:<20.15}\".format(\"cuped_with_mean\", int_cuped_with_mean, t_cuped_with_mean)\n",
    ")"
   ]
  },
  {
   "cell_type": "markdown",
   "metadata": {},
   "source": [
    "What do we learn from all of this?\n",
    "\n",
    "- Once we move past the fact that all results are identical for all practical purposes, we can separate the results into two blocks, which I have done. The first block is the regression adjustment results, the second block is the cuped results.\n",
    "\n",
    "- Notice how the t coefficients start to differ between the two blocks from the 7th decimal onwards and then within the blocks from the 12th (first block) and 10th (second block) decimal onwards. Notice, too, that in each block, the intercept values are 9.6, 0, 23.6.\n",
    "\n",
    "- Let's focus on the t coefficient, first.\n",
    "\n",
    "- FWL holds -- regression adjustment and residualised regression are identical except for slight differences due to flating point imprecision (FWL is a mathematically proven theorem, so of course it holds!)\n",
    "\n",
    "- Adding mean values to residualised variables has no impact whatsoever on fwl result (they are exactly identical), except for change in intercept. Will talk about this below.\n",
    "\n",
    "- Why do the CUPED results differ by more than what we can ascribe to flating point math imprecision?\n",
    "\n",
    "- Because in regression adjustment, we residualise both y and t, while in CUPED we residualise y only. Now, in theory there is no need to residualise y, because it's random and thus perfectly uncorrelated with x. But in practice, there can be a very small correlation (which we've seen above). This is what accounts for the difference.\n",
    "\n",
    "- We can verify this logic by comparing CUPED to a version of the fwl regression where we only residualise y but not t and -- sure enough -- this is virtually identical to CUPED except for the floating point imprecision.\n",
    "\n",
    "- Now, let's focus on the intercept terms. \n",
    "\n",
    "- The intercept of the regression adjustment equation is the mean of y if t and x are zero.\n",
    "\n",
    "- The mean of the fwl equation has the same interpretation, but in the process of residualising y and t we have effectively demeaned them, since the expected mean value of residuals of an ols regression is zero.\n",
    "\n",
    "- We can add the mean back on when explicitly adding it to the residualised values. Then the mean is 23.6, which is the mean value of y if t = 0.\n",
    "\n",
    "- How do the two slightly different versions of CUPED fit in here? In practice, you see two ways to perform the CUPED adjustment, one that adds the mean of x (y - theta(x - mean_x)) and one that doesn't (y - theta*x). The one that doesn't add the mean value is correct in the sense that it is the one that follows from the math, and it's the one that produces an intercept equal to that that of regression adjustment. Adding the mean produces an intercept equivalent to that of mean y if t = 0.\n",
    "\n",
    "- Why? Let's compare the adjustments:\n",
    "\n",
    "$$\n",
    "\\begin{align*}\n",
    "\\tilde{y}_i^{cuped} = y_i - \\theta(x_i - \\bar{x}) &= y_i - (\\hat{\\alpha} + \\hat{\\delta} x_i) + \\bar{y} = \\tilde{y}_i^{FWL} \\\\\n",
    "y_i - \\theta(x_i - \\bar{x}) &= y_i - (\\hat{\\alpha} + \\theta x_i) + \\bar{y} \\quad \\text{theta is delta hat}\\\\\n",
    "y_i - \\theta x_i + \\theta \\bar{x} &= y_i - \\hat{\\alpha} - \\theta x_i + \\bar{y} \\quad \\text{expanding equation}\\\\\n",
    "\\theta \\bar{x} &= \\bar{y} - \\hat{\\alpha} \\quad \\text{cancelling terms -- this is the crucial bit} \\\\\n",
    "\\hat{\\alpha}  &= \\bar{y} - \\theta \\bar{x} \\quad \\text{this is why it's true -- formula for intercept from simple reg} \\\\\n",
    "\\end{align*}\n",
    "$$\n",
    "\n",
    "- So, what is going on here? It turns out that adding $\\theta \\bar{x}$ to cuped adjusted value is exactly identical to adding $\\bar{y}$ to residualised value. Hence, doing it is simply a way to recover the intercept.\n",
    "\n",
    "- This answers a question I had earlier: how come CUPED is identical to regression adjustment even though we don't demean values in CUPED? Well, notice first that demeaning only affects the intercept, not the coefficient on t, so it's not surprising that these would be identical. Why is the intercept of not adding mean to adjustment identical to regression adjustment? tbd some other time. Last question I have to answer.\n",
    "\n",
    "- If we want to use the sample mean for reporting, then we should add the mean value.\n",
    "\n",
    "\n"
   ]
  },
  {
   "cell_type": "markdown",
   "metadata": {},
   "source": []
  }
 ],
 "metadata": {
  "kernelspec": {
   "display_name": ".venv",
   "language": "python",
   "name": "python3"
  },
  "language_info": {
   "codemirror_mode": {
    "name": "ipython",
    "version": 3
   },
   "file_extension": ".py",
   "mimetype": "text/x-python",
   "name": "python",
   "nbconvert_exporter": "python",
   "pygments_lexer": "ipython3",
   "version": "3.10.8"
  },
  "orig_nbformat": 4
 },
 "nbformat": 4,
 "nbformat_minor": 2
}
